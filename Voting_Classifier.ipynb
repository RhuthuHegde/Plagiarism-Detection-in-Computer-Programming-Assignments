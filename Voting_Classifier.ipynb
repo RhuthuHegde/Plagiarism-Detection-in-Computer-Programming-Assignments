{
  "cells": [
    {
      "cell_type": "code",
      "execution_count": null,
      "id": "social-analyst",
      "metadata": {
        "id": "social-analyst"
      },
      "outputs": [],
      "source": [
        "import pandas as pd\n",
        "import imblearn\n",
        "from collections import Counter\n",
        "data = pd.read_csv('new_dataset_with_label.csv',index_col=0)"
      ]
    },
    {
      "cell_type": "code",
      "execution_count": null,
      "id": "bizarre-summer",
      "metadata": {
        "id": "bizarre-summer",
        "outputId": "fc742eec-0adc-4ac5-cba9-5a91cc0dd4ff"
      },
      "outputs": [
        {
          "data": {
            "text/html": [
              "<div>\n",
              "<style scoped>\n",
              "    .dataframe tbody tr th:only-of-type {\n",
              "        vertical-align: middle;\n",
              "    }\n",
              "\n",
              "    .dataframe tbody tr th {\n",
              "        vertical-align: top;\n",
              "    }\n",
              "\n",
              "    .dataframe thead th {\n",
              "        text-align: right;\n",
              "    }\n",
              "</style>\n",
              "<table border=\"1\" class=\"dataframe\">\n",
              "  <thead>\n",
              "    <tr style=\"text-align: right;\">\n",
              "      <th></th>\n",
              "      <th>total_time</th>\n",
              "      <th>compiled</th>\n",
              "      <th>compiled successfully</th>\n",
              "      <th>ran_tests</th>\n",
              "      <th>test_results</th>\n",
              "      <th>modified</th>\n",
              "      <th>add_lines</th>\n",
              "      <th>change</th>\n",
              "      <th>remove_lines</th>\n",
              "      <th>cps</th>\n",
              "      <th>paste_lines</th>\n",
              "      <th>max_pastes</th>\n",
              "      <th>average_test_results</th>\n",
              "      <th>avg_paste</th>\n",
              "    </tr>\n",
              "    <tr>\n",
              "      <th>Student</th>\n",
              "      <th></th>\n",
              "      <th></th>\n",
              "      <th></th>\n",
              "      <th></th>\n",
              "      <th></th>\n",
              "      <th></th>\n",
              "      <th></th>\n",
              "      <th></th>\n",
              "      <th></th>\n",
              "      <th></th>\n",
              "      <th></th>\n",
              "      <th></th>\n",
              "      <th></th>\n",
              "      <th></th>\n",
              "    </tr>\n",
              "  </thead>\n",
              "  <tbody>\n",
              "    <tr>\n",
              "      <th>A2016\\student1013</th>\n",
              "      <td>6894752.0</td>\n",
              "      <td>1441.0</td>\n",
              "      <td>1116.0</td>\n",
              "      <td>689.0</td>\n",
              "      <td>1349.0</td>\n",
              "      <td>38441.0</td>\n",
              "      <td>12365.0</td>\n",
              "      <td>32597.0</td>\n",
              "      <td>2023.0</td>\n",
              "      <td>0.003436</td>\n",
              "      <td>5202.0</td>\n",
              "      <td>120.0</td>\n",
              "      <td>1.957910</td>\n",
              "      <td>4.553441</td>\n",
              "    </tr>\n",
              "    <tr>\n",
              "      <th>A2016\\student1016</th>\n",
              "      <td>37440.0</td>\n",
              "      <td>NaN</td>\n",
              "      <td>NaN</td>\n",
              "      <td>NaN</td>\n",
              "      <td>NaN</td>\n",
              "      <td>1.0</td>\n",
              "      <td>NaN</td>\n",
              "      <td>NaN</td>\n",
              "      <td>8.0</td>\n",
              "      <td>0.000000</td>\n",
              "      <td>NaN</td>\n",
              "      <td>NaN</td>\n",
              "      <td>NaN</td>\n",
              "      <td>NaN</td>\n",
              "    </tr>\n",
              "    <tr>\n",
              "      <th>A2016\\student1021</th>\n",
              "      <td>9363152.0</td>\n",
              "      <td>2108.0</td>\n",
              "      <td>1278.0</td>\n",
              "      <td>787.0</td>\n",
              "      <td>1605.0</td>\n",
              "      <td>58550.0</td>\n",
              "      <td>19160.0</td>\n",
              "      <td>49003.0</td>\n",
              "      <td>6105.0</td>\n",
              "      <td>0.003997</td>\n",
              "      <td>7270.0</td>\n",
              "      <td>162.0</td>\n",
              "      <td>2.039390</td>\n",
              "      <td>5.147455</td>\n",
              "    </tr>\n",
              "    <tr>\n",
              "      <th>A2016\\student1029</th>\n",
              "      <td>6949656.0</td>\n",
              "      <td>1775.0</td>\n",
              "      <td>1201.0</td>\n",
              "      <td>852.0</td>\n",
              "      <td>754.0</td>\n",
              "      <td>36461.0</td>\n",
              "      <td>15605.0</td>\n",
              "      <td>30332.0</td>\n",
              "      <td>2683.0</td>\n",
              "      <td>0.005040</td>\n",
              "      <td>7235.0</td>\n",
              "      <td>165.0</td>\n",
              "      <td>0.884977</td>\n",
              "      <td>4.840774</td>\n",
              "    </tr>\n",
              "    <tr>\n",
              "      <th>A2016\\student1066</th>\n",
              "      <td>2784368.0</td>\n",
              "      <td>338.0</td>\n",
              "      <td>223.0</td>\n",
              "      <td>449.0</td>\n",
              "      <td>810.0</td>\n",
              "      <td>13924.0</td>\n",
              "      <td>6140.0</td>\n",
              "      <td>12169.0</td>\n",
              "      <td>369.0</td>\n",
              "      <td>0.004970</td>\n",
              "      <td>3988.0</td>\n",
              "      <td>139.0</td>\n",
              "      <td>1.804009</td>\n",
              "      <td>3.470160</td>\n",
              "    </tr>\n",
              "    <tr>\n",
              "      <th>...</th>\n",
              "      <td>...</td>\n",
              "      <td>...</td>\n",
              "      <td>...</td>\n",
              "      <td>...</td>\n",
              "      <td>...</td>\n",
              "      <td>...</td>\n",
              "      <td>...</td>\n",
              "      <td>...</td>\n",
              "      <td>...</td>\n",
              "      <td>...</td>\n",
              "      <td>...</td>\n",
              "      <td>...</td>\n",
              "      <td>...</td>\n",
              "      <td>...</td>\n",
              "    </tr>\n",
              "    <tr>\n",
              "      <th>B2016\\student9946</th>\n",
              "      <td>2989136.0</td>\n",
              "      <td>311.0</td>\n",
              "      <td>127.0</td>\n",
              "      <td>220.0</td>\n",
              "      <td>335.0</td>\n",
              "      <td>15501.0</td>\n",
              "      <td>12362.0</td>\n",
              "      <td>13196.0</td>\n",
              "      <td>1776.0</td>\n",
              "      <td>0.017313</td>\n",
              "      <td>9610.0</td>\n",
              "      <td>315.0</td>\n",
              "      <td>1.522727</td>\n",
              "      <td>5.385016</td>\n",
              "    </tr>\n",
              "    <tr>\n",
              "      <th>B2016\\student9949</th>\n",
              "      <td>7787496.0</td>\n",
              "      <td>1961.0</td>\n",
              "      <td>1199.0</td>\n",
              "      <td>588.0</td>\n",
              "      <td>468.0</td>\n",
              "      <td>39601.0</td>\n",
              "      <td>9607.0</td>\n",
              "      <td>30431.0</td>\n",
              "      <td>3452.0</td>\n",
              "      <td>0.002364</td>\n",
              "      <td>3735.0</td>\n",
              "      <td>347.0</td>\n",
              "      <td>0.795918</td>\n",
              "      <td>4.929317</td>\n",
              "    </tr>\n",
              "    <tr>\n",
              "      <th>B2016\\student9972</th>\n",
              "      <td>12352640.0</td>\n",
              "      <td>5669.0</td>\n",
              "      <td>3568.0</td>\n",
              "      <td>973.0</td>\n",
              "      <td>612.0</td>\n",
              "      <td>55655.0</td>\n",
              "      <td>20719.0</td>\n",
              "      <td>47870.0</td>\n",
              "      <td>3707.0</td>\n",
              "      <td>0.004338</td>\n",
              "      <td>11067.0</td>\n",
              "      <td>232.0</td>\n",
              "      <td>0.628983</td>\n",
              "      <td>4.842414</td>\n",
              "    </tr>\n",
              "    <tr>\n",
              "      <th>B2016\\student9979</th>\n",
              "      <td>8496.0</td>\n",
              "      <td>NaN</td>\n",
              "      <td>NaN</td>\n",
              "      <td>NaN</td>\n",
              "      <td>NaN</td>\n",
              "      <td>69.0</td>\n",
              "      <td>38.0</td>\n",
              "      <td>52.0</td>\n",
              "      <td>19.0</td>\n",
              "      <td>0.002943</td>\n",
              "      <td>17.0</td>\n",
              "      <td>2.0</td>\n",
              "      <td>NaN</td>\n",
              "      <td>1.470588</td>\n",
              "    </tr>\n",
              "    <tr>\n",
              "      <th>B2016\\student9998</th>\n",
              "      <td>6599896.0</td>\n",
              "      <td>1659.0</td>\n",
              "      <td>993.0</td>\n",
              "      <td>323.0</td>\n",
              "      <td>331.0</td>\n",
              "      <td>33109.0</td>\n",
              "      <td>58287.0</td>\n",
              "      <td>28059.0</td>\n",
              "      <td>1000.0</td>\n",
              "      <td>0.053096</td>\n",
              "      <td>51231.0</td>\n",
              "      <td>325.0</td>\n",
              "      <td>1.024768</td>\n",
              "      <td>6.840116</td>\n",
              "    </tr>\n",
              "  </tbody>\n",
              "</table>\n",
              "<p>2339 rows × 14 columns</p>\n",
              "</div>"
            ],
            "text/plain": [
              "                   total_time  compiled  compiled successfully  ran_tests  \\\n",
              "Student                                                                     \n",
              "A2016\\student1013   6894752.0    1441.0                 1116.0      689.0   \n",
              "A2016\\student1016     37440.0       NaN                    NaN        NaN   \n",
              "A2016\\student1021   9363152.0    2108.0                 1278.0      787.0   \n",
              "A2016\\student1029   6949656.0    1775.0                 1201.0      852.0   \n",
              "A2016\\student1066   2784368.0     338.0                  223.0      449.0   \n",
              "...                       ...       ...                    ...        ...   \n",
              "B2016\\student9946   2989136.0     311.0                  127.0      220.0   \n",
              "B2016\\student9949   7787496.0    1961.0                 1199.0      588.0   \n",
              "B2016\\student9972  12352640.0    5669.0                 3568.0      973.0   \n",
              "B2016\\student9979      8496.0       NaN                    NaN        NaN   \n",
              "B2016\\student9998   6599896.0    1659.0                  993.0      323.0   \n",
              "\n",
              "                   test_results  modified  add_lines   change  remove_lines  \\\n",
              "Student                                                                       \n",
              "A2016\\student1013        1349.0   38441.0    12365.0  32597.0        2023.0   \n",
              "A2016\\student1016           NaN       1.0        NaN      NaN           8.0   \n",
              "A2016\\student1021        1605.0   58550.0    19160.0  49003.0        6105.0   \n",
              "A2016\\student1029         754.0   36461.0    15605.0  30332.0        2683.0   \n",
              "A2016\\student1066         810.0   13924.0     6140.0  12169.0         369.0   \n",
              "...                         ...       ...        ...      ...           ...   \n",
              "B2016\\student9946         335.0   15501.0    12362.0  13196.0        1776.0   \n",
              "B2016\\student9949         468.0   39601.0     9607.0  30431.0        3452.0   \n",
              "B2016\\student9972         612.0   55655.0    20719.0  47870.0        3707.0   \n",
              "B2016\\student9979           NaN      69.0       38.0     52.0          19.0   \n",
              "B2016\\student9998         331.0   33109.0    58287.0  28059.0        1000.0   \n",
              "\n",
              "                        cps  paste_lines  max_pastes  average_test_results  \\\n",
              "Student                                                                      \n",
              "A2016\\student1013  0.003436       5202.0       120.0              1.957910   \n",
              "A2016\\student1016  0.000000          NaN         NaN                   NaN   \n",
              "A2016\\student1021  0.003997       7270.0       162.0              2.039390   \n",
              "A2016\\student1029  0.005040       7235.0       165.0              0.884977   \n",
              "A2016\\student1066  0.004970       3988.0       139.0              1.804009   \n",
              "...                     ...          ...         ...                   ...   \n",
              "B2016\\student9946  0.017313       9610.0       315.0              1.522727   \n",
              "B2016\\student9949  0.002364       3735.0       347.0              0.795918   \n",
              "B2016\\student9972  0.004338      11067.0       232.0              0.628983   \n",
              "B2016\\student9979  0.002943         17.0         2.0                   NaN   \n",
              "B2016\\student9998  0.053096      51231.0       325.0              1.024768   \n",
              "\n",
              "                   avg_paste  \n",
              "Student                       \n",
              "A2016\\student1013   4.553441  \n",
              "A2016\\student1016        NaN  \n",
              "A2016\\student1021   5.147455  \n",
              "A2016\\student1029   4.840774  \n",
              "A2016\\student1066   3.470160  \n",
              "...                      ...  \n",
              "B2016\\student9946   5.385016  \n",
              "B2016\\student9949   4.929317  \n",
              "B2016\\student9972   4.842414  \n",
              "B2016\\student9979   1.470588  \n",
              "B2016\\student9998   6.840116  \n",
              "\n",
              "[2339 rows x 14 columns]"
            ]
          },
          "execution_count": 4,
          "metadata": {},
          "output_type": "execute_result"
        }
      ],
      "source": [
        "data.iloc[:2339,:-1]"
      ]
    },
    {
      "cell_type": "code",
      "execution_count": null,
      "id": "transparent-pilot",
      "metadata": {
        "id": "transparent-pilot"
      },
      "outputs": [],
      "source": [
        "data = data.fillna(0)\n",
        "data[\"Label\"] =data[\"Label\"].astype(\"int64\")\n",
        "x = data.iloc[:2339,:-1]\n",
        "y = data.iloc[:2339,-1]"
      ]
    },
    {
      "cell_type": "code",
      "execution_count": null,
      "id": "certified-implementation",
      "metadata": {
        "id": "certified-implementation",
        "outputId": "70a4c040-1a35-4aa9-e480-a35854401d36"
      },
      "outputs": [
        {
          "name": "stderr",
          "output_type": "stream",
          "text": [
            "C:\\Users\\Keerthana\\Anaconda3\\lib\\site-packages\\seaborn\\_decorators.py:43: FutureWarning: Pass the following variable as a keyword arg: x. From version 0.12, the only valid positional argument will be `data`, and passing other arguments without an explicit keyword will result in an error or misinterpretation.\n",
            "  FutureWarning\n"
          ]
        },
        {
          "data": {
            "text/plain": [
              "[Text(0, 0, 'Not plagiarised'), Text(1, 0, 'plagiarised')]"
            ]
          },
          "execution_count": 6,
          "metadata": {},
          "output_type": "execute_result"
        },
        {
          "data": {
            "image/png": "[encoded data removed]",
            "text/plain": [
              "<Figure size 432x288 with 1 Axes>"
            ]
          },
          "metadata": {
            "needs_background": "light"
          },
          "output_type": "display_data"
        }
      ],
      "source": [
        "import seaborn as sns\n",
        "g = sns.countplot(data['Label'])\n",
        "g.set_xticklabels(['Not plagiarised','plagiarised'])"
      ]
    },
    {
      "cell_type": "code",
      "execution_count": null,
      "id": "danish-consequence",
      "metadata": {
        "id": "danish-consequence",
        "outputId": "cb626442-595f-49f0-d333-0dc18ccd3b8d"
      },
      "outputs": [
        {
          "data": {
            "text/plain": [
              "2339"
            ]
          },
          "execution_count": 5,
          "metadata": {},
          "output_type": "execute_result"
        }
      ],
      "source": [
        "len(x)"
      ]
    },
    {
      "cell_type": "code",
      "execution_count": null,
      "id": "amber-multimedia",
      "metadata": {
        "id": "amber-multimedia"
      },
      "outputs": [],
      "source": [
        "from sklearn.model_selection import train_test_split\n",
        "X_train, X_test, Y_train, Y_test = train_test_split(x,y, test_size=0.2)"
      ]
    },
    {
      "cell_type": "code",
      "execution_count": null,
      "id": "hybrid-contamination",
      "metadata": {
        "id": "hybrid-contamination"
      },
      "outputs": [],
      "source": [
        "from imblearn.over_sampling import RandomOverSampler\n",
        "oversample = RandomOverSampler(sampling_strategy='minority')\n",
        "# fit and apply the transform\n",
        "X_over, y_over = oversample.fit_resample(X_train,Y_train)"
      ]
    },
    {
      "cell_type": "code",
      "execution_count": null,
      "id": "induced-space",
      "metadata": {
        "id": "induced-space",
        "outputId": "ca91d46f-ccbd-411e-91b4-606931f9c927"
      },
      "outputs": [
        {
          "name": "stdout",
          "output_type": "stream",
          "text": [
            "[(0, 579), (1, 629)]\n"
          ]
        }
      ],
      "source": [
        "smote_enn = imblearn.combine.SMOTEENN(random_state=0,sampling_strategy='minority')\n",
        "x_train_resampled, y_train_resampled = smote_enn.fit_resample(X_train,Y_train)\n",
        "print(sorted(Counter(y_train_resampled).items()))"
      ]
    },
    {
      "cell_type": "code",
      "execution_count": null,
      "id": "environmental-publication",
      "metadata": {
        "id": "environmental-publication",
        "outputId": "23230984-f35d-487a-b17e-b23b46a37f94"
      },
      "outputs": [
        {
          "data": {
            "text/html": [
              "<div>\n",
              "<style scoped>\n",
              "    .dataframe tbody tr th:only-of-type {\n",
              "        vertical-align: middle;\n",
              "    }\n",
              "\n",
              "    .dataframe tbody tr th {\n",
              "        vertical-align: top;\n",
              "    }\n",
              "\n",
              "    .dataframe thead th {\n",
              "        text-align: right;\n",
              "    }\n",
              "</style>\n",
              "<table border=\"1\" class=\"dataframe\">\n",
              "  <thead>\n",
              "    <tr style=\"text-align: right;\">\n",
              "      <th></th>\n",
              "      <th>total_time</th>\n",
              "      <th>compiled</th>\n",
              "      <th>compiled successfully</th>\n",
              "      <th>ran_tests</th>\n",
              "      <th>test_results</th>\n",
              "      <th>modified</th>\n",
              "      <th>add_lines</th>\n",
              "      <th>change</th>\n",
              "      <th>remove_lines</th>\n",
              "      <th>cps</th>\n",
              "      <th>paste_lines</th>\n",
              "      <th>max_pastes</th>\n",
              "      <th>average_test_results</th>\n",
              "      <th>avg_paste</th>\n",
              "    </tr>\n",
              "  </thead>\n",
              "  <tbody>\n",
              "    <tr>\n",
              "      <th>0</th>\n",
              "      <td>0.000000e+00</td>\n",
              "      <td>0.000000</td>\n",
              "      <td>0.000000</td>\n",
              "      <td>0.000000</td>\n",
              "      <td>0.000000</td>\n",
              "      <td>10.000000</td>\n",
              "      <td>0.000000</td>\n",
              "      <td>0.000000</td>\n",
              "      <td>0.000000</td>\n",
              "      <td>0.000000</td>\n",
              "      <td>0.000000</td>\n",
              "      <td>0.000000</td>\n",
              "      <td>0.000000</td>\n",
              "      <td>0.000000</td>\n",
              "    </tr>\n",
              "    <tr>\n",
              "      <th>1</th>\n",
              "      <td>4.080000e+04</td>\n",
              "      <td>0.000000</td>\n",
              "      <td>0.000000</td>\n",
              "      <td>0.000000</td>\n",
              "      <td>0.000000</td>\n",
              "      <td>1.000000</td>\n",
              "      <td>0.000000</td>\n",
              "      <td>0.000000</td>\n",
              "      <td>631.000000</td>\n",
              "      <td>0.000000</td>\n",
              "      <td>0.000000</td>\n",
              "      <td>0.000000</td>\n",
              "      <td>0.000000</td>\n",
              "      <td>0.000000</td>\n",
              "    </tr>\n",
              "    <tr>\n",
              "      <th>2</th>\n",
              "      <td>1.651173e+07</td>\n",
              "      <td>4916.000000</td>\n",
              "      <td>3184.000000</td>\n",
              "      <td>1275.000000</td>\n",
              "      <td>1692.000000</td>\n",
              "      <td>74258.000000</td>\n",
              "      <td>51658.000000</td>\n",
              "      <td>63617.000000</td>\n",
              "      <td>11696.000000</td>\n",
              "      <td>0.018233</td>\n",
              "      <td>36236.000000</td>\n",
              "      <td>439.000000</td>\n",
              "      <td>1.327059</td>\n",
              "      <td>8.308229</td>\n",
              "    </tr>\n",
              "    <tr>\n",
              "      <th>3</th>\n",
              "      <td>2.444000e+05</td>\n",
              "      <td>65.000000</td>\n",
              "      <td>30.000000</td>\n",
              "      <td>2.000000</td>\n",
              "      <td>0.000000</td>\n",
              "      <td>1295.000000</td>\n",
              "      <td>576.000000</td>\n",
              "      <td>889.000000</td>\n",
              "      <td>125.000000</td>\n",
              "      <td>0.001645</td>\n",
              "      <td>223.000000</td>\n",
              "      <td>2.000000</td>\n",
              "      <td>0.000000</td>\n",
              "      <td>1.802691</td>\n",
              "    </tr>\n",
              "    <tr>\n",
              "      <th>4</th>\n",
              "      <td>8.704000e+03</td>\n",
              "      <td>0.000000</td>\n",
              "      <td>0.000000</td>\n",
              "      <td>0.000000</td>\n",
              "      <td>0.000000</td>\n",
              "      <td>1.000000</td>\n",
              "      <td>0.000000</td>\n",
              "      <td>0.000000</td>\n",
              "      <td>319.000000</td>\n",
              "      <td>0.000000</td>\n",
              "      <td>0.000000</td>\n",
              "      <td>0.000000</td>\n",
              "      <td>0.000000</td>\n",
              "      <td>0.000000</td>\n",
              "    </tr>\n",
              "    <tr>\n",
              "      <th>...</th>\n",
              "      <td>...</td>\n",
              "      <td>...</td>\n",
              "      <td>...</td>\n",
              "      <td>...</td>\n",
              "      <td>...</td>\n",
              "      <td>...</td>\n",
              "      <td>...</td>\n",
              "      <td>...</td>\n",
              "      <td>...</td>\n",
              "      <td>...</td>\n",
              "      <td>...</td>\n",
              "      <td>...</td>\n",
              "      <td>...</td>\n",
              "      <td>...</td>\n",
              "    </tr>\n",
              "    <tr>\n",
              "      <th>1203</th>\n",
              "      <td>5.123281e+06</td>\n",
              "      <td>1515.119197</td>\n",
              "      <td>985.612175</td>\n",
              "      <td>828.655855</td>\n",
              "      <td>286.455845</td>\n",
              "      <td>24510.048926</td>\n",
              "      <td>9708.619517</td>\n",
              "      <td>20529.744114</td>\n",
              "      <td>1164.286421</td>\n",
              "      <td>0.002290</td>\n",
              "      <td>3896.986152</td>\n",
              "      <td>267.236194</td>\n",
              "      <td>0.358093</td>\n",
              "      <td>3.040162</td>\n",
              "    </tr>\n",
              "    <tr>\n",
              "      <th>1204</th>\n",
              "      <td>1.008856e+07</td>\n",
              "      <td>1810.361583</td>\n",
              "      <td>1434.278598</td>\n",
              "      <td>1045.600258</td>\n",
              "      <td>1471.098086</td>\n",
              "      <td>52104.596055</td>\n",
              "      <td>19420.188776</td>\n",
              "      <td>41709.800997</td>\n",
              "      <td>2041.473650</td>\n",
              "      <td>0.003349</td>\n",
              "      <td>10370.057434</td>\n",
              "      <td>741.225899</td>\n",
              "      <td>1.416076</td>\n",
              "      <td>3.261739</td>\n",
              "    </tr>\n",
              "    <tr>\n",
              "      <th>1205</th>\n",
              "      <td>3.298986e+06</td>\n",
              "      <td>589.401937</td>\n",
              "      <td>411.765757</td>\n",
              "      <td>274.778962</td>\n",
              "      <td>378.443053</td>\n",
              "      <td>18370.010955</td>\n",
              "      <td>8111.378686</td>\n",
              "      <td>15477.568652</td>\n",
              "      <td>1094.149760</td>\n",
              "      <td>0.004288</td>\n",
              "      <td>4404.170626</td>\n",
              "      <td>162.000000</td>\n",
              "      <td>1.428034</td>\n",
              "      <td>3.139071</td>\n",
              "    </tr>\n",
              "    <tr>\n",
              "      <th>1206</th>\n",
              "      <td>5.923383e+06</td>\n",
              "      <td>1483.891220</td>\n",
              "      <td>950.650220</td>\n",
              "      <td>437.940300</td>\n",
              "      <td>347.130148</td>\n",
              "      <td>25736.120303</td>\n",
              "      <td>14675.459339</td>\n",
              "      <td>21565.508415</td>\n",
              "      <td>2802.537426</td>\n",
              "      <td>0.011325</td>\n",
              "      <td>8895.845379</td>\n",
              "      <td>419.498964</td>\n",
              "      <td>0.791232</td>\n",
              "      <td>7.222197</td>\n",
              "    </tr>\n",
              "    <tr>\n",
              "      <th>1207</th>\n",
              "      <td>2.094229e+06</td>\n",
              "      <td>410.357978</td>\n",
              "      <td>183.960210</td>\n",
              "      <td>262.427395</td>\n",
              "      <td>264.768765</td>\n",
              "      <td>12339.486451</td>\n",
              "      <td>5831.094458</td>\n",
              "      <td>10320.775078</td>\n",
              "      <td>707.956556</td>\n",
              "      <td>0.004082</td>\n",
              "      <td>2976.836387</td>\n",
              "      <td>83.613325</td>\n",
              "      <td>0.723022</td>\n",
              "      <td>2.612653</td>\n",
              "    </tr>\n",
              "  </tbody>\n",
              "</table>\n",
              "<p>1208 rows × 14 columns</p>\n",
              "</div>"
            ],
            "text/plain": [
              "        total_time     compiled  compiled successfully    ran_tests  \\\n",
              "0     0.000000e+00     0.000000               0.000000     0.000000   \n",
              "1     4.080000e+04     0.000000               0.000000     0.000000   \n",
              "2     1.651173e+07  4916.000000            3184.000000  1275.000000   \n",
              "3     2.444000e+05    65.000000              30.000000     2.000000   \n",
              "4     8.704000e+03     0.000000               0.000000     0.000000   \n",
              "...            ...          ...                    ...          ...   \n",
              "1203  5.123281e+06  1515.119197             985.612175   828.655855   \n",
              "1204  1.008856e+07  1810.361583            1434.278598  1045.600258   \n",
              "1205  3.298986e+06   589.401937             411.765757   274.778962   \n",
              "1206  5.923383e+06  1483.891220             950.650220   437.940300   \n",
              "1207  2.094229e+06   410.357978             183.960210   262.427395   \n",
              "\n",
              "      test_results      modified     add_lines        change  remove_lines  \\\n",
              "0         0.000000     10.000000      0.000000      0.000000      0.000000   \n",
              "1         0.000000      1.000000      0.000000      0.000000    631.000000   \n",
              "2      1692.000000  74258.000000  51658.000000  63617.000000  11696.000000   \n",
              "3         0.000000   1295.000000    576.000000    889.000000    125.000000   \n",
              "4         0.000000      1.000000      0.000000      0.000000    319.000000   \n",
              "...            ...           ...           ...           ...           ...   \n",
              "1203    286.455845  24510.048926   9708.619517  20529.744114   1164.286421   \n",
              "1204   1471.098086  52104.596055  19420.188776  41709.800997   2041.473650   \n",
              "1205    378.443053  18370.010955   8111.378686  15477.568652   1094.149760   \n",
              "1206    347.130148  25736.120303  14675.459339  21565.508415   2802.537426   \n",
              "1207    264.768765  12339.486451   5831.094458  10320.775078    707.956556   \n",
              "\n",
              "           cps   paste_lines  max_pastes  average_test_results  avg_paste  \n",
              "0     0.000000      0.000000    0.000000              0.000000   0.000000  \n",
              "1     0.000000      0.000000    0.000000              0.000000   0.000000  \n",
              "2     0.018233  36236.000000  439.000000              1.327059   8.308229  \n",
              "3     0.001645    223.000000    2.000000              0.000000   1.802691  \n",
              "4     0.000000      0.000000    0.000000              0.000000   0.000000  \n",
              "...        ...           ...         ...                   ...        ...  \n",
              "1203  0.002290   3896.986152  267.236194              0.358093   3.040162  \n",
              "1204  0.003349  10370.057434  741.225899              1.416076   3.261739  \n",
              "1205  0.004288   4404.170626  162.000000              1.428034   3.139071  \n",
              "1206  0.011325   8895.845379  419.498964              0.791232   7.222197  \n",
              "1207  0.004082   2976.836387   83.613325              0.723022   2.612653  \n",
              "\n",
              "[1208 rows x 14 columns]"
            ]
          },
          "execution_count": 25,
          "metadata": {},
          "output_type": "execute_result"
        }
      ],
      "source": [
        "x_train_resampled"
      ]
    },
    {
      "cell_type": "code",
      "execution_count": null,
      "id": "potential-quarterly",
      "metadata": {
        "id": "potential-quarterly",
        "outputId": "f4696bf6-e283-4734-8a13-af906e61baf1"
      },
      "outputs": [
        {
          "data": {
            "text/plain": [
              "0       0\n",
              "1       0\n",
              "2       0\n",
              "3       0\n",
              "4       0\n",
              "       ..\n",
              "1203    1\n",
              "1204    1\n",
              "1205    1\n",
              "1206    1\n",
              "1207    1\n",
              "Name: Label, Length: 1208, dtype: int64"
            ]
          },
          "execution_count": 26,
          "metadata": {},
          "output_type": "execute_result"
        }
      ],
      "source": [
        "y_train_resampled\n"
      ]
    },
    {
      "cell_type": "code",
      "execution_count": null,
      "id": "european-namibia",
      "metadata": {
        "id": "european-namibia",
        "outputId": "0adbb442-b2ef-4300-9a8f-e8dbdbcb7f15"
      },
      "outputs": [
        {
          "name": "stdout",
          "output_type": "stream",
          "text": [
            "accuracy :\n",
            "0.9536572819862146\n"
          ]
        }
      ],
      "source": [
        "from sklearn import model_selection\n",
        "from sklearn.ensemble import BaggingClassifier\n",
        "from sklearn.tree import DecisionTreeClassifier\n",
        "import pandas as pd\n",
        "\n",
        "seed = 8\n",
        "kfold = model_selection.KFold(n_splits = 5,random_state = seed,shuffle=True)\n",
        "\n",
        "# initialize the base classifier\n",
        "base_cls = DecisionTreeClassifier()\n",
        "\n",
        "# no. of base classifier\n",
        "num_trees = 1000\n",
        "\n",
        "# bagging classifier\n",
        "model = BaggingClassifier(base_estimator = base_cls,n_estimators = num_trees,random_state = seed)\n",
        "\n",
        "results = model_selection.cross_val_score(model, x_train_resampled, y_train_resampled, cv = kfold)\n",
        "print(\"accuracy :\")\n",
        "print(results.mean())\n"
      ]
    },
    {
      "cell_type": "code",
      "execution_count": null,
      "id": "rough-peter",
      "metadata": {
        "id": "rough-peter",
        "outputId": "c072fade-f95b-4178-9775-ba02d701cbb2"
      },
      "outputs": [
        {
          "data": {
            "image/png": "[encoded data removed]",
            "text/plain": [
              "<Figure size 360x360 with 1 Axes>"
            ]
          },
          "metadata": {
            "needs_background": "light"
          },
          "output_type": "display_data"
        }
      ],
      "source": [
        "model.fit(x_train_resampled,y_train_resampled)\n",
        "y_pred = model.predict(X_test)\n",
        "import matplotlib.pyplot as plt\n",
        "from sklearn.metrics import confusion_matrix\n",
        "from sklearn.metrics import precision_score, recall_score, f1_score, accuracy_score\n",
        "conf_matrix = confusion_matrix(y_true=Y_test, y_pred=model.predict(X_test))\n",
        "#\n",
        "# Print the confusion matrix using Matplotlib\n",
        "#\n",
        "fig, ax = plt.subplots(figsize=(5, 5))\n",
        "ax.matshow(conf_matrix, cmap=plt.cm.Oranges, alpha=0.3)\n",
        "for i in range(conf_matrix.shape[0]):\n",
        "    for j in range(conf_matrix.shape[1]):\n",
        "        ax.text(x=j, y=i,s=conf_matrix[i, j], va='center', ha='center', size='xx-large')\n",
        " \n",
        "plt.xlabel('Predictions', fontsize=18)\n",
        "plt.ylabel('Actuals', fontsize=18)\n",
        "plt.title('Confusion Matrix', fontsize=18)\n",
        "plt.show()"
      ]
    },
    {
      "cell_type": "code",
      "execution_count": null,
      "id": "sitting-portrait",
      "metadata": {
        "id": "sitting-portrait",
        "outputId": "ae7cdc79-c81e-42c6-a553-7b7329283a2b"
      },
      "outputs": [
        {
          "name": "stdout",
          "output_type": "stream",
          "text": [
            "Precision: 0.449\n"
          ]
        }
      ],
      "source": [
        "print('Precision: %.3f' % precision_score(Y_test, y_pred))"
      ]
    },
    {
      "cell_type": "code",
      "execution_count": null,
      "id": "liberal-logging",
      "metadata": {
        "id": "liberal-logging",
        "outputId": "a7783d0a-39f7-4e0b-aaf2-963ebe5ecb4e"
      },
      "outputs": [
        {
          "name": "stdout",
          "output_type": "stream",
          "text": [
            "Recall: 0.822\n"
          ]
        }
      ],
      "source": [
        "print('Recall: %.3f' % recall_score(Y_test, y_pred))"
      ]
    },
    {
      "cell_type": "code",
      "execution_count": null,
      "id": "certified-radius",
      "metadata": {
        "id": "certified-radius",
        "outputId": "1611d916-ebd4-46d4-c6cf-dc4d6a4ba003"
      },
      "outputs": [
        {
          "name": "stdout",
          "output_type": "stream",
          "text": [
            "Accuracy: 0.658\n"
          ]
        }
      ],
      "source": [
        "print('Accuracy: %.3f' % accuracy_score(Y_test, y_pred))"
      ]
    },
    {
      "cell_type": "code",
      "execution_count": null,
      "id": "characteristic-equation",
      "metadata": {
        "id": "characteristic-equation",
        "outputId": "b3d75573-c6f5-4190-add5-bae6b9ce3d47"
      },
      "outputs": [
        {
          "name": "stdout",
          "output_type": "stream",
          "text": [
            "F1 Score: 0.581\n"
          ]
        }
      ],
      "source": [
        "print('F1 Score: %.3f' % f1_score(Y_test, y_pred))"
      ]
    },
    {
      "cell_type": "code",
      "execution_count": null,
      "id": "skilled-detail",
      "metadata": {
        "id": "skilled-detail"
      },
      "outputs": [],
      "source": [
        "from sklearn.metrics import confusion_matrix\n",
        "import xgboost as xgb\n",
        "my_model = xgb.XGBClassifier()\n",
        "my_model.fit(x_train_resampled,y_train_resampled)\n",
        " \n",
        "# Predicting the Test set results\n",
        "y_pred = my_model.predict(X_test)\n",
        " \n"
      ]
    },
    {
      "cell_type": "code",
      "execution_count": null,
      "id": "based-stereo",
      "metadata": {
        "id": "based-stereo",
        "outputId": "ccad760c-35dd-410c-a655-9dbc837ba1d9"
      },
      "outputs": [
        {
          "data": {
            "image/png": "[encoded data removed]",
            "text/plain": [
              "<Figure size 360x360 with 1 Axes>"
            ]
          },
          "metadata": {
            "needs_background": "light"
          },
          "output_type": "display_data"
        }
      ],
      "source": [
        "conf_matrix = confusion_matrix(y_true=Y_test, y_pred=y_pred)\n",
        "#\n",
        "# Print the confusion matrix using Matplotlib\n",
        "#\n",
        "fig, ax = plt.subplots(figsize=(5, 5))\n",
        "ax.matshow(conf_matrix, cmap=plt.cm.Oranges, alpha=0.3)\n",
        "for i in range(conf_matrix.shape[0]):\n",
        "    for j in range(conf_matrix.shape[1]):\n",
        "        ax.text(x=j, y=i,s=conf_matrix[i, j], va='center', ha='center', size='xx-large')\n",
        " \n",
        "plt.xlabel('Predictions', fontsize=18)\n",
        "plt.ylabel('Actuals', fontsize=18)\n",
        "plt.title('Confusion Matrix', fontsize=18)\n",
        "plt.show()"
      ]
    },
    {
      "cell_type": "code",
      "execution_count": null,
      "id": "minimal-kingston",
      "metadata": {
        "id": "minimal-kingston"
      },
      "outputs": [],
      "source": [
        "from sklearn.ensemble import AdaBoostClassifier\n",
        "adb = AdaBoostClassifier()\n",
        "adb_model = adb.fit(x_train_resampled,y_train_resampled)\n",
        "y_pred=adb_model.predict(X_test)"
      ]
    },
    {
      "cell_type": "code",
      "execution_count": null,
      "id": "global-geneva",
      "metadata": {
        "id": "global-geneva",
        "outputId": "b085c479-6d2c-4b93-ba2d-a48aa62f79df"
      },
      "outputs": [
        {
          "data": {
            "image/png": "[encoded data removed]",
            "text/plain": [
              "<Figure size 360x360 with 1 Axes>"
            ]
          },
          "metadata": {
            "needs_background": "light"
          },
          "output_type": "display_data"
        }
      ],
      "source": [
        "conf_matrix = confusion_matrix(y_true=Y_test, y_pred=model.predict(X_test))\n",
        "#\n",
        "# Print the confusion matrix using Matplotlib\n",
        "#\n",
        "fig, ax = plt.subplots(figsize=(5, 5))\n",
        "ax.matshow(conf_matrix, cmap=plt.cm.Oranges, alpha=0.3)\n",
        "for i in range(conf_matrix.shape[0]):\n",
        "    for j in range(conf_matrix.shape[1]):\n",
        "        ax.text(x=j, y=i,s=conf_matrix[i, j], va='center', ha='center', size='xx-large')\n",
        " \n",
        "plt.xlabel('Predictions', fontsize=18)\n",
        "plt.ylabel('Actuals', fontsize=18)\n",
        "plt.title('Confusion Matrix', fontsize=18)\n",
        "plt.show()"
      ]
    },
    {
      "cell_type": "code",
      "execution_count": null,
      "id": "trying-miniature",
      "metadata": {
        "id": "trying-miniature"
      },
      "outputs": [],
      "source": [
        ""
      ]
    }
  ],
  "metadata": {
    "kernelspec": {
      "display_name": "Python 3",
      "language": "python",
      "name": "python3"
    },
    "language_info": {
      "codemirror_mode": {
        "name": "ipython",
        "version": 3
      },
      "file_extension": ".py",
      "mimetype": "text/x-python",
      "name": "python",
      "nbconvert_exporter": "python",
      "pygments_lexer": "ipython3",
      "version": "3.7.1"
    },
    "colab": {
      "name": "Voting_Classifier.ipynb",
      "provenance": []
    }
  },
  "nbformat": 4,
  "nbformat_minor": 5
}