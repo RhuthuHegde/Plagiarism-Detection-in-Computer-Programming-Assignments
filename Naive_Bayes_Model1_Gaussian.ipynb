{
  "cells": [
    {
      "cell_type": "code",
      "execution_count": null,
      "id": "realistic-substitute",
      "metadata": {
        "id": "realistic-substitute"
      },
      "outputs": [],
      "source": [
        "import pandas as pd\n",
        "import imblearn\n",
        "from collections import Counter\n",
        "data = pd.read_csv('new_dataset_with_label.csv',index_col=0)"
      ]
    },
    {
      "cell_type": "code",
      "execution_count": null,
      "id": "identified-buffalo",
      "metadata": {
        "id": "identified-buffalo",
        "outputId": "61afc37e-3824-440b-c8d2-ff48bbf6ede8"
      },
      "outputs": [
        {
          "data": {
            "text/html": [
              "<div>\n",
              "<style scoped>\n",
              "    .dataframe tbody tr th:only-of-type {\n",
              "        vertical-align: middle;\n",
              "    }\n",
              "\n",
              "    .dataframe tbody tr th {\n",
              "        vertical-align: top;\n",
              "    }\n",
              "\n",
              "    .dataframe thead th {\n",
              "        text-align: right;\n",
              "    }\n",
              "</style>\n",
              "<table border=\"1\" class=\"dataframe\">\n",
              "  <thead>\n",
              "    <tr style=\"text-align: right;\">\n",
              "      <th></th>\n",
              "      <th>total_time</th>\n",
              "      <th>compiled</th>\n",
              "      <th>compiled successfully</th>\n",
              "      <th>ran_tests</th>\n",
              "      <th>test_results</th>\n",
              "      <th>modified</th>\n",
              "      <th>add_lines</th>\n",
              "      <th>change</th>\n",
              "      <th>remove_lines</th>\n",
              "      <th>cps</th>\n",
              "      <th>paste_lines</th>\n",
              "      <th>max_pastes</th>\n",
              "      <th>average_test_results</th>\n",
              "      <th>avg_paste</th>\n",
              "    </tr>\n",
              "    <tr>\n",
              "      <th>Student</th>\n",
              "      <th></th>\n",
              "      <th></th>\n",
              "      <th></th>\n",
              "      <th></th>\n",
              "      <th></th>\n",
              "      <th></th>\n",
              "      <th></th>\n",
              "      <th></th>\n",
              "      <th></th>\n",
              "      <th></th>\n",
              "      <th></th>\n",
              "      <th></th>\n",
              "      <th></th>\n",
              "      <th></th>\n",
              "    </tr>\n",
              "  </thead>\n",
              "  <tbody>\n",
              "    <tr>\n",
              "      <th>A2016\\student1013</th>\n",
              "      <td>6894752.0</td>\n",
              "      <td>1441.0</td>\n",
              "      <td>1116.0</td>\n",
              "      <td>689.0</td>\n",
              "      <td>1349.0</td>\n",
              "      <td>38441.0</td>\n",
              "      <td>12365.0</td>\n",
              "      <td>32597.0</td>\n",
              "      <td>2023.0</td>\n",
              "      <td>0.003436</td>\n",
              "      <td>5202.0</td>\n",
              "      <td>120.0</td>\n",
              "      <td>1.957910</td>\n",
              "      <td>4.553441</td>\n",
              "    </tr>\n",
              "    <tr>\n",
              "      <th>A2016\\student1016</th>\n",
              "      <td>37440.0</td>\n",
              "      <td>NaN</td>\n",
              "      <td>NaN</td>\n",
              "      <td>NaN</td>\n",
              "      <td>NaN</td>\n",
              "      <td>1.0</td>\n",
              "      <td>NaN</td>\n",
              "      <td>NaN</td>\n",
              "      <td>8.0</td>\n",
              "      <td>0.000000</td>\n",
              "      <td>NaN</td>\n",
              "      <td>NaN</td>\n",
              "      <td>NaN</td>\n",
              "      <td>NaN</td>\n",
              "    </tr>\n",
              "    <tr>\n",
              "      <th>A2016\\student1021</th>\n",
              "      <td>9363152.0</td>\n",
              "      <td>2108.0</td>\n",
              "      <td>1278.0</td>\n",
              "      <td>787.0</td>\n",
              "      <td>1605.0</td>\n",
              "      <td>58550.0</td>\n",
              "      <td>19160.0</td>\n",
              "      <td>49003.0</td>\n",
              "      <td>6105.0</td>\n",
              "      <td>0.003997</td>\n",
              "      <td>7270.0</td>\n",
              "      <td>162.0</td>\n",
              "      <td>2.039390</td>\n",
              "      <td>5.147455</td>\n",
              "    </tr>\n",
              "    <tr>\n",
              "      <th>A2016\\student1029</th>\n",
              "      <td>6949656.0</td>\n",
              "      <td>1775.0</td>\n",
              "      <td>1201.0</td>\n",
              "      <td>852.0</td>\n",
              "      <td>754.0</td>\n",
              "      <td>36461.0</td>\n",
              "      <td>15605.0</td>\n",
              "      <td>30332.0</td>\n",
              "      <td>2683.0</td>\n",
              "      <td>0.005040</td>\n",
              "      <td>7235.0</td>\n",
              "      <td>165.0</td>\n",
              "      <td>0.884977</td>\n",
              "      <td>4.840774</td>\n",
              "    </tr>\n",
              "    <tr>\n",
              "      <th>A2016\\student1066</th>\n",
              "      <td>2784368.0</td>\n",
              "      <td>338.0</td>\n",
              "      <td>223.0</td>\n",
              "      <td>449.0</td>\n",
              "      <td>810.0</td>\n",
              "      <td>13924.0</td>\n",
              "      <td>6140.0</td>\n",
              "      <td>12169.0</td>\n",
              "      <td>369.0</td>\n",
              "      <td>0.004970</td>\n",
              "      <td>3988.0</td>\n",
              "      <td>139.0</td>\n",
              "      <td>1.804009</td>\n",
              "      <td>3.470160</td>\n",
              "    </tr>\n",
              "    <tr>\n",
              "      <th>...</th>\n",
              "      <td>...</td>\n",
              "      <td>...</td>\n",
              "      <td>...</td>\n",
              "      <td>...</td>\n",
              "      <td>...</td>\n",
              "      <td>...</td>\n",
              "      <td>...</td>\n",
              "      <td>...</td>\n",
              "      <td>...</td>\n",
              "      <td>...</td>\n",
              "      <td>...</td>\n",
              "      <td>...</td>\n",
              "      <td>...</td>\n",
              "      <td>...</td>\n",
              "    </tr>\n",
              "    <tr>\n",
              "      <th>B2016\\student9946</th>\n",
              "      <td>2989136.0</td>\n",
              "      <td>311.0</td>\n",
              "      <td>127.0</td>\n",
              "      <td>220.0</td>\n",
              "      <td>335.0</td>\n",
              "      <td>15501.0</td>\n",
              "      <td>12362.0</td>\n",
              "      <td>13196.0</td>\n",
              "      <td>1776.0</td>\n",
              "      <td>0.017313</td>\n",
              "      <td>9610.0</td>\n",
              "      <td>315.0</td>\n",
              "      <td>1.522727</td>\n",
              "      <td>5.385016</td>\n",
              "    </tr>\n",
              "    <tr>\n",
              "      <th>B2016\\student9949</th>\n",
              "      <td>7787496.0</td>\n",
              "      <td>1961.0</td>\n",
              "      <td>1199.0</td>\n",
              "      <td>588.0</td>\n",
              "      <td>468.0</td>\n",
              "      <td>39601.0</td>\n",
              "      <td>9607.0</td>\n",
              "      <td>30431.0</td>\n",
              "      <td>3452.0</td>\n",
              "      <td>0.002364</td>\n",
              "      <td>3735.0</td>\n",
              "      <td>347.0</td>\n",
              "      <td>0.795918</td>\n",
              "      <td>4.929317</td>\n",
              "    </tr>\n",
              "    <tr>\n",
              "      <th>B2016\\student9972</th>\n",
              "      <td>12352640.0</td>\n",
              "      <td>5669.0</td>\n",
              "      <td>3568.0</td>\n",
              "      <td>973.0</td>\n",
              "      <td>612.0</td>\n",
              "      <td>55655.0</td>\n",
              "      <td>20719.0</td>\n",
              "      <td>47870.0</td>\n",
              "      <td>3707.0</td>\n",
              "      <td>0.004338</td>\n",
              "      <td>11067.0</td>\n",
              "      <td>232.0</td>\n",
              "      <td>0.628983</td>\n",
              "      <td>4.842414</td>\n",
              "    </tr>\n",
              "    <tr>\n",
              "      <th>B2016\\student9979</th>\n",
              "      <td>8496.0</td>\n",
              "      <td>NaN</td>\n",
              "      <td>NaN</td>\n",
              "      <td>NaN</td>\n",
              "      <td>NaN</td>\n",
              "      <td>69.0</td>\n",
              "      <td>38.0</td>\n",
              "      <td>52.0</td>\n",
              "      <td>19.0</td>\n",
              "      <td>0.002943</td>\n",
              "      <td>17.0</td>\n",
              "      <td>2.0</td>\n",
              "      <td>NaN</td>\n",
              "      <td>1.470588</td>\n",
              "    </tr>\n",
              "    <tr>\n",
              "      <th>B2016\\student9998</th>\n",
              "      <td>6599896.0</td>\n",
              "      <td>1659.0</td>\n",
              "      <td>993.0</td>\n",
              "      <td>323.0</td>\n",
              "      <td>331.0</td>\n",
              "      <td>33109.0</td>\n",
              "      <td>58287.0</td>\n",
              "      <td>28059.0</td>\n",
              "      <td>1000.0</td>\n",
              "      <td>0.053096</td>\n",
              "      <td>51231.0</td>\n",
              "      <td>325.0</td>\n",
              "      <td>1.024768</td>\n",
              "      <td>6.840116</td>\n",
              "    </tr>\n",
              "  </tbody>\n",
              "</table>\n",
              "<p>2339 rows × 14 columns</p>\n",
              "</div>"
            ],
            "text/plain": [
              "                   total_time  compiled  compiled successfully  ran_tests  \\\n",
              "Student                                                                     \n",
              "A2016\\student1013   6894752.0    1441.0                 1116.0      689.0   \n",
              "A2016\\student1016     37440.0       NaN                    NaN        NaN   \n",
              "A2016\\student1021   9363152.0    2108.0                 1278.0      787.0   \n",
              "A2016\\student1029   6949656.0    1775.0                 1201.0      852.0   \n",
              "A2016\\student1066   2784368.0     338.0                  223.0      449.0   \n",
              "...                       ...       ...                    ...        ...   \n",
              "B2016\\student9946   2989136.0     311.0                  127.0      220.0   \n",
              "B2016\\student9949   7787496.0    1961.0                 1199.0      588.0   \n",
              "B2016\\student9972  12352640.0    5669.0                 3568.0      973.0   \n",
              "B2016\\student9979      8496.0       NaN                    NaN        NaN   \n",
              "B2016\\student9998   6599896.0    1659.0                  993.0      323.0   \n",
              "\n",
              "                   test_results  modified  add_lines   change  remove_lines  \\\n",
              "Student                                                                       \n",
              "A2016\\student1013        1349.0   38441.0    12365.0  32597.0        2023.0   \n",
              "A2016\\student1016           NaN       1.0        NaN      NaN           8.0   \n",
              "A2016\\student1021        1605.0   58550.0    19160.0  49003.0        6105.0   \n",
              "A2016\\student1029         754.0   36461.0    15605.0  30332.0        2683.0   \n",
              "A2016\\student1066         810.0   13924.0     6140.0  12169.0         369.0   \n",
              "...                         ...       ...        ...      ...           ...   \n",
              "B2016\\student9946         335.0   15501.0    12362.0  13196.0        1776.0   \n",
              "B2016\\student9949         468.0   39601.0     9607.0  30431.0        3452.0   \n",
              "B2016\\student9972         612.0   55655.0    20719.0  47870.0        3707.0   \n",
              "B2016\\student9979           NaN      69.0       38.0     52.0          19.0   \n",
              "B2016\\student9998         331.0   33109.0    58287.0  28059.0        1000.0   \n",
              "\n",
              "                        cps  paste_lines  max_pastes  average_test_results  \\\n",
              "Student                                                                      \n",
              "A2016\\student1013  0.003436       5202.0       120.0              1.957910   \n",
              "A2016\\student1016  0.000000          NaN         NaN                   NaN   \n",
              "A2016\\student1021  0.003997       7270.0       162.0              2.039390   \n",
              "A2016\\student1029  0.005040       7235.0       165.0              0.884977   \n",
              "A2016\\student1066  0.004970       3988.0       139.0              1.804009   \n",
              "...                     ...          ...         ...                   ...   \n",
              "B2016\\student9946  0.017313       9610.0       315.0              1.522727   \n",
              "B2016\\student9949  0.002364       3735.0       347.0              0.795918   \n",
              "B2016\\student9972  0.004338      11067.0       232.0              0.628983   \n",
              "B2016\\student9979  0.002943         17.0         2.0                   NaN   \n",
              "B2016\\student9998  0.053096      51231.0       325.0              1.024768   \n",
              "\n",
              "                   avg_paste  \n",
              "Student                       \n",
              "A2016\\student1013   4.553441  \n",
              "A2016\\student1016        NaN  \n",
              "A2016\\student1021   5.147455  \n",
              "A2016\\student1029   4.840774  \n",
              "A2016\\student1066   3.470160  \n",
              "...                      ...  \n",
              "B2016\\student9946   5.385016  \n",
              "B2016\\student9949   4.929317  \n",
              "B2016\\student9972   4.842414  \n",
              "B2016\\student9979   1.470588  \n",
              "B2016\\student9998   6.840116  \n",
              "\n",
              "[2339 rows x 14 columns]"
            ]
          },
          "execution_count": 3,
          "metadata": {},
          "output_type": "execute_result"
        }
      ],
      "source": [
        "data.iloc[:2339,:-1]"
      ]
    },
    {
      "cell_type": "code",
      "execution_count": null,
      "id": "genuine-jenny",
      "metadata": {
        "id": "genuine-jenny"
      },
      "outputs": [],
      "source": [
        "data.fillna(0, inplace=True)\n",
        "data[\"Label\"] =data[\"Label\"].astype(\"int64\")\n",
        "x = data.iloc[:2339,:-1]\n",
        "y = data.iloc[:2339,-1]"
      ]
    },
    {
      "cell_type": "code",
      "execution_count": null,
      "id": "accepted-measurement",
      "metadata": {
        "id": "accepted-measurement",
        "outputId": "f0cc3381-4adc-403e-c2d1-60813c3352b5"
      },
      "outputs": [
        {
          "name": "stderr",
          "output_type": "stream",
          "text": [
            "C:\\Users\\Keerthana\\Anaconda3\\lib\\site-packages\\seaborn\\_decorators.py:43: FutureWarning: Pass the following variable as a keyword arg: x. From version 0.12, the only valid positional argument will be `data`, and passing other arguments without an explicit keyword will result in an error or misinterpretation.\n",
            "  FutureWarning\n"
          ]
        },
        {
          "data": {
            "text/plain": [
              "[Text(0, 0, 'Not plagiarised'), Text(1, 0, 'plagiarised')]"
            ]
          },
          "execution_count": 5,
          "metadata": {},
          "output_type": "execute_result"
        },
        {
          "data": {
            "image/png": "[encoded data removed]",
            "text/plain": [
              "<Figure size 432x288 with 1 Axes>"
            ]
          },
          "metadata": {
            "needs_background": "light"
          },
          "output_type": "display_data"
        }
      ],
      "source": [
        "import seaborn as sns\n",
        "g = sns.countplot(data['Label'])\n",
        "g.set_xticklabels(['Not plagiarised','plagiarised'])"
      ]
    },
    {
      "cell_type": "code",
      "execution_count": null,
      "id": "secure-leave",
      "metadata": {
        "id": "secure-leave",
        "outputId": "2b173331-ef3a-464f-ce23-1aef103aaf1f"
      },
      "outputs": [
        {
          "data": {
            "text/plain": [
              "2339"
            ]
          },
          "execution_count": 6,
          "metadata": {},
          "output_type": "execute_result"
        }
      ],
      "source": [
        "len(x)"
      ]
    },
    {
      "cell_type": "code",
      "execution_count": null,
      "id": "polished-lexington",
      "metadata": {
        "id": "polished-lexington"
      },
      "outputs": [],
      "source": [
        "from sklearn.model_selection import train_test_split\n",
        "X_train, X_test, Y_train, Y_test = train_test_split(x,y, test_size=0.2)"
      ]
    },
    {
      "cell_type": "code",
      "execution_count": null,
      "id": "respiratory-imagination",
      "metadata": {
        "id": "respiratory-imagination"
      },
      "outputs": [],
      "source": [
        "from imblearn.over_sampling import RandomOverSampler\n",
        "oversample = RandomOverSampler(sampling_strategy='minority')\n",
        "# fit and apply the transform\n",
        "X_over, y_over = oversample.fit_resample(X_train,Y_train)"
      ]
    },
    {
      "cell_type": "code",
      "execution_count": null,
      "id": "innovative-compilation",
      "metadata": {
        "id": "innovative-compilation",
        "outputId": "c5e8da7b-7b40-4e64-e4d4-b0f00f9d9dab"
      },
      "outputs": [
        {
          "name": "stdout",
          "output_type": "stream",
          "text": [
            "[(0, 609), (1, 614)]\n"
          ]
        }
      ],
      "source": [
        "smote_enn = imblearn.combine.SMOTEENN(random_state=0,sampling_strategy='minority')\n",
        "x_train_resampled, y_train_resampled = smote_enn.fit_resample(X_train,Y_train)\n",
        "print(sorted(Counter(y_train_resampled).items()))"
      ]
    },
    {
      "cell_type": "code",
      "execution_count": null,
      "id": "specific-mediterranean",
      "metadata": {
        "id": "specific-mediterranean",
        "outputId": "89829a21-e688-4ef8-f0b6-40348fbcb605"
      },
      "outputs": [
        {
          "data": {
            "text/html": [
              "<div>\n",
              "<style scoped>\n",
              "    .dataframe tbody tr th:only-of-type {\n",
              "        vertical-align: middle;\n",
              "    }\n",
              "\n",
              "    .dataframe tbody tr th {\n",
              "        vertical-align: top;\n",
              "    }\n",
              "\n",
              "    .dataframe thead th {\n",
              "        text-align: right;\n",
              "    }\n",
              "</style>\n",
              "<table border=\"1\" class=\"dataframe\">\n",
              "  <thead>\n",
              "    <tr style=\"text-align: right;\">\n",
              "      <th></th>\n",
              "      <th>total_time</th>\n",
              "      <th>compiled</th>\n",
              "      <th>compiled successfully</th>\n",
              "      <th>ran_tests</th>\n",
              "      <th>test_results</th>\n",
              "      <th>modified</th>\n",
              "      <th>add_lines</th>\n",
              "      <th>change</th>\n",
              "      <th>remove_lines</th>\n",
              "      <th>cps</th>\n",
              "      <th>paste_lines</th>\n",
              "      <th>max_pastes</th>\n",
              "      <th>average_test_results</th>\n",
              "      <th>avg_paste</th>\n",
              "    </tr>\n",
              "  </thead>\n",
              "  <tbody>\n",
              "    <tr>\n",
              "      <th>0</th>\n",
              "      <td>1.120000e+02</td>\n",
              "      <td>0.000000</td>\n",
              "      <td>0.000000</td>\n",
              "      <td>0.000000</td>\n",
              "      <td>0.000000</td>\n",
              "      <td>93.000000</td>\n",
              "      <td>0.000000</td>\n",
              "      <td>0.000000</td>\n",
              "      <td>0.000000</td>\n",
              "      <td>0.000000</td>\n",
              "      <td>0.000000</td>\n",
              "      <td>0.000000</td>\n",
              "      <td>0.000000</td>\n",
              "      <td>0.000000</td>\n",
              "    </tr>\n",
              "    <tr>\n",
              "      <th>1</th>\n",
              "      <td>5.099920e+05</td>\n",
              "      <td>112.000000</td>\n",
              "      <td>48.000000</td>\n",
              "      <td>5.000000</td>\n",
              "      <td>0.000000</td>\n",
              "      <td>3180.000000</td>\n",
              "      <td>851.000000</td>\n",
              "      <td>2843.000000</td>\n",
              "      <td>311.000000</td>\n",
              "      <td>0.001994</td>\n",
              "      <td>396.000000</td>\n",
              "      <td>3.000000</td>\n",
              "      <td>0.000000</td>\n",
              "      <td>2.568182</td>\n",
              "    </tr>\n",
              "    <tr>\n",
              "      <th>2</th>\n",
              "      <td>0.000000e+00</td>\n",
              "      <td>0.000000</td>\n",
              "      <td>0.000000</td>\n",
              "      <td>0.000000</td>\n",
              "      <td>0.000000</td>\n",
              "      <td>16.000000</td>\n",
              "      <td>0.000000</td>\n",
              "      <td>0.000000</td>\n",
              "      <td>0.000000</td>\n",
              "      <td>0.000000</td>\n",
              "      <td>0.000000</td>\n",
              "      <td>0.000000</td>\n",
              "      <td>0.000000</td>\n",
              "      <td>0.000000</td>\n",
              "    </tr>\n",
              "    <tr>\n",
              "      <th>3</th>\n",
              "      <td>2.400000e+03</td>\n",
              "      <td>0.000000</td>\n",
              "      <td>0.000000</td>\n",
              "      <td>0.000000</td>\n",
              "      <td>0.000000</td>\n",
              "      <td>1.000000</td>\n",
              "      <td>0.000000</td>\n",
              "      <td>0.000000</td>\n",
              "      <td>22.000000</td>\n",
              "      <td>0.000000</td>\n",
              "      <td>0.000000</td>\n",
              "      <td>0.000000</td>\n",
              "      <td>0.000000</td>\n",
              "      <td>0.000000</td>\n",
              "    </tr>\n",
              "    <tr>\n",
              "      <th>4</th>\n",
              "      <td>2.001200e+05</td>\n",
              "      <td>46.000000</td>\n",
              "      <td>43.000000</td>\n",
              "      <td>21.000000</td>\n",
              "      <td>131.000000</td>\n",
              "      <td>394.000000</td>\n",
              "      <td>370.000000</td>\n",
              "      <td>263.000000</td>\n",
              "      <td>16.000000</td>\n",
              "      <td>0.004182</td>\n",
              "      <td>308.000000</td>\n",
              "      <td>59.000000</td>\n",
              "      <td>6.238095</td>\n",
              "      <td>2.717532</td>\n",
              "    </tr>\n",
              "    <tr>\n",
              "      <th>...</th>\n",
              "      <td>...</td>\n",
              "      <td>...</td>\n",
              "      <td>...</td>\n",
              "      <td>...</td>\n",
              "      <td>...</td>\n",
              "      <td>...</td>\n",
              "      <td>...</td>\n",
              "      <td>...</td>\n",
              "      <td>...</td>\n",
              "      <td>...</td>\n",
              "      <td>...</td>\n",
              "      <td>...</td>\n",
              "      <td>...</td>\n",
              "      <td>...</td>\n",
              "    </tr>\n",
              "    <tr>\n",
              "      <th>1218</th>\n",
              "      <td>5.673361e+06</td>\n",
              "      <td>1205.823904</td>\n",
              "      <td>916.123945</td>\n",
              "      <td>678.416716</td>\n",
              "      <td>1144.193480</td>\n",
              "      <td>29759.603600</td>\n",
              "      <td>10571.835937</td>\n",
              "      <td>25063.768498</td>\n",
              "      <td>1310.167155</td>\n",
              "      <td>0.002276</td>\n",
              "      <td>4776.599833</td>\n",
              "      <td>91.598997</td>\n",
              "      <td>1.697133</td>\n",
              "      <td>2.702448</td>\n",
              "    </tr>\n",
              "    <tr>\n",
              "      <th>1219</th>\n",
              "      <td>3.163886e+06</td>\n",
              "      <td>775.920040</td>\n",
              "      <td>498.800044</td>\n",
              "      <td>365.938981</td>\n",
              "      <td>433.705340</td>\n",
              "      <td>16008.265061</td>\n",
              "      <td>46017.233112</td>\n",
              "      <td>13665.054448</td>\n",
              "      <td>509.237837</td>\n",
              "      <td>0.065563</td>\n",
              "      <td>42451.085450</td>\n",
              "      <td>144.029488</td>\n",
              "      <td>1.139961</td>\n",
              "      <td>3.328610</td>\n",
              "    </tr>\n",
              "    <tr>\n",
              "      <th>1220</th>\n",
              "      <td>3.061077e+06</td>\n",
              "      <td>570.313622</td>\n",
              "      <td>357.508838</td>\n",
              "      <td>355.895116</td>\n",
              "      <td>433.644850</td>\n",
              "      <td>19949.235536</td>\n",
              "      <td>7896.165117</td>\n",
              "      <td>16807.783843</td>\n",
              "      <td>1124.826613</td>\n",
              "      <td>0.007200</td>\n",
              "      <td>3320.173493</td>\n",
              "      <td>6352.771208</td>\n",
              "      <td>1.190634</td>\n",
              "      <td>7.622618</td>\n",
              "    </tr>\n",
              "    <tr>\n",
              "      <th>1221</th>\n",
              "      <td>6.889983e+06</td>\n",
              "      <td>1834.037516</td>\n",
              "      <td>1255.338233</td>\n",
              "      <td>535.940257</td>\n",
              "      <td>954.296484</td>\n",
              "      <td>36026.601318</td>\n",
              "      <td>25411.759865</td>\n",
              "      <td>30021.507586</td>\n",
              "      <td>5270.381516</td>\n",
              "      <td>0.034037</td>\n",
              "      <td>18993.743282</td>\n",
              "      <td>438.669411</td>\n",
              "      <td>1.761379</td>\n",
              "      <td>9.675806</td>\n",
              "    </tr>\n",
              "    <tr>\n",
              "      <th>1222</th>\n",
              "      <td>5.210709e+06</td>\n",
              "      <td>1271.123579</td>\n",
              "      <td>931.643906</td>\n",
              "      <td>371.917306</td>\n",
              "      <td>816.767023</td>\n",
              "      <td>29509.963820</td>\n",
              "      <td>7826.692922</td>\n",
              "      <td>26031.269974</td>\n",
              "      <td>762.305923</td>\n",
              "      <td>0.002220</td>\n",
              "      <td>3513.940773</td>\n",
              "      <td>159.173519</td>\n",
              "      <td>2.176069</td>\n",
              "      <td>3.297237</td>\n",
              "    </tr>\n",
              "  </tbody>\n",
              "</table>\n",
              "<p>1223 rows × 14 columns</p>\n",
              "</div>"
            ],
            "text/plain": [
              "        total_time     compiled  compiled successfully   ran_tests  \\\n",
              "0     1.120000e+02     0.000000               0.000000    0.000000   \n",
              "1     5.099920e+05   112.000000              48.000000    5.000000   \n",
              "2     0.000000e+00     0.000000               0.000000    0.000000   \n",
              "3     2.400000e+03     0.000000               0.000000    0.000000   \n",
              "4     2.001200e+05    46.000000              43.000000   21.000000   \n",
              "...            ...          ...                    ...         ...   \n",
              "1218  5.673361e+06  1205.823904             916.123945  678.416716   \n",
              "1219  3.163886e+06   775.920040             498.800044  365.938981   \n",
              "1220  3.061077e+06   570.313622             357.508838  355.895116   \n",
              "1221  6.889983e+06  1834.037516            1255.338233  535.940257   \n",
              "1222  5.210709e+06  1271.123579             931.643906  371.917306   \n",
              "\n",
              "      test_results      modified     add_lines        change  remove_lines  \\\n",
              "0         0.000000     93.000000      0.000000      0.000000      0.000000   \n",
              "1         0.000000   3180.000000    851.000000   2843.000000    311.000000   \n",
              "2         0.000000     16.000000      0.000000      0.000000      0.000000   \n",
              "3         0.000000      1.000000      0.000000      0.000000     22.000000   \n",
              "4       131.000000    394.000000    370.000000    263.000000     16.000000   \n",
              "...            ...           ...           ...           ...           ...   \n",
              "1218   1144.193480  29759.603600  10571.835937  25063.768498   1310.167155   \n",
              "1219    433.705340  16008.265061  46017.233112  13665.054448    509.237837   \n",
              "1220    433.644850  19949.235536   7896.165117  16807.783843   1124.826613   \n",
              "1221    954.296484  36026.601318  25411.759865  30021.507586   5270.381516   \n",
              "1222    816.767023  29509.963820   7826.692922  26031.269974    762.305923   \n",
              "\n",
              "           cps   paste_lines   max_pastes  average_test_results  avg_paste  \n",
              "0     0.000000      0.000000     0.000000              0.000000   0.000000  \n",
              "1     0.001994    396.000000     3.000000              0.000000   2.568182  \n",
              "2     0.000000      0.000000     0.000000              0.000000   0.000000  \n",
              "3     0.000000      0.000000     0.000000              0.000000   0.000000  \n",
              "4     0.004182    308.000000    59.000000              6.238095   2.717532  \n",
              "...        ...           ...          ...                   ...        ...  \n",
              "1218  0.002276   4776.599833    91.598997              1.697133   2.702448  \n",
              "1219  0.065563  42451.085450   144.029488              1.139961   3.328610  \n",
              "1220  0.007200   3320.173493  6352.771208              1.190634   7.622618  \n",
              "1221  0.034037  18993.743282   438.669411              1.761379   9.675806  \n",
              "1222  0.002220   3513.940773   159.173519              2.176069   3.297237  \n",
              "\n",
              "[1223 rows x 14 columns]"
            ]
          },
          "execution_count": 10,
          "metadata": {},
          "output_type": "execute_result"
        }
      ],
      "source": [
        "x_train_resampled"
      ]
    },
    {
      "cell_type": "code",
      "execution_count": null,
      "id": "grave-maker",
      "metadata": {
        "id": "grave-maker",
        "outputId": "8a9d2aea-a98d-44a4-f097-fcd1cde3f16f"
      },
      "outputs": [
        {
          "data": {
            "text/plain": [
              "0       0\n",
              "1       0\n",
              "2       0\n",
              "3       0\n",
              "4       0\n",
              "       ..\n",
              "1218    1\n",
              "1219    1\n",
              "1220    1\n",
              "1221    1\n",
              "1222    1\n",
              "Name: Label, Length: 1223, dtype: int64"
            ]
          },
          "execution_count": 11,
          "metadata": {},
          "output_type": "execute_result"
        }
      ],
      "source": [
        "y_train_resampled\n"
      ]
    },
    {
      "cell_type": "code",
      "execution_count": null,
      "id": "ready-daisy",
      "metadata": {
        "id": "ready-daisy",
        "outputId": "28313b77-83c1-4aea-8b0e-14457e469326"
      },
      "outputs": [
        {
          "name": "stdout",
          "output_type": "stream",
          "text": [
            "0.6474358974358975\n"
          ]
        }
      ],
      "source": [
        "from sklearn.naive_bayes import GaussianNB\n",
        "\n",
        "\n",
        "gnb = GaussianNB(var_smoothing=1e-06)\n",
        "gnb.fit(x_train_resampled,y_train_resampled)\n",
        "print(gnb.score(X_test, Y_test))\n",
        "y_pred = gnb.predict(X_test)"
      ]
    },
    {
      "cell_type": "code",
      "execution_count": null,
      "id": "tight-times",
      "metadata": {
        "id": "tight-times",
        "outputId": "503f7796-ba30-4fb6-df7c-467ed614dad3"
      },
      "outputs": [
        {
          "data": {
            "image/png": "[encoded data removed]",
            "text/plain": [
              "<Figure size 360x360 with 1 Axes>"
            ]
          },
          "metadata": {
            "needs_background": "light"
          },
          "output_type": "display_data"
        }
      ],
      "source": [
        "import matplotlib.pyplot as plt\n",
        "from sklearn.metrics import confusion_matrix\n",
        "from sklearn.metrics import precision_score, recall_score, f1_score, accuracy_score\n",
        "conf_matrix = confusion_matrix(y_true=Y_test, y_pred=gnb.predict(X_test))\n",
        "#\n",
        "# Print the confusion matrix using Matplotlib\n",
        "#\n",
        "fig, ax = plt.subplots(figsize=(5, 5))\n",
        "ax.matshow(conf_matrix, cmap=plt.cm.Oranges, alpha=0.3)\n",
        "for i in range(conf_matrix.shape[0]):\n",
        "    for j in range(conf_matrix.shape[1]):\n",
        "        ax.text(x=j, y=i,s=conf_matrix[i, j], va='center', ha='center', size='xx-large')\n",
        " \n",
        "plt.xlabel('Predictions', fontsize=18)\n",
        "plt.ylabel('Actuals', fontsize=18)\n",
        "plt.title('Confusion Matrix', fontsize=18)\n",
        "plt.show()"
      ]
    },
    {
      "cell_type": "code",
      "execution_count": null,
      "id": "taken-dinner",
      "metadata": {
        "id": "taken-dinner",
        "outputId": "c0d4cdb0-8d64-4fde-ef3c-052ee6f8bf26"
      },
      "outputs": [
        {
          "name": "stdout",
          "output_type": "stream",
          "text": [
            "Precision: 0.425\n"
          ]
        }
      ],
      "source": [
        "print('Precision: %.3f' % precision_score(Y_test, y_pred))"
      ]
    },
    {
      "cell_type": "code",
      "execution_count": null,
      "id": "happy-killer",
      "metadata": {
        "scrolled": true,
        "id": "happy-killer",
        "outputId": "a9898774-3f35-458e-d41b-581607549b95"
      },
      "outputs": [
        {
          "name": "stdout",
          "output_type": "stream",
          "text": [
            "Recall: 0.624\n"
          ]
        }
      ],
      "source": [
        "print('Recall: %.3f' % recall_score(Y_test, y_pred))"
      ]
    },
    {
      "cell_type": "code",
      "execution_count": null,
      "id": "rapid-stewart",
      "metadata": {
        "id": "rapid-stewart",
        "outputId": "1eeed95b-2d7e-4081-d15a-10e4e152fd2a"
      },
      "outputs": [
        {
          "name": "stdout",
          "output_type": "stream",
          "text": [
            "Accuracy: 0.632\n"
          ]
        }
      ],
      "source": [
        "print('Accuracy: %.3f' % accuracy_score(Y_test, y_pred))"
      ]
    },
    {
      "cell_type": "code",
      "execution_count": null,
      "id": "documented-handbook",
      "metadata": {
        "id": "documented-handbook",
        "outputId": "590d7b34-5d24-4415-b2e3-3f7a161bd67c"
      },
      "outputs": [
        {
          "name": "stdout",
          "output_type": "stream",
          "text": [
            "F1 Score: 0.506\n"
          ]
        }
      ],
      "source": [
        "print('F1 Score: %.3f' % f1_score(Y_test, y_pred))"
      ]
    },
    {
      "cell_type": "code",
      "execution_count": null,
      "id": "understanding-folder",
      "metadata": {
        "id": "understanding-folder",
        "outputId": "a815fa2b-4fe5-4dd9-d1d0-e32cc2b89bd0"
      },
      "outputs": [
        {
          "name": "stdout",
          "output_type": "stream",
          "text": [
            "0.6474358974358975\n"
          ]
        }
      ],
      "source": [
        "from sklearn.naive_bayes import GaussianNB\n",
        "\n",
        "\n",
        "gnb1 =GaussianNB(var_smoothing=1e-06)\n",
        "gnb1.fit(x_train_resampled, y_train_resampled)\n",
        "print(gnb1.score(X_test, Y_test))\n",
        "y_pred = gnb1.predict(X_test)"
      ]
    },
    {
      "cell_type": "code",
      "execution_count": null,
      "id": "narrative-warrant",
      "metadata": {
        "id": "narrative-warrant",
        "outputId": "993096c0-499a-47b5-c5f8-4a0e1539c3a4"
      },
      "outputs": [
        {
          "data": {
            "image/png": "[encoded data removed]",
            "text/plain": [
              "<Figure size 360x360 with 1 Axes>"
            ]
          },
          "metadata": {
            "needs_background": "light"
          },
          "output_type": "display_data"
        }
      ],
      "source": [
        "import matplotlib.pyplot as plt\n",
        "from sklearn.metrics import confusion_matrix\n",
        "from sklearn.metrics import precision_score, recall_score, f1_score, accuracy_score\n",
        "conf_matrix = confusion_matrix(y_true=Y_test, y_pred=gnb1.predict(X_test))\n",
        "#\n",
        "# Print the confusion matrix using Matplotlib\n",
        "#\n",
        "fig, ax = plt.subplots(figsize=(5, 5))\n",
        "ax.matshow(conf_matrix, cmap=plt.cm.Oranges, alpha=0.3)\n",
        "for i in range(conf_matrix.shape[0]):\n",
        "    for j in range(conf_matrix.shape[1]):\n",
        "        ax.text(x=j, y=i,s=conf_matrix[i, j], va='center', ha='center', size='xx-large')\n",
        " \n",
        "plt.xlabel('Predictions', fontsize=18)\n",
        "plt.ylabel('Actuals', fontsize=18)\n",
        "plt.title('Confusion Matrix', fontsize=18)\n",
        "plt.show()"
      ]
    },
    {
      "cell_type": "code",
      "execution_count": null,
      "id": "soviet-customs",
      "metadata": {
        "id": "soviet-customs",
        "outputId": "bcaaca0c-d3e9-47cf-8080-7283811db165"
      },
      "outputs": [
        {
          "name": "stdout",
          "output_type": "stream",
          "text": [
            "Precision: 0.435\n"
          ]
        }
      ],
      "source": [
        "print('Precision: %.3f' % precision_score(Y_test, y_pred))"
      ]
    },
    {
      "cell_type": "code",
      "execution_count": null,
      "id": "representative-hardware",
      "metadata": {
        "id": "representative-hardware",
        "outputId": "4e58c23b-e162-4b8a-b65d-d108cf3e80a3"
      },
      "outputs": [
        {
          "name": "stdout",
          "output_type": "stream",
          "text": [
            "Recall: 0.567\n"
          ]
        }
      ],
      "source": [
        "print('Recall: %.3f' % recall_score(Y_test, y_pred))"
      ]
    },
    {
      "cell_type": "code",
      "execution_count": null,
      "id": "consolidated-bathroom",
      "metadata": {
        "id": "consolidated-bathroom",
        "outputId": "95eb3833-2833-4638-a59b-90f0dff63256"
      },
      "outputs": [
        {
          "name": "stdout",
          "output_type": "stream",
          "text": [
            "Accuracy: 0.647\n"
          ]
        }
      ],
      "source": [
        "print('Accuracy: %.3f' % accuracy_score(Y_test, y_pred))"
      ]
    },
    {
      "cell_type": "code",
      "execution_count": null,
      "id": "lesser-repository",
      "metadata": {
        "id": "lesser-repository",
        "outputId": "048858e6-907d-45eb-a932-d5c9e252de86"
      },
      "outputs": [
        {
          "name": "stdout",
          "output_type": "stream",
          "text": [
            "Pipeline(steps=[('pca', PCA()), ('estimator', GaussianNB(var_smoothing=1e-06))])\n",
            "best score:\n",
            "0.7204687677779043\n",
            "{'estimator__var_smoothing': 1e-06}\n"
          ]
        }
      ],
      "source": [
        "from sklearn.model_selection import GridSearchCV\n",
        "from sklearn.pipeline import Pipeline\n",
        "from sklearn.decomposition import PCA\n",
        "pipe = Pipeline(steps=[\n",
        "                    ('pca', PCA()),\n",
        "                    ('estimator', GaussianNB()),\n",
        "                    ])\n",
        "    \n",
        "parameters = {'estimator__var_smoothing': [1e-11, 1e-10, 1e-9,1e-8,1e-7,1e-6,1e-5,1e-4]}\n",
        "Bayes = GridSearchCV(pipe, parameters, scoring='accuracy', cv=10).fit(X_train, Y_train)\n",
        "print(Bayes.best_estimator_)\n",
        "print('best score:')\n",
        "print(Bayes.best_score_)\n",
        "predictions = Bayes.best_estimator_.predict(X_test)\n",
        "print(Bayes.best_params_)"
      ]
    },
    {
      "cell_type": "code",
      "execution_count": null,
      "id": "divided-honduras",
      "metadata": {
        "id": "divided-honduras"
      },
      "outputs": [],
      "source": [
        ""
      ]
    },
    {
      "cell_type": "code",
      "execution_count": null,
      "id": "southern-chess",
      "metadata": {
        "id": "southern-chess"
      },
      "outputs": [],
      "source": [
        ""
      ]
    }
  ],
  "metadata": {
    "kernelspec": {
      "display_name": "Python 3",
      "language": "python",
      "name": "python3"
    },
    "language_info": {
      "codemirror_mode": {
        "name": "ipython",
        "version": 3
      },
      "file_extension": ".py",
      "mimetype": "text/x-python",
      "name": "python",
      "nbconvert_exporter": "python",
      "pygments_lexer": "ipython3",
      "version": "3.7.1"
    },
    "colab": {
      "name": "Naive_Bayes_Model1-Gaussian.ipynb",
      "provenance": []
    }
  },
  "nbformat": 4,
  "nbformat_minor": 5
}