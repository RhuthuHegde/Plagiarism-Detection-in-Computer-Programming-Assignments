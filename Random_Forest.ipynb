{
  "cells": [
    {
      "cell_type": "code",
      "execution_count": null,
      "id": "instrumental-billion",
      "metadata": {
        "id": "instrumental-billion"
      },
      "outputs": [],
      "source": [
        "import pandas as pd\n",
        "import imblearn\n",
        "from collections import Counter\n",
        "data = pd.read_csv('new_dataset_with_label.csv',index_col=0)"
      ]
    },
    {
      "cell_type": "code",
      "execution_count": null,
      "id": "global-photography",
      "metadata": {
        "id": "global-photography",
        "outputId": "31fe5b80-d017-4ba5-dd74-2473c575b5c1"
      },
      "outputs": [
        {
          "data": {
            "text/html": [
              "<div>\n",
              "<style scoped>\n",
              "    .dataframe tbody tr th:only-of-type {\n",
              "        vertical-align: middle;\n",
              "    }\n",
              "\n",
              "    .dataframe tbody tr th {\n",
              "        vertical-align: top;\n",
              "    }\n",
              "\n",
              "    .dataframe thead th {\n",
              "        text-align: right;\n",
              "    }\n",
              "</style>\n",
              "<table border=\"1\" class=\"dataframe\">\n",
              "  <thead>\n",
              "    <tr style=\"text-align: right;\">\n",
              "      <th></th>\n",
              "      <th>total_time</th>\n",
              "      <th>compiled</th>\n",
              "      <th>compiled successfully</th>\n",
              "      <th>ran_tests</th>\n",
              "      <th>test_results</th>\n",
              "      <th>modified</th>\n",
              "      <th>add_lines</th>\n",
              "      <th>change</th>\n",
              "      <th>remove_lines</th>\n",
              "      <th>cps</th>\n",
              "      <th>paste_lines</th>\n",
              "      <th>max_pastes</th>\n",
              "      <th>average_test_results</th>\n",
              "      <th>avg_paste</th>\n",
              "    </tr>\n",
              "    <tr>\n",
              "      <th>Student</th>\n",
              "      <th></th>\n",
              "      <th></th>\n",
              "      <th></th>\n",
              "      <th></th>\n",
              "      <th></th>\n",
              "      <th></th>\n",
              "      <th></th>\n",
              "      <th></th>\n",
              "      <th></th>\n",
              "      <th></th>\n",
              "      <th></th>\n",
              "      <th></th>\n",
              "      <th></th>\n",
              "      <th></th>\n",
              "    </tr>\n",
              "  </thead>\n",
              "  <tbody>\n",
              "    <tr>\n",
              "      <th>A2016\\student1013</th>\n",
              "      <td>6894752.0</td>\n",
              "      <td>1441.0</td>\n",
              "      <td>1116.0</td>\n",
              "      <td>689.0</td>\n",
              "      <td>1349.0</td>\n",
              "      <td>38441.0</td>\n",
              "      <td>12365.0</td>\n",
              "      <td>32597.0</td>\n",
              "      <td>2023.0</td>\n",
              "      <td>0.003436</td>\n",
              "      <td>5202.0</td>\n",
              "      <td>120.0</td>\n",
              "      <td>1.957910</td>\n",
              "      <td>4.553441</td>\n",
              "    </tr>\n",
              "    <tr>\n",
              "      <th>A2016\\student1016</th>\n",
              "      <td>37440.0</td>\n",
              "      <td>NaN</td>\n",
              "      <td>NaN</td>\n",
              "      <td>NaN</td>\n",
              "      <td>NaN</td>\n",
              "      <td>1.0</td>\n",
              "      <td>NaN</td>\n",
              "      <td>NaN</td>\n",
              "      <td>8.0</td>\n",
              "      <td>0.000000</td>\n",
              "      <td>NaN</td>\n",
              "      <td>NaN</td>\n",
              "      <td>NaN</td>\n",
              "      <td>NaN</td>\n",
              "    </tr>\n",
              "    <tr>\n",
              "      <th>A2016\\student1021</th>\n",
              "      <td>9363152.0</td>\n",
              "      <td>2108.0</td>\n",
              "      <td>1278.0</td>\n",
              "      <td>787.0</td>\n",
              "      <td>1605.0</td>\n",
              "      <td>58550.0</td>\n",
              "      <td>19160.0</td>\n",
              "      <td>49003.0</td>\n",
              "      <td>6105.0</td>\n",
              "      <td>0.003997</td>\n",
              "      <td>7270.0</td>\n",
              "      <td>162.0</td>\n",
              "      <td>2.039390</td>\n",
              "      <td>5.147455</td>\n",
              "    </tr>\n",
              "    <tr>\n",
              "      <th>A2016\\student1029</th>\n",
              "      <td>6949656.0</td>\n",
              "      <td>1775.0</td>\n",
              "      <td>1201.0</td>\n",
              "      <td>852.0</td>\n",
              "      <td>754.0</td>\n",
              "      <td>36461.0</td>\n",
              "      <td>15605.0</td>\n",
              "      <td>30332.0</td>\n",
              "      <td>2683.0</td>\n",
              "      <td>0.005040</td>\n",
              "      <td>7235.0</td>\n",
              "      <td>165.0</td>\n",
              "      <td>0.884977</td>\n",
              "      <td>4.840774</td>\n",
              "    </tr>\n",
              "    <tr>\n",
              "      <th>A2016\\student1066</th>\n",
              "      <td>2784368.0</td>\n",
              "      <td>338.0</td>\n",
              "      <td>223.0</td>\n",
              "      <td>449.0</td>\n",
              "      <td>810.0</td>\n",
              "      <td>13924.0</td>\n",
              "      <td>6140.0</td>\n",
              "      <td>12169.0</td>\n",
              "      <td>369.0</td>\n",
              "      <td>0.004970</td>\n",
              "      <td>3988.0</td>\n",
              "      <td>139.0</td>\n",
              "      <td>1.804009</td>\n",
              "      <td>3.470160</td>\n",
              "    </tr>\n",
              "    <tr>\n",
              "      <th>...</th>\n",
              "      <td>...</td>\n",
              "      <td>...</td>\n",
              "      <td>...</td>\n",
              "      <td>...</td>\n",
              "      <td>...</td>\n",
              "      <td>...</td>\n",
              "      <td>...</td>\n",
              "      <td>...</td>\n",
              "      <td>...</td>\n",
              "      <td>...</td>\n",
              "      <td>...</td>\n",
              "      <td>...</td>\n",
              "      <td>...</td>\n",
              "      <td>...</td>\n",
              "    </tr>\n",
              "    <tr>\n",
              "      <th>B2016\\student9946</th>\n",
              "      <td>2989136.0</td>\n",
              "      <td>311.0</td>\n",
              "      <td>127.0</td>\n",
              "      <td>220.0</td>\n",
              "      <td>335.0</td>\n",
              "      <td>15501.0</td>\n",
              "      <td>12362.0</td>\n",
              "      <td>13196.0</td>\n",
              "      <td>1776.0</td>\n",
              "      <td>0.017313</td>\n",
              "      <td>9610.0</td>\n",
              "      <td>315.0</td>\n",
              "      <td>1.522727</td>\n",
              "      <td>5.385016</td>\n",
              "    </tr>\n",
              "    <tr>\n",
              "      <th>B2016\\student9949</th>\n",
              "      <td>7787496.0</td>\n",
              "      <td>1961.0</td>\n",
              "      <td>1199.0</td>\n",
              "      <td>588.0</td>\n",
              "      <td>468.0</td>\n",
              "      <td>39601.0</td>\n",
              "      <td>9607.0</td>\n",
              "      <td>30431.0</td>\n",
              "      <td>3452.0</td>\n",
              "      <td>0.002364</td>\n",
              "      <td>3735.0</td>\n",
              "      <td>347.0</td>\n",
              "      <td>0.795918</td>\n",
              "      <td>4.929317</td>\n",
              "    </tr>\n",
              "    <tr>\n",
              "      <th>B2016\\student9972</th>\n",
              "      <td>12352640.0</td>\n",
              "      <td>5669.0</td>\n",
              "      <td>3568.0</td>\n",
              "      <td>973.0</td>\n",
              "      <td>612.0</td>\n",
              "      <td>55655.0</td>\n",
              "      <td>20719.0</td>\n",
              "      <td>47870.0</td>\n",
              "      <td>3707.0</td>\n",
              "      <td>0.004338</td>\n",
              "      <td>11067.0</td>\n",
              "      <td>232.0</td>\n",
              "      <td>0.628983</td>\n",
              "      <td>4.842414</td>\n",
              "    </tr>\n",
              "    <tr>\n",
              "      <th>B2016\\student9979</th>\n",
              "      <td>8496.0</td>\n",
              "      <td>NaN</td>\n",
              "      <td>NaN</td>\n",
              "      <td>NaN</td>\n",
              "      <td>NaN</td>\n",
              "      <td>69.0</td>\n",
              "      <td>38.0</td>\n",
              "      <td>52.0</td>\n",
              "      <td>19.0</td>\n",
              "      <td>0.002943</td>\n",
              "      <td>17.0</td>\n",
              "      <td>2.0</td>\n",
              "      <td>NaN</td>\n",
              "      <td>1.470588</td>\n",
              "    </tr>\n",
              "    <tr>\n",
              "      <th>B2016\\student9998</th>\n",
              "      <td>6599896.0</td>\n",
              "      <td>1659.0</td>\n",
              "      <td>993.0</td>\n",
              "      <td>323.0</td>\n",
              "      <td>331.0</td>\n",
              "      <td>33109.0</td>\n",
              "      <td>58287.0</td>\n",
              "      <td>28059.0</td>\n",
              "      <td>1000.0</td>\n",
              "      <td>0.053096</td>\n",
              "      <td>51231.0</td>\n",
              "      <td>325.0</td>\n",
              "      <td>1.024768</td>\n",
              "      <td>6.840116</td>\n",
              "    </tr>\n",
              "  </tbody>\n",
              "</table>\n",
              "<p>2339 rows × 14 columns</p>\n",
              "</div>"
            ],
            "text/plain": [
              "                   total_time  compiled  compiled successfully  ran_tests  \\\n",
              "Student                                                                     \n",
              "A2016\\student1013   6894752.0    1441.0                 1116.0      689.0   \n",
              "A2016\\student1016     37440.0       NaN                    NaN        NaN   \n",
              "A2016\\student1021   9363152.0    2108.0                 1278.0      787.0   \n",
              "A2016\\student1029   6949656.0    1775.0                 1201.0      852.0   \n",
              "A2016\\student1066   2784368.0     338.0                  223.0      449.0   \n",
              "...                       ...       ...                    ...        ...   \n",
              "B2016\\student9946   2989136.0     311.0                  127.0      220.0   \n",
              "B2016\\student9949   7787496.0    1961.0                 1199.0      588.0   \n",
              "B2016\\student9972  12352640.0    5669.0                 3568.0      973.0   \n",
              "B2016\\student9979      8496.0       NaN                    NaN        NaN   \n",
              "B2016\\student9998   6599896.0    1659.0                  993.0      323.0   \n",
              "\n",
              "                   test_results  modified  add_lines   change  remove_lines  \\\n",
              "Student                                                                       \n",
              "A2016\\student1013        1349.0   38441.0    12365.0  32597.0        2023.0   \n",
              "A2016\\student1016           NaN       1.0        NaN      NaN           8.0   \n",
              "A2016\\student1021        1605.0   58550.0    19160.0  49003.0        6105.0   \n",
              "A2016\\student1029         754.0   36461.0    15605.0  30332.0        2683.0   \n",
              "A2016\\student1066         810.0   13924.0     6140.0  12169.0         369.0   \n",
              "...                         ...       ...        ...      ...           ...   \n",
              "B2016\\student9946         335.0   15501.0    12362.0  13196.0        1776.0   \n",
              "B2016\\student9949         468.0   39601.0     9607.0  30431.0        3452.0   \n",
              "B2016\\student9972         612.0   55655.0    20719.0  47870.0        3707.0   \n",
              "B2016\\student9979           NaN      69.0       38.0     52.0          19.0   \n",
              "B2016\\student9998         331.0   33109.0    58287.0  28059.0        1000.0   \n",
              "\n",
              "                        cps  paste_lines  max_pastes  average_test_results  \\\n",
              "Student                                                                      \n",
              "A2016\\student1013  0.003436       5202.0       120.0              1.957910   \n",
              "A2016\\student1016  0.000000          NaN         NaN                   NaN   \n",
              "A2016\\student1021  0.003997       7270.0       162.0              2.039390   \n",
              "A2016\\student1029  0.005040       7235.0       165.0              0.884977   \n",
              "A2016\\student1066  0.004970       3988.0       139.0              1.804009   \n",
              "...                     ...          ...         ...                   ...   \n",
              "B2016\\student9946  0.017313       9610.0       315.0              1.522727   \n",
              "B2016\\student9949  0.002364       3735.0       347.0              0.795918   \n",
              "B2016\\student9972  0.004338      11067.0       232.0              0.628983   \n",
              "B2016\\student9979  0.002943         17.0         2.0                   NaN   \n",
              "B2016\\student9998  0.053096      51231.0       325.0              1.024768   \n",
              "\n",
              "                   avg_paste  \n",
              "Student                       \n",
              "A2016\\student1013   4.553441  \n",
              "A2016\\student1016        NaN  \n",
              "A2016\\student1021   5.147455  \n",
              "A2016\\student1029   4.840774  \n",
              "A2016\\student1066   3.470160  \n",
              "...                      ...  \n",
              "B2016\\student9946   5.385016  \n",
              "B2016\\student9949   4.929317  \n",
              "B2016\\student9972   4.842414  \n",
              "B2016\\student9979   1.470588  \n",
              "B2016\\student9998   6.840116  \n",
              "\n",
              "[2339 rows x 14 columns]"
            ]
          },
          "execution_count": 2,
          "metadata": {},
          "output_type": "execute_result"
        }
      ],
      "source": [
        "data.iloc[:2339,:-1]"
      ]
    },
    {
      "cell_type": "code",
      "execution_count": null,
      "id": "valid-preparation",
      "metadata": {
        "id": "valid-preparation"
      },
      "outputs": [],
      "source": [
        "data = data.fillna(0)\n",
        "data[\"Label\"] =data[\"Label\"].astype(\"int64\")\n",
        "x = data.iloc[:2339,:-1]\n",
        "y = data.iloc[:2339,-1]"
      ]
    },
    {
      "cell_type": "code",
      "execution_count": null,
      "id": "transparent-president",
      "metadata": {
        "id": "transparent-president",
        "outputId": "43ac9863-474d-4c96-90b0-598cd1c7a014"
      },
      "outputs": [
        {
          "name": "stderr",
          "output_type": "stream",
          "text": [
            "C:\\Users\\Keerthana\\Anaconda3\\lib\\site-packages\\seaborn\\_decorators.py:43: FutureWarning: Pass the following variable as a keyword arg: x. From version 0.12, the only valid positional argument will be `data`, and passing other arguments without an explicit keyword will result in an error or misinterpretation.\n",
            "  FutureWarning\n"
          ]
        },
        {
          "data": {
            "text/plain": [
              "[Text(0, 0, 'Not plagiarised'), Text(1, 0, 'plagiarised')]"
            ]
          },
          "execution_count": 4,
          "metadata": {},
          "output_type": "execute_result"
        },
        {
          "data": {
            "image/png": "[encoded data removed]",
            "text/plain": [
              "<Figure size 432x288 with 1 Axes>"
            ]
          },
          "metadata": {
            "needs_background": "light"
          },
          "output_type": "display_data"
        }
      ],
      "source": [
        "import seaborn as sns\n",
        "g = sns.countplot(data['Label'])\n",
        "g.set_xticklabels(['Not plagiarised','plagiarised'])"
      ]
    },
    {
      "cell_type": "code",
      "execution_count": null,
      "id": "collect-lloyd",
      "metadata": {
        "id": "collect-lloyd",
        "outputId": "9ca7dc82-9544-43c7-89ff-1440bcd8b85c"
      },
      "outputs": [
        {
          "data": {
            "text/plain": [
              "2339"
            ]
          },
          "execution_count": 5,
          "metadata": {},
          "output_type": "execute_result"
        }
      ],
      "source": [
        "len(x)"
      ]
    },
    {
      "cell_type": "code",
      "execution_count": null,
      "id": "dominant-championship",
      "metadata": {
        "id": "dominant-championship"
      },
      "outputs": [],
      "source": [
        "from sklearn.model_selection import train_test_split\n",
        "X_train, X_test, Y_train, Y_test = train_test_split(x,y, test_size=0.2)"
      ]
    },
    {
      "cell_type": "code",
      "execution_count": null,
      "id": "lovely-strand",
      "metadata": {
        "id": "lovely-strand"
      },
      "outputs": [],
      "source": [
        "from imblearn.over_sampling import RandomOverSampler\n",
        "oversample = RandomOverSampler(sampling_strategy='minority')\n",
        "# fit and apply the transform\n",
        "X_over, y_over = oversample.fit_resample(X_train,Y_train)"
      ]
    },
    {
      "cell_type": "code",
      "execution_count": null,
      "id": "compact-boundary",
      "metadata": {
        "id": "compact-boundary",
        "outputId": "adbf157d-8a06-4f8f-8786-6b153434b600"
      },
      "outputs": [
        {
          "name": "stdout",
          "output_type": "stream",
          "text": [
            "[(0, 613), (1, 626)]\n"
          ]
        }
      ],
      "source": [
        "smote_enn = imblearn.combine.SMOTEENN(random_state=0,sampling_strategy='minority')\n",
        "x_train_resampled, y_train_resampled = smote_enn.fit_resample(X_train,Y_train)\n",
        "print(sorted(Counter(y_train_resampled).items()))"
      ]
    },
    {
      "cell_type": "code",
      "execution_count": null,
      "id": "understanding-infrared",
      "metadata": {
        "id": "understanding-infrared",
        "outputId": "ece626b3-5edd-4a53-f04b-2025939f43f8"
      },
      "outputs": [
        {
          "data": {
            "text/html": [
              "<div>\n",
              "<style scoped>\n",
              "    .dataframe tbody tr th:only-of-type {\n",
              "        vertical-align: middle;\n",
              "    }\n",
              "\n",
              "    .dataframe tbody tr th {\n",
              "        vertical-align: top;\n",
              "    }\n",
              "\n",
              "    .dataframe thead th {\n",
              "        text-align: right;\n",
              "    }\n",
              "</style>\n",
              "<table border=\"1\" class=\"dataframe\">\n",
              "  <thead>\n",
              "    <tr style=\"text-align: right;\">\n",
              "      <th></th>\n",
              "      <th>total_time</th>\n",
              "      <th>compiled</th>\n",
              "      <th>compiled successfully</th>\n",
              "      <th>ran_tests</th>\n",
              "      <th>test_results</th>\n",
              "      <th>modified</th>\n",
              "      <th>add_lines</th>\n",
              "      <th>change</th>\n",
              "      <th>remove_lines</th>\n",
              "      <th>cps</th>\n",
              "      <th>paste_lines</th>\n",
              "      <th>max_pastes</th>\n",
              "      <th>average_test_results</th>\n",
              "      <th>avg_paste</th>\n",
              "    </tr>\n",
              "  </thead>\n",
              "  <tbody>\n",
              "    <tr>\n",
              "      <th>0</th>\n",
              "      <td>8.360000e+03</td>\n",
              "      <td>0.000000</td>\n",
              "      <td>0.000000</td>\n",
              "      <td>2.000000</td>\n",
              "      <td>0.000000</td>\n",
              "      <td>2.000000</td>\n",
              "      <td>1.000000</td>\n",
              "      <td>1.000000</td>\n",
              "      <td>0.000000</td>\n",
              "      <td>0.000000</td>\n",
              "      <td>0.000000</td>\n",
              "      <td>0.000000</td>\n",
              "      <td>0.000000</td>\n",
              "      <td>0.000000</td>\n",
              "    </tr>\n",
              "    <tr>\n",
              "      <th>1</th>\n",
              "      <td>2.400000e+04</td>\n",
              "      <td>50.000000</td>\n",
              "      <td>50.000000</td>\n",
              "      <td>0.000000</td>\n",
              "      <td>0.000000</td>\n",
              "      <td>1.000000</td>\n",
              "      <td>0.000000</td>\n",
              "      <td>0.000000</td>\n",
              "      <td>15.000000</td>\n",
              "      <td>0.000000</td>\n",
              "      <td>0.000000</td>\n",
              "      <td>0.000000</td>\n",
              "      <td>0.000000</td>\n",
              "      <td>0.000000</td>\n",
              "    </tr>\n",
              "    <tr>\n",
              "      <th>2</th>\n",
              "      <td>3.358400e+05</td>\n",
              "      <td>45.000000</td>\n",
              "      <td>10.000000</td>\n",
              "      <td>60.000000</td>\n",
              "      <td>0.000000</td>\n",
              "      <td>1842.000000</td>\n",
              "      <td>209.000000</td>\n",
              "      <td>1670.000000</td>\n",
              "      <td>35.000000</td>\n",
              "      <td>0.000027</td>\n",
              "      <td>9.000000</td>\n",
              "      <td>1.000000</td>\n",
              "      <td>0.000000</td>\n",
              "      <td>1.000000</td>\n",
              "    </tr>\n",
              "    <tr>\n",
              "      <th>3</th>\n",
              "      <td>3.696000e+04</td>\n",
              "      <td>0.000000</td>\n",
              "      <td>0.000000</td>\n",
              "      <td>0.000000</td>\n",
              "      <td>0.000000</td>\n",
              "      <td>1.000000</td>\n",
              "      <td>8.000000</td>\n",
              "      <td>0.000000</td>\n",
              "      <td>0.000000</td>\n",
              "      <td>0.002029</td>\n",
              "      <td>8.000000</td>\n",
              "      <td>34.000000</td>\n",
              "      <td>0.000000</td>\n",
              "      <td>9.375000</td>\n",
              "    </tr>\n",
              "    <tr>\n",
              "      <th>4</th>\n",
              "      <td>3.696000e+04</td>\n",
              "      <td>0.000000</td>\n",
              "      <td>0.000000</td>\n",
              "      <td>0.000000</td>\n",
              "      <td>0.000000</td>\n",
              "      <td>1.000000</td>\n",
              "      <td>10.000000</td>\n",
              "      <td>0.000000</td>\n",
              "      <td>0.000000</td>\n",
              "      <td>0.000325</td>\n",
              "      <td>10.000000</td>\n",
              "      <td>2.000000</td>\n",
              "      <td>0.000000</td>\n",
              "      <td>1.200000</td>\n",
              "    </tr>\n",
              "    <tr>\n",
              "      <th>...</th>\n",
              "      <td>...</td>\n",
              "      <td>...</td>\n",
              "      <td>...</td>\n",
              "      <td>...</td>\n",
              "      <td>...</td>\n",
              "      <td>...</td>\n",
              "      <td>...</td>\n",
              "      <td>...</td>\n",
              "      <td>...</td>\n",
              "      <td>...</td>\n",
              "      <td>...</td>\n",
              "      <td>...</td>\n",
              "      <td>...</td>\n",
              "      <td>...</td>\n",
              "    </tr>\n",
              "    <tr>\n",
              "      <th>1234</th>\n",
              "      <td>2.318901e+06</td>\n",
              "      <td>417.794558</td>\n",
              "      <td>287.988371</td>\n",
              "      <td>189.912214</td>\n",
              "      <td>330.557118</td>\n",
              "      <td>13265.092270</td>\n",
              "      <td>3537.955841</td>\n",
              "      <td>11543.005017</td>\n",
              "      <td>586.136429</td>\n",
              "      <td>0.004455</td>\n",
              "      <td>1355.807251</td>\n",
              "      <td>266.649388</td>\n",
              "      <td>2.011235</td>\n",
              "      <td>8.028814</td>\n",
              "    </tr>\n",
              "    <tr>\n",
              "      <th>1235</th>\n",
              "      <td>5.337409e+06</td>\n",
              "      <td>1350.963996</td>\n",
              "      <td>874.418563</td>\n",
              "      <td>857.163051</td>\n",
              "      <td>470.920189</td>\n",
              "      <td>28112.142306</td>\n",
              "      <td>16635.796741</td>\n",
              "      <td>23344.359037</td>\n",
              "      <td>1711.421401</td>\n",
              "      <td>0.004913</td>\n",
              "      <td>9907.399284</td>\n",
              "      <td>156.003015</td>\n",
              "      <td>0.531063</td>\n",
              "      <td>3.809998</td>\n",
              "    </tr>\n",
              "    <tr>\n",
              "      <th>1236</th>\n",
              "      <td>4.806433e+06</td>\n",
              "      <td>1125.697994</td>\n",
              "      <td>762.993672</td>\n",
              "      <td>353.045372</td>\n",
              "      <td>194.393829</td>\n",
              "      <td>26111.871438</td>\n",
              "      <td>8630.560651</td>\n",
              "      <td>22203.602001</td>\n",
              "      <td>1505.796145</td>\n",
              "      <td>0.002379</td>\n",
              "      <td>3357.976406</td>\n",
              "      <td>38.334723</td>\n",
              "      <td>0.494651</td>\n",
              "      <td>2.824705</td>\n",
              "    </tr>\n",
              "    <tr>\n",
              "      <th>1237</th>\n",
              "      <td>8.692382e+05</td>\n",
              "      <td>105.391063</td>\n",
              "      <td>51.592766</td>\n",
              "      <td>66.423405</td>\n",
              "      <td>165.788730</td>\n",
              "      <td>4926.777808</td>\n",
              "      <td>1906.969386</td>\n",
              "      <td>4296.046108</td>\n",
              "      <td>280.602333</td>\n",
              "      <td>0.005503</td>\n",
              "      <td>1199.822798</td>\n",
              "      <td>80.864893</td>\n",
              "      <td>2.370981</td>\n",
              "      <td>4.056933</td>\n",
              "    </tr>\n",
              "    <tr>\n",
              "      <th>1238</th>\n",
              "      <td>2.875609e+06</td>\n",
              "      <td>455.741002</td>\n",
              "      <td>219.681971</td>\n",
              "      <td>273.714766</td>\n",
              "      <td>200.295073</td>\n",
              "      <td>15763.795773</td>\n",
              "      <td>6019.852994</td>\n",
              "      <td>13699.481024</td>\n",
              "      <td>926.783635</td>\n",
              "      <td>0.005786</td>\n",
              "      <td>3555.139868</td>\n",
              "      <td>169.052472</td>\n",
              "      <td>0.772076</td>\n",
              "      <td>6.010720</td>\n",
              "    </tr>\n",
              "  </tbody>\n",
              "</table>\n",
              "<p>1239 rows × 14 columns</p>\n",
              "</div>"
            ],
            "text/plain": [
              "        total_time     compiled  compiled successfully   ran_tests  \\\n",
              "0     8.360000e+03     0.000000               0.000000    2.000000   \n",
              "1     2.400000e+04    50.000000              50.000000    0.000000   \n",
              "2     3.358400e+05    45.000000              10.000000   60.000000   \n",
              "3     3.696000e+04     0.000000               0.000000    0.000000   \n",
              "4     3.696000e+04     0.000000               0.000000    0.000000   \n",
              "...            ...          ...                    ...         ...   \n",
              "1234  2.318901e+06   417.794558             287.988371  189.912214   \n",
              "1235  5.337409e+06  1350.963996             874.418563  857.163051   \n",
              "1236  4.806433e+06  1125.697994             762.993672  353.045372   \n",
              "1237  8.692382e+05   105.391063              51.592766   66.423405   \n",
              "1238  2.875609e+06   455.741002             219.681971  273.714766   \n",
              "\n",
              "      test_results      modified     add_lines        change  remove_lines  \\\n",
              "0         0.000000      2.000000      1.000000      1.000000      0.000000   \n",
              "1         0.000000      1.000000      0.000000      0.000000     15.000000   \n",
              "2         0.000000   1842.000000    209.000000   1670.000000     35.000000   \n",
              "3         0.000000      1.000000      8.000000      0.000000      0.000000   \n",
              "4         0.000000      1.000000     10.000000      0.000000      0.000000   \n",
              "...            ...           ...           ...           ...           ...   \n",
              "1234    330.557118  13265.092270   3537.955841  11543.005017    586.136429   \n",
              "1235    470.920189  28112.142306  16635.796741  23344.359037   1711.421401   \n",
              "1236    194.393829  26111.871438   8630.560651  22203.602001   1505.796145   \n",
              "1237    165.788730   4926.777808   1906.969386   4296.046108    280.602333   \n",
              "1238    200.295073  15763.795773   6019.852994  13699.481024    926.783635   \n",
              "\n",
              "           cps  paste_lines  max_pastes  average_test_results  avg_paste  \n",
              "0     0.000000     0.000000    0.000000              0.000000   0.000000  \n",
              "1     0.000000     0.000000    0.000000              0.000000   0.000000  \n",
              "2     0.000027     9.000000    1.000000              0.000000   1.000000  \n",
              "3     0.002029     8.000000   34.000000              0.000000   9.375000  \n",
              "4     0.000325    10.000000    2.000000              0.000000   1.200000  \n",
              "...        ...          ...         ...                   ...        ...  \n",
              "1234  0.004455  1355.807251  266.649388              2.011235   8.028814  \n",
              "1235  0.004913  9907.399284  156.003015              0.531063   3.809998  \n",
              "1236  0.002379  3357.976406   38.334723              0.494651   2.824705  \n",
              "1237  0.005503  1199.822798   80.864893              2.370981   4.056933  \n",
              "1238  0.005786  3555.139868  169.052472              0.772076   6.010720  \n",
              "\n",
              "[1239 rows x 14 columns]"
            ]
          },
          "execution_count": 15,
          "metadata": {},
          "output_type": "execute_result"
        }
      ],
      "source": [
        "x_train_resampled"
      ]
    },
    {
      "cell_type": "code",
      "execution_count": null,
      "id": "gorgeous-sense",
      "metadata": {
        "id": "gorgeous-sense",
        "outputId": "80b6c76f-8b6b-4431-df5d-9e034e1aa476"
      },
      "outputs": [
        {
          "data": {
            "text/plain": [
              "0       0\n",
              "1       0\n",
              "2       0\n",
              "3       0\n",
              "4       0\n",
              "       ..\n",
              "1234    1\n",
              "1235    1\n",
              "1236    1\n",
              "1237    1\n",
              "1238    1\n",
              "Name: Label, Length: 1239, dtype: int64"
            ]
          },
          "execution_count": 16,
          "metadata": {},
          "output_type": "execute_result"
        }
      ],
      "source": [
        "y_train_resampled\n"
      ]
    },
    {
      "cell_type": "code",
      "execution_count": null,
      "id": "sorted-evening",
      "metadata": {
        "id": "sorted-evening",
        "outputId": "bdf52e2e-4123-40b3-fb9f-b2d1bff9e05a"
      },
      "outputs": [
        {
          "name": "stdout",
          "output_type": "stream",
          "text": [
            "0.6495726495726496\n"
          ]
        }
      ],
      "source": [
        "from sklearn.ensemble import RandomForestClassifier\n",
        "\n",
        "\n",
        "ran = RandomForestClassifier(n_estimators= 800,\n",
        " min_samples_split=2,\n",
        " min_samples_leaf=1,\n",
        " max_features= 'auto',\n",
        " max_depth=100,\n",
        " bootstrap =True)\n",
        "ran.fit(x_train_resampled,y_train_resampled)\n",
        "print(ran.score(X_test, Y_test))\n",
        "y_pred = ran.predict(X_test)"
      ]
    },
    {
      "cell_type": "code",
      "execution_count": null,
      "id": "decent-proposition",
      "metadata": {
        "id": "decent-proposition",
        "outputId": "f1bf726f-6886-4417-8587-0d7611562078"
      },
      "outputs": [
        {
          "data": {
            "image/png": "[encoded data removed]",
            "text/plain": [
              "<Figure size 360x360 with 1 Axes>"
            ]
          },
          "metadata": {
            "needs_background": "light"
          },
          "output_type": "display_data"
        }
      ],
      "source": [
        "import matplotlib.pyplot as plt\n",
        "from sklearn.metrics import confusion_matrix\n",
        "from sklearn.metrics import precision_score, recall_score, f1_score, accuracy_score\n",
        "conf_matrix = confusion_matrix(y_true=Y_test, y_pred=ran.predict(X_test))\n",
        "#\n",
        "# Print the confusion matrix using Matplotlib\n",
        "#\n",
        "fig, ax = plt.subplots(figsize=(5, 5))\n",
        "ax.matshow(conf_matrix, cmap=plt.cm.Oranges, alpha=0.3)\n",
        "for i in range(conf_matrix.shape[0]):\n",
        "    for j in range(conf_matrix.shape[1]):\n",
        "        ax.text(x=j, y=i,s=conf_matrix[i, j], va='center', ha='center', size='xx-large')\n",
        " \n",
        "plt.xlabel('Predictions', fontsize=18)\n",
        "plt.ylabel('Actuals', fontsize=18)\n",
        "plt.title('Confusion Matrix', fontsize=18)\n",
        "plt.show()"
      ]
    },
    {
      "cell_type": "code",
      "execution_count": null,
      "id": "durable-roots",
      "metadata": {
        "id": "durable-roots",
        "outputId": "8a0fb580-a594-4833-a616-6b74f1079605"
      },
      "outputs": [
        {
          "name": "stdout",
          "output_type": "stream",
          "text": [
            "Precision: 0.422\n"
          ]
        }
      ],
      "source": [
        "print('Precision: %.3f' % precision_score(Y_test, y_pred))"
      ]
    },
    {
      "cell_type": "code",
      "execution_count": null,
      "id": "thrown-scale",
      "metadata": {
        "id": "thrown-scale",
        "outputId": "8ef49c21-ec8f-499d-fa5c-3017e28df960"
      },
      "outputs": [
        {
          "name": "stdout",
          "output_type": "stream",
          "text": [
            "Recall: 0.879\n"
          ]
        }
      ],
      "source": [
        "print('Recall: %.3f' % recall_score(Y_test, y_pred))"
      ]
    },
    {
      "cell_type": "code",
      "execution_count": null,
      "id": "destroyed-syndication",
      "metadata": {
        "id": "destroyed-syndication",
        "outputId": "1b8ab902-534b-4b2e-8574-bbe2ed850d30"
      },
      "outputs": [
        {
          "name": "stdout",
          "output_type": "stream",
          "text": [
            "Accuracy: 0.650\n"
          ]
        }
      ],
      "source": [
        "print('Accuracy: %.3f' % accuracy_score(Y_test, y_pred))"
      ]
    },
    {
      "cell_type": "code",
      "execution_count": null,
      "id": "brutal-eating",
      "metadata": {
        "id": "brutal-eating",
        "outputId": "2761aaf3-6087-4053-fb5d-e51f359e4e4a"
      },
      "outputs": [
        {
          "name": "stdout",
          "output_type": "stream",
          "text": [
            "F1 Score: 0.574\n"
          ]
        }
      ],
      "source": [
        "print('F1 Score: %.3f' % f1_score(Y_test, y_pred))"
      ]
    },
    {
      "cell_type": "code",
      "execution_count": null,
      "id": "packed-tsunami",
      "metadata": {
        "id": "packed-tsunami",
        "outputId": "c03a35c0-b89b-4a79-c91f-497d9f6f0a7a"
      },
      "outputs": [
        {
          "name": "stdout",
          "output_type": "stream",
          "text": [
            "{'n_estimators': [200, 400, 600, 800, 1000, 1200, 1400, 1600, 1800, 2000], 'max_features': ['auto', 'sqrt'], 'max_depth': [10, 20, 30, 40, 50, 60, 70, 80, 90, 100, 110, None], 'min_samples_split': [2, 5, 10], 'min_samples_leaf': [1, 2, 4], 'bootstrap': [True, False]}\n"
          ]
        }
      ],
      "source": [
        "from sklearn.model_selection import RandomizedSearchCV\n",
        "import numpy as np\n",
        "# Number of trees in random forest\n",
        "n_estimators = [int(x) for x in np.linspace(start = 200, stop = 2000, num = 10)]\n",
        "# Number of features to consider at every split\n",
        "max_features = ['auto', 'sqrt']\n",
        "# Maximum number of levels in tree\n",
        "max_depth = [int(x) for x in np.linspace(10, 110, num = 11)]\n",
        "max_depth.append(None)\n",
        "# Minimum number of samples required to split a node\n",
        "min_samples_split = [2, 5, 10]\n",
        "# Minimum number of samples required at each leaf node\n",
        "min_samples_leaf = [1, 2, 4]\n",
        "# Method of selecting samples for training each tree\n",
        "bootstrap = [True, False]\n",
        "# Create the random grid\n",
        "random_grid = {'n_estimators': n_estimators,\n",
        "               'max_features': max_features,\n",
        "               'max_depth': max_depth,\n",
        "               'min_samples_split': min_samples_split,\n",
        "               'min_samples_leaf': min_samples_leaf,\n",
        "               'bootstrap': bootstrap}\n",
        "print(random_grid)"
      ]
    },
    {
      "cell_type": "code",
      "execution_count": null,
      "id": "challenging-integral",
      "metadata": {
        "id": "challenging-integral",
        "outputId": "e6538860-da50-42d4-fee7-1f7fcccd8f97"
      },
      "outputs": [
        {
          "name": "stdout",
          "output_type": "stream",
          "text": [
            "Fitting 3 folds for each of 100 candidates, totalling 300 fits\n"
          ]
        },
        {
          "data": {
            "text/plain": [
              "RandomizedSearchCV(cv=3, estimator=RandomForestClassifier(), n_iter=100,\n",
              "                   n_jobs=-1,\n",
              "                   param_distributions={'bootstrap': [True, False],\n",
              "                                        'max_depth': [10, 20, 30, 40, 50, 60,\n",
              "                                                      70, 80, 90, 100, 110,\n",
              "                                                      None],\n",
              "                                        'max_features': ['auto', 'sqrt'],\n",
              "                                        'min_samples_leaf': [1, 2, 4],\n",
              "                                        'min_samples_split': [2, 5, 10],\n",
              "                                        'n_estimators': [200, 400, 600, 800,\n",
              "                                                         1000, 1200, 1400, 1600,\n",
              "                                                         1800, 2000]},\n",
              "                   random_state=42, verbose=2)"
            ]
          },
          "execution_count": 41,
          "metadata": {},
          "output_type": "execute_result"
        }
      ],
      "source": [
        "from sklearn.ensemble import RandomForestClassifier\n",
        "rf = RandomForestClassifier(random_state = 42)\n",
        "# Use the random grid to search for best hyperparameters\n",
        "# First create the base model to tune\n",
        "rf = RandomForestClassifier()\n",
        "# Random search of parameters, using 3 fold cross validation, \n",
        "# search across 100 different combinations, and use all available cores\n",
        "rf_random = RandomizedSearchCV(estimator = rf, param_distributions = random_grid, n_iter = 100, cv = 3, verbose=2, random_state=42, n_jobs = -1)\n",
        "# Fit the random search model\n",
        "rf_random.fit(x_train_resampled,y_train_resampled)"
      ]
    },
    {
      "cell_type": "code",
      "execution_count": null,
      "id": "structural-while",
      "metadata": {
        "id": "structural-while",
        "outputId": "de58a830-8c3d-4815-e8f9-3410a8d5ba46"
      },
      "outputs": [
        {
          "data": {
            "text/plain": [
              "{'n_estimators': 800,\n",
              " 'min_samples_split': 2,\n",
              " 'min_samples_leaf': 1,\n",
              " 'max_features': 'auto',\n",
              " 'max_depth': 100,\n",
              " 'bootstrap': True}"
            ]
          },
          "execution_count": 42,
          "metadata": {},
          "output_type": "execute_result"
        }
      ],
      "source": [
        "rf_random.best_params_"
      ]
    },
    {
      "cell_type": "code",
      "execution_count": null,
      "id": "expanded-liability",
      "metadata": {
        "id": "expanded-liability"
      },
      "outputs": [],
      "source": [
        ""
      ]
    }
  ],
  "metadata": {
    "kernelspec": {
      "display_name": "Python 3",
      "language": "python",
      "name": "python3"
    },
    "language_info": {
      "codemirror_mode": {
        "name": "ipython",
        "version": 3
      },
      "file_extension": ".py",
      "mimetype": "text/x-python",
      "name": "python",
      "nbconvert_exporter": "python",
      "pygments_lexer": "ipython3",
      "version": "3.7.1"
    },
    "colab": {
      "name": "Random Forest.ipynb",
      "provenance": []
    }
  },
  "nbformat": 4,
  "nbformat_minor": 5
}