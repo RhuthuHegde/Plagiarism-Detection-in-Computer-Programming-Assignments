{
  "nbformat": 4,
  "nbformat_minor": 0,
  "metadata": {
    "colab": {
      "name": "PlagiarismDetectionInComputerProgrammingAssignments_SVM.ipynb",
      "provenance": [],
      "collapsed_sections": []
    },
    "kernelspec": {
      "name": "python3",
      "display_name": "Python 3"
    },
    "language_info": {
      "name": "python"
    }
  },
  "cells": [
    {
      "cell_type": "markdown",
      "source": [
        "# **SUPPORT VECTOR MACHINE FOR PLAGIARISM DETECTION IN COMPUTER PROGRAMMING ASSIGNMENTS**"
      ],
      "metadata": {
        "id": "zspfz1KzctD_"
      }
    },
    {
      "cell_type": "markdown",
      "source": [
        "# **IMPORTING NECESSARY LIBRARIES**"
      ],
      "metadata": {
        "id": "kd3cQNyVPpE2"
      }
    },
    {
      "cell_type": "code",
      "execution_count": null,
      "metadata": {
        "id": "Z9WR_ZmhPpFQ"
      },
      "outputs": [],
      "source": [
        "import numpy as np\n",
        "import pandas as pd\n",
        "import matplotlib.pyplot as plt\n",
        "import seaborn as sns\n",
        "import pickle\n",
        "from sklearn.metrics import classification_report\n",
        "from sklearn import svm\n",
        "from sklearn import preprocessing\n",
        "from sklearn.metrics import confusion_matrix\n",
        "from sklearn.metrics import ConfusionMatrixDisplay\n",
        "from sklearn.metrics import recall_score\n",
        "from sklearn.metrics import f1_score\n",
        "from sklearn.utils import resample"
      ]
    },
    {
      "cell_type": "markdown",
      "source": [
        "# **DATA PREPROCESSING**"
      ],
      "metadata": {
        "id": "CeXRN9-IPpFS"
      }
    },
    {
      "cell_type": "code",
      "execution_count": null,
      "metadata": {
        "colab": {
          "base_uri": "https://localhost:8080/",
          "height": 305
        },
        "outputId": "11eed53f-c07e-41ee-fe48-edabdfa98784",
        "id": "N1MWqi6iPpFS"
      },
      "outputs": [
        {
          "output_type": "stream",
          "name": "stdout",
          "text": [
            "(2339, 16)\n"
          ]
        },
        {
          "output_type": "execute_result",
          "data": {
            "text/plain": [
              "             roll_no  total_time  compiled  compiled successfully  ran_tests  \\\n",
              "0  A2016\\student1013   6894752.0    1441.0                 1116.0      689.0   \n",
              "1  A2016\\student1016     37440.0       NaN                    NaN        NaN   \n",
              "2  A2016\\student1021   9363152.0    2108.0                 1278.0      787.0   \n",
              "3  A2016\\student1029   6949656.0    1775.0                 1201.0      852.0   \n",
              "4  A2016\\student1066   2784368.0     338.0                  223.0      449.0   \n",
              "\n",
              "   test_results  modified  add_lines   change  remove_lines       cps  \\\n",
              "0        1349.0   38441.0    12365.0  32597.0        2023.0  0.003436   \n",
              "1           NaN       1.0        NaN      NaN           8.0  0.000000   \n",
              "2        1605.0   58550.0    19160.0  49003.0        6105.0  0.003997   \n",
              "3         754.0   36461.0    15605.0  30332.0        2683.0  0.005040   \n",
              "4         810.0   13924.0     6140.0  12169.0         369.0  0.004970   \n",
              "\n",
              "   paste_lines  max_pastes  average_test_results  avg_paste  op  \n",
              "0       5202.0       120.0              1.957910   4.553441   0  \n",
              "1          NaN         NaN                   NaN        NaN   0  \n",
              "2       7270.0       162.0              2.039390   5.147455   1  \n",
              "3       7235.0       165.0              0.884977   4.840774   1  \n",
              "4       3988.0       139.0              1.804009   3.470160   0  "
            ],
            "text/html": [
              "\n",
              "  <div id=\"df-a88a881f-b643-45c4-89f3-598e47e2b6bb\">\n",
              "    <div class=\"colab-df-container\">\n",
              "      <div>\n",
              "<style scoped>\n",
              "    .dataframe tbody tr th:only-of-type {\n",
              "        vertical-align: middle;\n",
              "    }\n",
              "\n",
              "    .dataframe tbody tr th {\n",
              "        vertical-align: top;\n",
              "    }\n",
              "\n",
              "    .dataframe thead th {\n",
              "        text-align: right;\n",
              "    }\n",
              "</style>\n",
              "<table border=\"1\" class=\"dataframe\">\n",
              "  <thead>\n",
              "    <tr style=\"text-align: right;\">\n",
              "      <th></th>\n",
              "      <th>roll_no</th>\n",
              "      <th>total_time</th>\n",
              "      <th>compiled</th>\n",
              "      <th>compiled successfully</th>\n",
              "      <th>ran_tests</th>\n",
              "      <th>test_results</th>\n",
              "      <th>modified</th>\n",
              "      <th>add_lines</th>\n",
              "      <th>change</th>\n",
              "      <th>remove_lines</th>\n",
              "      <th>cps</th>\n",
              "      <th>paste_lines</th>\n",
              "      <th>max_pastes</th>\n",
              "      <th>average_test_results</th>\n",
              "      <th>avg_paste</th>\n",
              "      <th>op</th>\n",
              "    </tr>\n",
              "  </thead>\n",
              "  <tbody>\n",
              "    <tr>\n",
              "      <th>0</th>\n",
              "      <td>A2016\\student1013</td>\n",
              "      <td>6894752.0</td>\n",
              "      <td>1441.0</td>\n",
              "      <td>1116.0</td>\n",
              "      <td>689.0</td>\n",
              "      <td>1349.0</td>\n",
              "      <td>38441.0</td>\n",
              "      <td>12365.0</td>\n",
              "      <td>32597.0</td>\n",
              "      <td>2023.0</td>\n",
              "      <td>0.003436</td>\n",
              "      <td>5202.0</td>\n",
              "      <td>120.0</td>\n",
              "      <td>1.957910</td>\n",
              "      <td>4.553441</td>\n",
              "      <td>0</td>\n",
              "    </tr>\n",
              "    <tr>\n",
              "      <th>1</th>\n",
              "      <td>A2016\\student1016</td>\n",
              "      <td>37440.0</td>\n",
              "      <td>NaN</td>\n",
              "      <td>NaN</td>\n",
              "      <td>NaN</td>\n",
              "      <td>NaN</td>\n",
              "      <td>1.0</td>\n",
              "      <td>NaN</td>\n",
              "      <td>NaN</td>\n",
              "      <td>8.0</td>\n",
              "      <td>0.000000</td>\n",
              "      <td>NaN</td>\n",
              "      <td>NaN</td>\n",
              "      <td>NaN</td>\n",
              "      <td>NaN</td>\n",
              "      <td>0</td>\n",
              "    </tr>\n",
              "    <tr>\n",
              "      <th>2</th>\n",
              "      <td>A2016\\student1021</td>\n",
              "      <td>9363152.0</td>\n",
              "      <td>2108.0</td>\n",
              "      <td>1278.0</td>\n",
              "      <td>787.0</td>\n",
              "      <td>1605.0</td>\n",
              "      <td>58550.0</td>\n",
              "      <td>19160.0</td>\n",
              "      <td>49003.0</td>\n",
              "      <td>6105.0</td>\n",
              "      <td>0.003997</td>\n",
              "      <td>7270.0</td>\n",
              "      <td>162.0</td>\n",
              "      <td>2.039390</td>\n",
              "      <td>5.147455</td>\n",
              "      <td>1</td>\n",
              "    </tr>\n",
              "    <tr>\n",
              "      <th>3</th>\n",
              "      <td>A2016\\student1029</td>\n",
              "      <td>6949656.0</td>\n",
              "      <td>1775.0</td>\n",
              "      <td>1201.0</td>\n",
              "      <td>852.0</td>\n",
              "      <td>754.0</td>\n",
              "      <td>36461.0</td>\n",
              "      <td>15605.0</td>\n",
              "      <td>30332.0</td>\n",
              "      <td>2683.0</td>\n",
              "      <td>0.005040</td>\n",
              "      <td>7235.0</td>\n",
              "      <td>165.0</td>\n",
              "      <td>0.884977</td>\n",
              "      <td>4.840774</td>\n",
              "      <td>1</td>\n",
              "    </tr>\n",
              "    <tr>\n",
              "      <th>4</th>\n",
              "      <td>A2016\\student1066</td>\n",
              "      <td>2784368.0</td>\n",
              "      <td>338.0</td>\n",
              "      <td>223.0</td>\n",
              "      <td>449.0</td>\n",
              "      <td>810.0</td>\n",
              "      <td>13924.0</td>\n",
              "      <td>6140.0</td>\n",
              "      <td>12169.0</td>\n",
              "      <td>369.0</td>\n",
              "      <td>0.004970</td>\n",
              "      <td>3988.0</td>\n",
              "      <td>139.0</td>\n",
              "      <td>1.804009</td>\n",
              "      <td>3.470160</td>\n",
              "      <td>0</td>\n",
              "    </tr>\n",
              "  </tbody>\n",
              "</table>\n",
              "</div>\n",
              "      <button class=\"colab-df-convert\" onclick=\"convertToInteractive('df-a88a881f-b643-45c4-89f3-598e47e2b6bb')\"\n",
              "              title=\"Convert this dataframe to an interactive table.\"\n",
              "              style=\"display:none;\">\n",
              "        \n",
              "  <svg xmlns=\"http://www.w3.org/2000/svg\" height=\"24px\"viewBox=\"0 0 24 24\"\n",
              "       width=\"24px\">\n",
              "    <path d=\"M0 0h24v24H0V0z\" fill=\"none\"/>\n",
              "    <path d=\"M18.56 5.44l.94 2.06.94-2.06 2.06-.94-2.06-.94-.94-2.06-.94 2.06-2.06.94zm-11 1L8.5 8.5l.94-2.06 2.06-.94-2.06-.94L8.5 2.5l-.94 2.06-2.06.94zm10 10l.94 2.06.94-2.06 2.06-.94-2.06-.94-.94-2.06-.94 2.06-2.06.94z\"/><path d=\"M17.41 7.96l-1.37-1.37c-.4-.4-.92-.59-1.43-.59-.52 0-1.04.2-1.43.59L10.3 9.45l-7.72 7.72c-.78.78-.78 2.05 0 2.83L4 21.41c.39.39.9.59 1.41.59.51 0 1.02-.2 1.41-.59l7.78-7.78 2.81-2.81c.8-.78.8-2.07 0-2.86zM5.41 20L4 18.59l7.72-7.72 1.47 1.35L5.41 20z\"/>\n",
              "  </svg>\n",
              "      </button>\n",
              "      \n",
              "  <style>\n",
              "    .colab-df-container {\n",
              "      display:flex;\n",
              "      flex-wrap:wrap;\n",
              "      gap: 12px;\n",
              "    }\n",
              "\n",
              "    .colab-df-convert {\n",
              "      background-color: #E8F0FE;\n",
              "      border: none;\n",
              "      border-radius: 50%;\n",
              "      cursor: pointer;\n",
              "      display: none;\n",
              "      fill: #1967D2;\n",
              "      height: 32px;\n",
              "      padding: 0 0 0 0;\n",
              "      width: 32px;\n",
              "    }\n",
              "\n",
              "    .colab-df-convert:hover {\n",
              "      background-color: #E2EBFA;\n",
              "      box-shadow: 0px 1px 2px rgba(60, 64, 67, 0.3), 0px 1px 3px 1px rgba(60, 64, 67, 0.15);\n",
              "      fill: #174EA6;\n",
              "    }\n",
              "\n",
              "    [theme=dark] .colab-df-convert {\n",
              "      background-color: #3B4455;\n",
              "      fill: #D2E3FC;\n",
              "    }\n",
              "\n",
              "    [theme=dark] .colab-df-convert:hover {\n",
              "      background-color: #434B5C;\n",
              "      box-shadow: 0px 1px 3px 1px rgba(0, 0, 0, 0.15);\n",
              "      filter: drop-shadow(0px 1px 2px rgba(0, 0, 0, 0.3));\n",
              "      fill: #FFFFFF;\n",
              "    }\n",
              "  </style>\n",
              "\n",
              "      <script>\n",
              "        const buttonEl =\n",
              "          document.querySelector('#df-a88a881f-b643-45c4-89f3-598e47e2b6bb button.colab-df-convert');\n",
              "        buttonEl.style.display =\n",
              "          google.colab.kernel.accessAllowed ? 'block' : 'none';\n",
              "\n",
              "        async function convertToInteractive(key) {\n",
              "          const element = document.querySelector('#df-a88a881f-b643-45c4-89f3-598e47e2b6bb');\n",
              "          const dataTable =\n",
              "            await google.colab.kernel.invokeFunction('convertToInteractive',\n",
              "                                                     [key], {});\n",
              "          if (!dataTable) return;\n",
              "\n",
              "          const docLinkHtml = 'Like what you see? Visit the ' +\n",
              "            '<a target=\"_blank\" href=https://colab.research.google.com/notebooks/data_table.ipynb>data table notebook</a>'\n",
              "            + ' to learn more about interactive tables.';\n",
              "          element.innerHTML = '';\n",
              "          dataTable['output_type'] = 'display_data';\n",
              "          await google.colab.output.renderOutput(dataTable, element);\n",
              "          const docLink = document.createElement('div');\n",
              "          docLink.innerHTML = docLinkHtml;\n",
              "          element.appendChild(docLink);\n",
              "        }\n",
              "      </script>\n",
              "    </div>\n",
              "  </div>\n",
              "  "
            ]
          },
          "metadata": {},
          "execution_count": 2
        }
      ],
      "source": [
        "features = pd.read_csv(\"plagiarism_student_dataset.csv\")\n",
        "print(features.shape)\n",
        "features.head()"
      ]
    },
    {
      "cell_type": "code",
      "execution_count": null,
      "metadata": {
        "colab": {
          "base_uri": "https://localhost:8080/"
        },
        "outputId": "752f54c1-2b22-4237-9bf8-211044ab2f56",
        "id": "JGsYNC_fPpFT"
      },
      "outputs": [
        {
          "output_type": "stream",
          "name": "stdout",
          "text": [
            "<class 'pandas.core.frame.DataFrame'>\n",
            "RangeIndex: 2339 entries, 0 to 2338\n",
            "Data columns (total 16 columns):\n",
            " #   Column                 Non-Null Count  Dtype  \n",
            "---  ------                 --------------  -----  \n",
            " 0   roll_no                2339 non-null   object \n",
            " 1   total_time             2320 non-null   float64\n",
            " 2   compiled               1871 non-null   float64\n",
            " 3   compiled successfully  1848 non-null   float64\n",
            " 4   ran_tests              1806 non-null   float64\n",
            " 5   test_results           1648 non-null   float64\n",
            " 6   modified               2328 non-null   float64\n",
            " 7   add_lines              2007 non-null   float64\n",
            " 8   change                 1878 non-null   float64\n",
            " 9   remove_lines           1972 non-null   float64\n",
            " 10  cps                    2240 non-null   float64\n",
            " 11  paste_lines            1915 non-null   float64\n",
            " 12  max_pastes             1915 non-null   float64\n",
            " 13  average_test_results   1648 non-null   float64\n",
            " 14  avg_paste              1915 non-null   float64\n",
            " 15  op                     2339 non-null   int64  \n",
            "dtypes: float64(14), int64(1), object(1)\n",
            "memory usage: 292.5+ KB\n"
          ]
        }
      ],
      "source": [
        "features.info()"
      ]
    },
    {
      "cell_type": "code",
      "execution_count": null,
      "metadata": {
        "colab": {
          "base_uri": "https://localhost:8080/"
        },
        "outputId": "07ab396a-39c9-4db5-a084-6ace2c5a4937",
        "id": "geV9PlwbPpFU"
      },
      "outputs": [
        {
          "output_type": "execute_result",
          "data": {
            "text/plain": [
              "roll_no                    0\n",
              "total_time                19\n",
              "compiled                 468\n",
              "compiled successfully    491\n",
              "ran_tests                533\n",
              "test_results             691\n",
              "modified                  11\n",
              "add_lines                332\n",
              "change                   461\n",
              "remove_lines             367\n",
              "cps                       99\n",
              "paste_lines              424\n",
              "max_pastes               424\n",
              "average_test_results     691\n",
              "avg_paste                424\n",
              "op                         0\n",
              "dtype: int64"
            ]
          },
          "metadata": {},
          "execution_count": 4
        }
      ],
      "source": [
        "features.isnull().sum()"
      ]
    },
    {
      "cell_type": "code",
      "execution_count": null,
      "metadata": {
        "colab": {
          "base_uri": "https://localhost:8080/"
        },
        "outputId": "42dcfb49-d984-434c-f6db-b7b9f68f33bd",
        "id": "K--hPVpQPpFV"
      },
      "outputs": [
        {
          "output_type": "execute_result",
          "data": {
            "text/plain": [
              "(2339, 16)"
            ]
          },
          "metadata": {},
          "execution_count": 5
        }
      ],
      "source": [
        "features.fillna(0,inplace=True)\n",
        "features.shape"
      ]
    },
    {
      "cell_type": "code",
      "execution_count": null,
      "metadata": {
        "colab": {
          "base_uri": "https://localhost:8080/"
        },
        "outputId": "afb416a6-4e7b-4a34-c3c4-0c53878f6294",
        "id": "tXbRK5E4PpFV"
      },
      "outputs": [
        {
          "output_type": "execute_result",
          "data": {
            "text/plain": [
              "(2339, 16)"
            ]
          },
          "metadata": {},
          "execution_count": 6
        }
      ],
      "source": [
        "features = features.drop_duplicates()\n",
        "features.shape"
      ]
    },
    {
      "cell_type": "code",
      "execution_count": null,
      "metadata": {
        "colab": {
          "base_uri": "https://localhost:8080/",
          "height": 386
        },
        "outputId": "48d38500-61de-4086-ec7f-8921a301bb92",
        "id": "bfFoiy_iPpFW"
      },
      "outputs": [
        {
          "output_type": "execute_result",
          "data": {
            "text/plain": [
              "<matplotlib.axes._subplots.AxesSubplot at 0x7f39210cef10>"
            ]
          },
          "metadata": {},
          "execution_count": 7
        },
        {
          "output_type": "display_data",
          "data": {
            "text/plain": [
              "<Figure size 432x288 with 2 Axes>"
            ],
            "image/png": "[encoded data removed]"
          },
          "metadata": {
            "needs_background": "light"
          }
        }
      ],
      "source": [
        "plt.tick_params(labelsize=10)\n",
        "sns.heatmap(features.corr(), annot=True)"
      ]
    },
    {
      "cell_type": "code",
      "execution_count": null,
      "metadata": {
        "colab": {
          "base_uri": "https://localhost:8080/",
          "height": 288
        },
        "scrolled": true,
        "outputId": "d15fbb18-e077-4d04-b503-0ade782c4a87",
        "id": "cdx6vUzUPpFX"
      },
      "outputs": [
        {
          "output_type": "execute_result",
          "data": {
            "text/plain": [
              "             roll_no  total_time  compiled  compiled successfully  ran_tests  \\\n",
              "0  A2016\\student1013   6894752.0    1441.0                 1116.0      689.0   \n",
              "1  A2016\\student1016     37440.0       0.0                    0.0        0.0   \n",
              "2  A2016\\student1021   9363152.0    2108.0                 1278.0      787.0   \n",
              "3  A2016\\student1029   6949656.0    1775.0                 1201.0      852.0   \n",
              "4  A2016\\student1066   2784368.0     338.0                  223.0      449.0   \n",
              "\n",
              "   test_results  modified  add_lines   change  remove_lines       cps  \\\n",
              "0        1349.0   38441.0    12365.0  32597.0        2023.0  0.003436   \n",
              "1           0.0       1.0        0.0      0.0           8.0  0.000000   \n",
              "2        1605.0   58550.0    19160.0  49003.0        6105.0  0.003997   \n",
              "3         754.0   36461.0    15605.0  30332.0        2683.0  0.005040   \n",
              "4         810.0   13924.0     6140.0  12169.0         369.0  0.004970   \n",
              "\n",
              "   paste_lines  max_pastes  average_test_results  avg_paste  op  \n",
              "0       5202.0       120.0              1.957910   4.553441   0  \n",
              "1          0.0         0.0              0.000000   0.000000   0  \n",
              "2       7270.0       162.0              2.039390   5.147455   1  \n",
              "3       7235.0       165.0              0.884977   4.840774   1  \n",
              "4       3988.0       139.0              1.804009   3.470160   0  "
            ],
            "text/html": [
              "\n",
              "  <div id=\"df-1e938852-6376-435d-8f2a-d9b0cab21434\">\n",
              "    <div class=\"colab-df-container\">\n",
              "      <div>\n",
              "<style scoped>\n",
              "    .dataframe tbody tr th:only-of-type {\n",
              "        vertical-align: middle;\n",
              "    }\n",
              "\n",
              "    .dataframe tbody tr th {\n",
              "        vertical-align: top;\n",
              "    }\n",
              "\n",
              "    .dataframe thead th {\n",
              "        text-align: right;\n",
              "    }\n",
              "</style>\n",
              "<table border=\"1\" class=\"dataframe\">\n",
              "  <thead>\n",
              "    <tr style=\"text-align: right;\">\n",
              "      <th></th>\n",
              "      <th>roll_no</th>\n",
              "      <th>total_time</th>\n",
              "      <th>compiled</th>\n",
              "      <th>compiled successfully</th>\n",
              "      <th>ran_tests</th>\n",
              "      <th>test_results</th>\n",
              "      <th>modified</th>\n",
              "      <th>add_lines</th>\n",
              "      <th>change</th>\n",
              "      <th>remove_lines</th>\n",
              "      <th>cps</th>\n",
              "      <th>paste_lines</th>\n",
              "      <th>max_pastes</th>\n",
              "      <th>average_test_results</th>\n",
              "      <th>avg_paste</th>\n",
              "      <th>op</th>\n",
              "    </tr>\n",
              "  </thead>\n",
              "  <tbody>\n",
              "    <tr>\n",
              "      <th>0</th>\n",
              "      <td>A2016\\student1013</td>\n",
              "      <td>6894752.0</td>\n",
              "      <td>1441.0</td>\n",
              "      <td>1116.0</td>\n",
              "      <td>689.0</td>\n",
              "      <td>1349.0</td>\n",
              "      <td>38441.0</td>\n",
              "      <td>12365.0</td>\n",
              "      <td>32597.0</td>\n",
              "      <td>2023.0</td>\n",
              "      <td>0.003436</td>\n",
              "      <td>5202.0</td>\n",
              "      <td>120.0</td>\n",
              "      <td>1.957910</td>\n",
              "      <td>4.553441</td>\n",
              "      <td>0</td>\n",
              "    </tr>\n",
              "    <tr>\n",
              "      <th>1</th>\n",
              "      <td>A2016\\student1016</td>\n",
              "      <td>37440.0</td>\n",
              "      <td>0.0</td>\n",
              "      <td>0.0</td>\n",
              "      <td>0.0</td>\n",
              "      <td>0.0</td>\n",
              "      <td>1.0</td>\n",
              "      <td>0.0</td>\n",
              "      <td>0.0</td>\n",
              "      <td>8.0</td>\n",
              "      <td>0.000000</td>\n",
              "      <td>0.0</td>\n",
              "      <td>0.0</td>\n",
              "      <td>0.000000</td>\n",
              "      <td>0.000000</td>\n",
              "      <td>0</td>\n",
              "    </tr>\n",
              "    <tr>\n",
              "      <th>2</th>\n",
              "      <td>A2016\\student1021</td>\n",
              "      <td>9363152.0</td>\n",
              "      <td>2108.0</td>\n",
              "      <td>1278.0</td>\n",
              "      <td>787.0</td>\n",
              "      <td>1605.0</td>\n",
              "      <td>58550.0</td>\n",
              "      <td>19160.0</td>\n",
              "      <td>49003.0</td>\n",
              "      <td>6105.0</td>\n",
              "      <td>0.003997</td>\n",
              "      <td>7270.0</td>\n",
              "      <td>162.0</td>\n",
              "      <td>2.039390</td>\n",
              "      <td>5.147455</td>\n",
              "      <td>1</td>\n",
              "    </tr>\n",
              "    <tr>\n",
              "      <th>3</th>\n",
              "      <td>A2016\\student1029</td>\n",
              "      <td>6949656.0</td>\n",
              "      <td>1775.0</td>\n",
              "      <td>1201.0</td>\n",
              "      <td>852.0</td>\n",
              "      <td>754.0</td>\n",
              "      <td>36461.0</td>\n",
              "      <td>15605.0</td>\n",
              "      <td>30332.0</td>\n",
              "      <td>2683.0</td>\n",
              "      <td>0.005040</td>\n",
              "      <td>7235.0</td>\n",
              "      <td>165.0</td>\n",
              "      <td>0.884977</td>\n",
              "      <td>4.840774</td>\n",
              "      <td>1</td>\n",
              "    </tr>\n",
              "    <tr>\n",
              "      <th>4</th>\n",
              "      <td>A2016\\student1066</td>\n",
              "      <td>2784368.0</td>\n",
              "      <td>338.0</td>\n",
              "      <td>223.0</td>\n",
              "      <td>449.0</td>\n",
              "      <td>810.0</td>\n",
              "      <td>13924.0</td>\n",
              "      <td>6140.0</td>\n",
              "      <td>12169.0</td>\n",
              "      <td>369.0</td>\n",
              "      <td>0.004970</td>\n",
              "      <td>3988.0</td>\n",
              "      <td>139.0</td>\n",
              "      <td>1.804009</td>\n",
              "      <td>3.470160</td>\n",
              "      <td>0</td>\n",
              "    </tr>\n",
              "  </tbody>\n",
              "</table>\n",
              "</div>\n",
              "      <button class=\"colab-df-convert\" onclick=\"convertToInteractive('df-1e938852-6376-435d-8f2a-d9b0cab21434')\"\n",
              "              title=\"Convert this dataframe to an interactive table.\"\n",
              "              style=\"display:none;\">\n",
              "        \n",
              "  <svg xmlns=\"http://www.w3.org/2000/svg\" height=\"24px\"viewBox=\"0 0 24 24\"\n",
              "       width=\"24px\">\n",
              "    <path d=\"M0 0h24v24H0V0z\" fill=\"none\"/>\n",
              "    <path d=\"M18.56 5.44l.94 2.06.94-2.06 2.06-.94-2.06-.94-.94-2.06-.94 2.06-2.06.94zm-11 1L8.5 8.5l.94-2.06 2.06-.94-2.06-.94L8.5 2.5l-.94 2.06-2.06.94zm10 10l.94 2.06.94-2.06 2.06-.94-2.06-.94-.94-2.06-.94 2.06-2.06.94z\"/><path d=\"M17.41 7.96l-1.37-1.37c-.4-.4-.92-.59-1.43-.59-.52 0-1.04.2-1.43.59L10.3 9.45l-7.72 7.72c-.78.78-.78 2.05 0 2.83L4 21.41c.39.39.9.59 1.41.59.51 0 1.02-.2 1.41-.59l7.78-7.78 2.81-2.81c.8-.78.8-2.07 0-2.86zM5.41 20L4 18.59l7.72-7.72 1.47 1.35L5.41 20z\"/>\n",
              "  </svg>\n",
              "      </button>\n",
              "      \n",
              "  <style>\n",
              "    .colab-df-container {\n",
              "      display:flex;\n",
              "      flex-wrap:wrap;\n",
              "      gap: 12px;\n",
              "    }\n",
              "\n",
              "    .colab-df-convert {\n",
              "      background-color: #E8F0FE;\n",
              "      border: none;\n",
              "      border-radius: 50%;\n",
              "      cursor: pointer;\n",
              "      display: none;\n",
              "      fill: #1967D2;\n",
              "      height: 32px;\n",
              "      padding: 0 0 0 0;\n",
              "      width: 32px;\n",
              "    }\n",
              "\n",
              "    .colab-df-convert:hover {\n",
              "      background-color: #E2EBFA;\n",
              "      box-shadow: 0px 1px 2px rgba(60, 64, 67, 0.3), 0px 1px 3px 1px rgba(60, 64, 67, 0.15);\n",
              "      fill: #174EA6;\n",
              "    }\n",
              "\n",
              "    [theme=dark] .colab-df-convert {\n",
              "      background-color: #3B4455;\n",
              "      fill: #D2E3FC;\n",
              "    }\n",
              "\n",
              "    [theme=dark] .colab-df-convert:hover {\n",
              "      background-color: #434B5C;\n",
              "      box-shadow: 0px 1px 3px 1px rgba(0, 0, 0, 0.15);\n",
              "      filter: drop-shadow(0px 1px 2px rgba(0, 0, 0, 0.3));\n",
              "      fill: #FFFFFF;\n",
              "    }\n",
              "  </style>\n",
              "\n",
              "      <script>\n",
              "        const buttonEl =\n",
              "          document.querySelector('#df-1e938852-6376-435d-8f2a-d9b0cab21434 button.colab-df-convert');\n",
              "        buttonEl.style.display =\n",
              "          google.colab.kernel.accessAllowed ? 'block' : 'none';\n",
              "\n",
              "        async function convertToInteractive(key) {\n",
              "          const element = document.querySelector('#df-1e938852-6376-435d-8f2a-d9b0cab21434');\n",
              "          const dataTable =\n",
              "            await google.colab.kernel.invokeFunction('convertToInteractive',\n",
              "                                                     [key], {});\n",
              "          if (!dataTable) return;\n",
              "\n",
              "          const docLinkHtml = 'Like what you see? Visit the ' +\n",
              "            '<a target=\"_blank\" href=https://colab.research.google.com/notebooks/data_table.ipynb>data table notebook</a>'\n",
              "            + ' to learn more about interactive tables.';\n",
              "          element.innerHTML = '';\n",
              "          dataTable['output_type'] = 'display_data';\n",
              "          await google.colab.output.renderOutput(dataTable, element);\n",
              "          const docLink = document.createElement('div');\n",
              "          docLink.innerHTML = docLinkHtml;\n",
              "          element.appendChild(docLink);\n",
              "        }\n",
              "      </script>\n",
              "    </div>\n",
              "  </div>\n",
              "  "
            ]
          },
          "metadata": {},
          "execution_count": 8
        }
      ],
      "source": [
        "features.head()"
      ]
    },
    {
      "cell_type": "code",
      "execution_count": null,
      "metadata": {
        "colab": {
          "base_uri": "https://localhost:8080/",
          "height": 288
        },
        "scrolled": true,
        "outputId": "12b1b7e6-15f4-4196-e720-6d3854f8abf8",
        "id": "jauQSw9kPpFY"
      },
      "outputs": [
        {
          "output_type": "execute_result",
          "data": {
            "text/plain": [
              "             roll_no  total_time  compiled  compiled successfully  ran_tests  \\\n",
              "0  A2016\\student1013   6894752.0    1441.0                 1116.0      689.0   \n",
              "1  A2016\\student1016     37440.0       0.0                    0.0        0.0   \n",
              "2  A2016\\student1021   9363152.0    2108.0                 1278.0      787.0   \n",
              "3  A2016\\student1029   6949656.0    1775.0                 1201.0      852.0   \n",
              "4  A2016\\student1066   2784368.0     338.0                  223.0      449.0   \n",
              "\n",
              "   test_results  modified  add_lines   change  remove_lines       cps  \\\n",
              "0        1349.0   38441.0    12365.0  32597.0        2023.0  0.003436   \n",
              "1           0.0       1.0        0.0      0.0           8.0  0.000000   \n",
              "2        1605.0   58550.0    19160.0  49003.0        6105.0  0.003997   \n",
              "3         754.0   36461.0    15605.0  30332.0        2683.0  0.005040   \n",
              "4         810.0   13924.0     6140.0  12169.0         369.0  0.004970   \n",
              "\n",
              "   paste_lines  max_pastes  average_test_results  avg_paste  op  \n",
              "0       5202.0       120.0              1.957910   4.553441   0  \n",
              "1          0.0         0.0              0.000000   0.000000   0  \n",
              "2       7270.0       162.0              2.039390   5.147455   1  \n",
              "3       7235.0       165.0              0.884977   4.840774   1  \n",
              "4       3988.0       139.0              1.804009   3.470160   0  "
            ],
            "text/html": [
              "\n",
              "  <div id=\"df-c46dbed0-bb64-44f6-bc23-9a4f738a4dc2\">\n",
              "    <div class=\"colab-df-container\">\n",
              "      <div>\n",
              "<style scoped>\n",
              "    .dataframe tbody tr th:only-of-type {\n",
              "        vertical-align: middle;\n",
              "    }\n",
              "\n",
              "    .dataframe tbody tr th {\n",
              "        vertical-align: top;\n",
              "    }\n",
              "\n",
              "    .dataframe thead th {\n",
              "        text-align: right;\n",
              "    }\n",
              "</style>\n",
              "<table border=\"1\" class=\"dataframe\">\n",
              "  <thead>\n",
              "    <tr style=\"text-align: right;\">\n",
              "      <th></th>\n",
              "      <th>roll_no</th>\n",
              "      <th>total_time</th>\n",
              "      <th>compiled</th>\n",
              "      <th>compiled successfully</th>\n",
              "      <th>ran_tests</th>\n",
              "      <th>test_results</th>\n",
              "      <th>modified</th>\n",
              "      <th>add_lines</th>\n",
              "      <th>change</th>\n",
              "      <th>remove_lines</th>\n",
              "      <th>cps</th>\n",
              "      <th>paste_lines</th>\n",
              "      <th>max_pastes</th>\n",
              "      <th>average_test_results</th>\n",
              "      <th>avg_paste</th>\n",
              "      <th>op</th>\n",
              "    </tr>\n",
              "  </thead>\n",
              "  <tbody>\n",
              "    <tr>\n",
              "      <th>0</th>\n",
              "      <td>A2016\\student1013</td>\n",
              "      <td>6894752.0</td>\n",
              "      <td>1441.0</td>\n",
              "      <td>1116.0</td>\n",
              "      <td>689.0</td>\n",
              "      <td>1349.0</td>\n",
              "      <td>38441.0</td>\n",
              "      <td>12365.0</td>\n",
              "      <td>32597.0</td>\n",
              "      <td>2023.0</td>\n",
              "      <td>0.003436</td>\n",
              "      <td>5202.0</td>\n",
              "      <td>120.0</td>\n",
              "      <td>1.957910</td>\n",
              "      <td>4.553441</td>\n",
              "      <td>0</td>\n",
              "    </tr>\n",
              "    <tr>\n",
              "      <th>1</th>\n",
              "      <td>A2016\\student1016</td>\n",
              "      <td>37440.0</td>\n",
              "      <td>0.0</td>\n",
              "      <td>0.0</td>\n",
              "      <td>0.0</td>\n",
              "      <td>0.0</td>\n",
              "      <td>1.0</td>\n",
              "      <td>0.0</td>\n",
              "      <td>0.0</td>\n",
              "      <td>8.0</td>\n",
              "      <td>0.000000</td>\n",
              "      <td>0.0</td>\n",
              "      <td>0.0</td>\n",
              "      <td>0.000000</td>\n",
              "      <td>0.000000</td>\n",
              "      <td>0</td>\n",
              "    </tr>\n",
              "    <tr>\n",
              "      <th>2</th>\n",
              "      <td>A2016\\student1021</td>\n",
              "      <td>9363152.0</td>\n",
              "      <td>2108.0</td>\n",
              "      <td>1278.0</td>\n",
              "      <td>787.0</td>\n",
              "      <td>1605.0</td>\n",
              "      <td>58550.0</td>\n",
              "      <td>19160.0</td>\n",
              "      <td>49003.0</td>\n",
              "      <td>6105.0</td>\n",
              "      <td>0.003997</td>\n",
              "      <td>7270.0</td>\n",
              "      <td>162.0</td>\n",
              "      <td>2.039390</td>\n",
              "      <td>5.147455</td>\n",
              "      <td>1</td>\n",
              "    </tr>\n",
              "    <tr>\n",
              "      <th>3</th>\n",
              "      <td>A2016\\student1029</td>\n",
              "      <td>6949656.0</td>\n",
              "      <td>1775.0</td>\n",
              "      <td>1201.0</td>\n",
              "      <td>852.0</td>\n",
              "      <td>754.0</td>\n",
              "      <td>36461.0</td>\n",
              "      <td>15605.0</td>\n",
              "      <td>30332.0</td>\n",
              "      <td>2683.0</td>\n",
              "      <td>0.005040</td>\n",
              "      <td>7235.0</td>\n",
              "      <td>165.0</td>\n",
              "      <td>0.884977</td>\n",
              "      <td>4.840774</td>\n",
              "      <td>1</td>\n",
              "    </tr>\n",
              "    <tr>\n",
              "      <th>4</th>\n",
              "      <td>A2016\\student1066</td>\n",
              "      <td>2784368.0</td>\n",
              "      <td>338.0</td>\n",
              "      <td>223.0</td>\n",
              "      <td>449.0</td>\n",
              "      <td>810.0</td>\n",
              "      <td>13924.0</td>\n",
              "      <td>6140.0</td>\n",
              "      <td>12169.0</td>\n",
              "      <td>369.0</td>\n",
              "      <td>0.004970</td>\n",
              "      <td>3988.0</td>\n",
              "      <td>139.0</td>\n",
              "      <td>1.804009</td>\n",
              "      <td>3.470160</td>\n",
              "      <td>0</td>\n",
              "    </tr>\n",
              "  </tbody>\n",
              "</table>\n",
              "</div>\n",
              "      <button class=\"colab-df-convert\" onclick=\"convertToInteractive('df-c46dbed0-bb64-44f6-bc23-9a4f738a4dc2')\"\n",
              "              title=\"Convert this dataframe to an interactive table.\"\n",
              "              style=\"display:none;\">\n",
              "        \n",
              "  <svg xmlns=\"http://www.w3.org/2000/svg\" height=\"24px\"viewBox=\"0 0 24 24\"\n",
              "       width=\"24px\">\n",
              "    <path d=\"M0 0h24v24H0V0z\" fill=\"none\"/>\n",
              "    <path d=\"M18.56 5.44l.94 2.06.94-2.06 2.06-.94-2.06-.94-.94-2.06-.94 2.06-2.06.94zm-11 1L8.5 8.5l.94-2.06 2.06-.94-2.06-.94L8.5 2.5l-.94 2.06-2.06.94zm10 10l.94 2.06.94-2.06 2.06-.94-2.06-.94-.94-2.06-.94 2.06-2.06.94z\"/><path d=\"M17.41 7.96l-1.37-1.37c-.4-.4-.92-.59-1.43-.59-.52 0-1.04.2-1.43.59L10.3 9.45l-7.72 7.72c-.78.78-.78 2.05 0 2.83L4 21.41c.39.39.9.59 1.41.59.51 0 1.02-.2 1.41-.59l7.78-7.78 2.81-2.81c.8-.78.8-2.07 0-2.86zM5.41 20L4 18.59l7.72-7.72 1.47 1.35L5.41 20z\"/>\n",
              "  </svg>\n",
              "      </button>\n",
              "      \n",
              "  <style>\n",
              "    .colab-df-container {\n",
              "      display:flex;\n",
              "      flex-wrap:wrap;\n",
              "      gap: 12px;\n",
              "    }\n",
              "\n",
              "    .colab-df-convert {\n",
              "      background-color: #E8F0FE;\n",
              "      border: none;\n",
              "      border-radius: 50%;\n",
              "      cursor: pointer;\n",
              "      display: none;\n",
              "      fill: #1967D2;\n",
              "      height: 32px;\n",
              "      padding: 0 0 0 0;\n",
              "      width: 32px;\n",
              "    }\n",
              "\n",
              "    .colab-df-convert:hover {\n",
              "      background-color: #E2EBFA;\n",
              "      box-shadow: 0px 1px 2px rgba(60, 64, 67, 0.3), 0px 1px 3px 1px rgba(60, 64, 67, 0.15);\n",
              "      fill: #174EA6;\n",
              "    }\n",
              "\n",
              "    [theme=dark] .colab-df-convert {\n",
              "      background-color: #3B4455;\n",
              "      fill: #D2E3FC;\n",
              "    }\n",
              "\n",
              "    [theme=dark] .colab-df-convert:hover {\n",
              "      background-color: #434B5C;\n",
              "      box-shadow: 0px 1px 3px 1px rgba(0, 0, 0, 0.15);\n",
              "      filter: drop-shadow(0px 1px 2px rgba(0, 0, 0, 0.3));\n",
              "      fill: #FFFFFF;\n",
              "    }\n",
              "  </style>\n",
              "\n",
              "      <script>\n",
              "        const buttonEl =\n",
              "          document.querySelector('#df-c46dbed0-bb64-44f6-bc23-9a4f738a4dc2 button.colab-df-convert');\n",
              "        buttonEl.style.display =\n",
              "          google.colab.kernel.accessAllowed ? 'block' : 'none';\n",
              "\n",
              "        async function convertToInteractive(key) {\n",
              "          const element = document.querySelector('#df-c46dbed0-bb64-44f6-bc23-9a4f738a4dc2');\n",
              "          const dataTable =\n",
              "            await google.colab.kernel.invokeFunction('convertToInteractive',\n",
              "                                                     [key], {});\n",
              "          if (!dataTable) return;\n",
              "\n",
              "          const docLinkHtml = 'Like what you see? Visit the ' +\n",
              "            '<a target=\"_blank\" href=https://colab.research.google.com/notebooks/data_table.ipynb>data table notebook</a>'\n",
              "            + ' to learn more about interactive tables.';\n",
              "          element.innerHTML = '';\n",
              "          dataTable['output_type'] = 'display_data';\n",
              "          await google.colab.output.renderOutput(dataTable, element);\n",
              "          const docLink = document.createElement('div');\n",
              "          docLink.innerHTML = docLinkHtml;\n",
              "          element.appendChild(docLink);\n",
              "        }\n",
              "      </script>\n",
              "    </div>\n",
              "  </div>\n",
              "  "
            ]
          },
          "metadata": {},
          "execution_count": 9
        }
      ],
      "source": [
        "features.reset_index(inplace=True, drop=True)\n",
        "features.head()"
      ]
    },
    {
      "cell_type": "code",
      "execution_count": null,
      "metadata": {
        "id": "ya3ZqUhCPpFY"
      },
      "outputs": [],
      "source": [
        "features_norm = features.copy()\n",
        "features_norm.drop(['roll_no', 'op'], axis=1, inplace=True)"
      ]
    },
    {
      "cell_type": "code",
      "execution_count": null,
      "metadata": {
        "colab": {
          "base_uri": "https://localhost:8080/",
          "height": 386
        },
        "outputId": "ead83dd7-59d0-4ee2-96e0-99a55e88fc19",
        "id": "XCWWmAdlPpFZ"
      },
      "outputs": [
        {
          "output_type": "execute_result",
          "data": {
            "text/plain": [
              "<matplotlib.axes._subplots.AxesSubplot at 0x7f391e0b33d0>"
            ]
          },
          "metadata": {},
          "execution_count": 11
        },
        {
          "output_type": "display_data",
          "data": {
            "text/plain": [
              "<Figure size 432x288 with 2 Axes>"
            ],
            "image/png": "[encoded data removed]"
          },
          "metadata": {
            "needs_background": "light"
          }
        }
      ],
      "source": [
        "plt.tick_params(labelsize=10)\n",
        "sns.heatmap(features_norm.corr(), annot=True)"
      ]
    },
    {
      "cell_type": "code",
      "execution_count": null,
      "metadata": {
        "id": "ZNk8Io2zPpFZ"
      },
      "outputs": [],
      "source": [
        "X = features_norm.iloc[:, :]\n",
        "y = features.iloc[:, 15]"
      ]
    },
    {
      "cell_type": "code",
      "execution_count": null,
      "metadata": {
        "colab": {
          "base_uri": "https://localhost:8080/"
        },
        "outputId": "a84f40a5-d23a-4adf-b5da-50ad1e18191d",
        "id": "JzPjDqJFPpFa"
      },
      "outputs": [
        {
          "output_type": "stream",
          "name": "stdout",
          "text": [
            "   total_time  compiled  compiled successfully  ran_tests  test_results  \\\n",
            "0   6894752.0    1441.0                 1116.0      689.0        1349.0   \n",
            "1     37440.0       0.0                    0.0        0.0           0.0   \n",
            "2   9363152.0    2108.0                 1278.0      787.0        1605.0   \n",
            "3   6949656.0    1775.0                 1201.0      852.0         754.0   \n",
            "4   2784368.0     338.0                  223.0      449.0         810.0   \n",
            "\n",
            "   modified  add_lines   change  remove_lines       cps  paste_lines  \\\n",
            "0   38441.0    12365.0  32597.0        2023.0  0.003436       5202.0   \n",
            "1       1.0        0.0      0.0           8.0  0.000000          0.0   \n",
            "2   58550.0    19160.0  49003.0        6105.0  0.003997       7270.0   \n",
            "3   36461.0    15605.0  30332.0        2683.0  0.005040       7235.0   \n",
            "4   13924.0     6140.0  12169.0         369.0  0.004970       3988.0   \n",
            "\n",
            "   max_pastes  average_test_results  avg_paste  \n",
            "0       120.0              1.957910   4.553441  \n",
            "1         0.0              0.000000   0.000000  \n",
            "2       162.0              2.039390   5.147455  \n",
            "3       165.0              0.884977   4.840774  \n",
            "4       139.0              1.804009   3.470160  \n"
          ]
        }
      ],
      "source": [
        "print(X[0:5])"
      ]
    },
    {
      "cell_type": "code",
      "source": [
        "print(y[0:5])"
      ],
      "metadata": {
        "colab": {
          "base_uri": "https://localhost:8080/"
        },
        "id": "ieNF5zaSr8f4",
        "outputId": "d980ba0c-d3ec-410e-cbf8-84acb335295e"
      },
      "execution_count": null,
      "outputs": [
        {
          "output_type": "stream",
          "name": "stdout",
          "text": [
            "0    0\n",
            "1    0\n",
            "2    1\n",
            "3    1\n",
            "4    0\n",
            "Name: op, dtype: int64\n"
          ]
        }
      ]
    },
    {
      "cell_type": "markdown",
      "source": [
        "# **BEFORE SAMPLING**"
      ],
      "metadata": {
        "id": "FikN7vqIPpFa"
      }
    },
    {
      "cell_type": "code",
      "execution_count": null,
      "metadata": {
        "id": "KDCyKDt-PpFb"
      },
      "outputs": [],
      "source": [
        "from sklearn.model_selection import train_test_split\n",
        "\n",
        "X_train,X_test,y_train,y_test= train_test_split(X,y,test_size=0.4,shuffle=True,random_state=30)"
      ]
    },
    {
      "cell_type": "code",
      "source": [
        "minmax = preprocessing.MinMaxScaler()\n",
        "X_train = minmax.fit_transform(X_train)"
      ],
      "metadata": {
        "id": "T8BOMQ0wPpFb"
      },
      "execution_count": null,
      "outputs": []
    },
    {
      "cell_type": "code",
      "source": [
        "print(X_train.shape)\n",
        "print(X_train)"
      ],
      "metadata": {
        "colab": {
          "base_uri": "https://localhost:8080/"
        },
        "id": "UaiWa68lsUZY",
        "outputId": "2538c383-c220-478c-c2e7-675e46221dd3"
      },
      "execution_count": null,
      "outputs": [
        {
          "output_type": "stream",
          "name": "stdout",
          "text": [
            "(1403, 14)\n",
            "[[1.03151549e-01 3.79557960e-02 2.56760448e-02 ... 1.49281238e-02\n",
            "  2.30186667e-01 4.87765545e-02]\n",
            " [2.13800636e-01 1.11629208e-01 1.18956569e-01 ... 1.49281238e-02\n",
            "  1.65517241e-01 2.78513065e-02]\n",
            " [1.25196413e-01 2.99356523e-02 2.84075389e-02 ... 8.66199779e-03\n",
            "  1.02256983e-01 6.71265970e-02]\n",
            " ...\n",
            " [1.04451624e-06 0.00000000e+00 0.00000000e+00 ... 0.00000000e+00\n",
            "  0.00000000e+00 0.00000000e+00]\n",
            " [2.79884045e-01 1.47440082e-01 1.35208959e-01 ... 6.63472171e-03\n",
            "  1.36517272e-01 2.24250003e-02]\n",
            " [9.45816417e-02 3.69299636e-02 3.48265501e-02 ... 3.14227792e-02\n",
            "  3.69932886e-02 1.20470999e-01]]\n"
          ]
        }
      ]
    },
    {
      "cell_type": "code",
      "source": [
        "print(y_train.shape)\n",
        "print(y_train)"
      ],
      "metadata": {
        "colab": {
          "base_uri": "https://localhost:8080/"
        },
        "id": "RVtUMjbZsm0I",
        "outputId": "de44656c-8622-4a5b-86bc-c5f5431fec21"
      },
      "execution_count": null,
      "outputs": [
        {
          "output_type": "stream",
          "name": "stdout",
          "text": [
            "(1403,)\n",
            "180     0\n",
            "11      1\n",
            "1350    1\n",
            "1463    0\n",
            "1378    0\n",
            "       ..\n",
            "919     0\n",
            "1164    0\n",
            "500     0\n",
            "421     1\n",
            "1829    1\n",
            "Name: op, Length: 1403, dtype: int64\n"
          ]
        }
      ]
    },
    {
      "cell_type": "code",
      "source": [
        "print(X_test.shape)\n",
        "print(y_test.shape)"
      ],
      "metadata": {
        "colab": {
          "base_uri": "https://localhost:8080/"
        },
        "id": "ey-Y-2qSspDD",
        "outputId": "b59d924d-4a9a-4d50-da8d-8b1d9d2fc3c2"
      },
      "execution_count": null,
      "outputs": [
        {
          "output_type": "stream",
          "name": "stdout",
          "text": [
            "(936, 14)\n",
            "(936,)\n"
          ]
        }
      ]
    },
    {
      "cell_type": "code",
      "execution_count": null,
      "metadata": {
        "colab": {
          "base_uri": "https://localhost:8080/"
        },
        "outputId": "086f5a24-1d1c-41b4-aca1-03cc364cf83c",
        "id": "mRMUfuWFPpFd"
      },
      "outputs": [
        {
          "output_type": "stream",
          "name": "stdout",
          "text": [
            "(1403, 14)\n",
            "(1403,)\n"
          ]
        }
      ],
      "source": [
        "clf = svm.SVC(kernel='rbf',class_weight='balanced')\n",
        "clf.fit(X_train, y_train)\n",
        "\n",
        "ypred_train = clf.predict(X_train)\n",
        "print(X_train.shape)\n",
        "print(y_train.shape)"
      ]
    },
    {
      "cell_type": "code",
      "source": [
        "class_names = ['Not plagiarised', 'Plagiarised']"
      ],
      "metadata": {
        "id": "of_CZHSrtMS_"
      },
      "execution_count": null,
      "outputs": []
    },
    {
      "cell_type": "code",
      "source": [
        "print(confusion_matrix(y_train, ypred_train))\n",
        "\n",
        "# Display Confusion Matrix\n",
        "ConfusionMatrixDisplay.from_estimator(clf, X_train, y_train, display_labels=class_names)\n",
        "plt.show()"
      ],
      "metadata": {
        "colab": {
          "base_uri": "https://localhost:8080/",
          "height": 314
        },
        "outputId": "66cf4085-0db6-4b11-9cfb-77d7a34e5843",
        "id": "7518BdW0PpFd"
      },
      "execution_count": null,
      "outputs": [
        {
          "output_type": "stream",
          "name": "stdout",
          "text": [
            "[[559 457]\n",
            " [ 32 355]]\n"
          ]
        },
        {
          "output_type": "display_data",
          "data": {
            "text/plain": [
              "<Figure size 432x288 with 2 Axes>"
            ],
            "image/png": "[encoded data removed]"
          },
          "metadata": {
            "needs_background": "light"
          }
        }
      ]
    },
    {
      "cell_type": "code",
      "execution_count": null,
      "metadata": {
        "colab": {
          "base_uri": "https://localhost:8080/"
        },
        "outputId": "d02dde68-8585-4baf-f009-b4b53b3e3662",
        "id": "hlWLwjobPpFe"
      },
      "outputs": [
        {
          "output_type": "stream",
          "name": "stdout",
          "text": [
            "[0 1 1 0 1 0 0 1 0 1 0 1 1 1 0 1 1 1 0 1 0 1 0 0 1 0 1 1 0 1 1 0 1 1 1 1 1\n",
            " 0 1 1 1 0 1 0 0 0 1 1 1 1 0 1 0 1 1 1 0 1 1 0 1 1 0 1 0 0 1 1 1 1 0 1 0 1\n",
            " 1 1 1 0 0 1 1 1 1 0 0 1 0 1 0 0 1 1 0 0 1 0 1 0 0 1 1 0 0 1 0 0 1 0 0 1 1\n",
            " 1 0 1 0 1 0 1 1 1 1 1 0 1 0 0 1 1 0 1 1 1 1 1 1 0 1 1 0 0 0 1 0 1 1 0 0 1\n",
            " 1 1 0 1 0 1 0 0 0 1 1 1 1 1 0 1 1 0 1 1 0 1 1 1 1 1 1 0 1 1 0 1 0 1 1 0 0\n",
            " 0 1 0 1 0 1 1 0 0 0 1 1 1 1 0 1 0 0 0 0 1 0 0 0 0 1 1 0 1 1 0 1 1 0 0 0 1\n",
            " 0 1 1 1 1 1 1 1 1 0 0 1 0 0 0 1 0 0 1 0 1 1 1 0 0 0 1 0 1 0 1 1 1 0 0 0 0\n",
            " 1 1 1 0 0 1 1 1 0 1 1 1 1 1 1 1 0 1 1 1 0 0 1 1 1 1 1 0 0 1 1 0 0 1 0 1 1\n",
            " 0 1 0 1 1 1 1 1 1 0 0 1 1 0 0 1 1 1 0 0 1 0 1 0 1 0 1 1 0 1 1 1 1 1 0 0 0\n",
            " 1 1 0 0 0 1 1 0 0 1 0 0 1 1 1 0 0 0 0 0 1 1 1 1 1 0 1 1 1 1 0 0 1 0 1 1 1\n",
            " 1 1 1 1 1 1 0 0 1 1 1 0 1 0 0 0 0 1 1 0 0 0 0 0 0 1 0 1 1 1 1 1 0 1 1 0 1\n",
            " 1 1 1 1 1 1 1 0 1 1 0 0 0 0 0 1 1 1 0 0 1 1 1 1 1 0 1 0 1 0 0 1 1 1 1 1 1\n",
            " 0 1 1 0 1 1 1 1 0 0 0 1 0 1 1 0 1 1 1 0 0 0 1 0 0 0 0 0 1 0 1 0 1 0 1 1 0\n",
            " 0 1 1 0 0 1 0 1 1 0 1 1 0 0 1 0 1 1 1 0 0 0 0 1 1 0 1 0 1 0 1 1 1 1 0 0 1\n",
            " 0 1 0 0 1 1 0 0 0 1 1 1 0 1 1 1 1 1 1 1 1 1 0 1 0 1 0 0 1 1 1 1 0 0 0 1 0\n",
            " 1 0 1 1 1 1 1 0 0 1 0 0 0 1 1 1 1 1 0 1 1 1 0 1 1 1 1 0 0 1 0 1 0 1 1 1 1\n",
            " 1 0 0 1 1 1 1 0 0 1 0 0 0 1 1 1 1 0 1 0 1 1 1 1 0 1 0 1 0 0 0 1 0 0 1 0 1\n",
            " 0 1 0 0 1 0 1 1 0 1 0 1 1 1 1 1 1 1 1 1 1 0 1 1 1 0 1 1 0 0 1 1 1 0 1 1 1\n",
            " 0 0 1 0 1 1 1 0 0 0 1 1 0 0 0 1 1 1 1 1 0 0 1 1 1 1 1 0 0 0 1 0 1 0 0 1 0\n",
            " 1 0 0 1 0 0 0 1 0 0 0 1 0 0 1 1 1 1 1 0 1 1 0 1 1 0 1 0 0 1 1 1 0 0 0 1 0\n",
            " 0 1 1 1 0 1 1 1 1 0 1 1 1 0 1 1 0 1 1 1 1 1 1 1 1 1 0 0 1 0 0 0 0 1 0 1 0\n",
            " 0 0 1 1 0 0 1 1 0 1 1 1 1 1 1 1 1 0 1 1 1 0 1 1 1 1 0 0 1 1 0 1 1 1 0 1 0\n",
            " 0 1 1 0 0 1 0 1 0 1 1 1 0 0 1 0 0 1 0 1 0 0 0 1 0 1 1 0 0 1 0 1 1 1 0 0 1\n",
            " 1 1 1 0 0 1 0 0 1 0 1 0 1 1 1 1 0 1 0 0 1 0 1 1 1 1 1 1 1 1 0 0 0 0 1 0 1\n",
            " 0 0 0 1 1 1 0 1 1 0 1 0 1 1 0 1 1 1 1 0 0 0 1 0 0 1 1 1 0 1 0 0 0 1 0 1 1\n",
            " 1 1 0 1 0 0 0 0 1 0 0]\n"
          ]
        }
      ],
      "source": [
        "X_test = minmax.fit_transform(X_test)\n",
        "y_pred = clf.predict(X_test)\n",
        "print(y_pred)"
      ]
    },
    {
      "cell_type": "code",
      "source": [
        "print('------------- Evaluation on Test Data ------------------')\n",
        "score_test = clf.score(X_test, y_test)\n",
        "print('Accuracy Score: ', score_test)\n",
        "print(classification_report(y_test, y_pred))\n",
        "print('---------------------------------------------------------')\n",
        "print('------------- Evaluation on Training Data ---------------')\n",
        "score_train = clf.score(X_train, y_train)\n",
        "print('Accuracy Score: ', score_train)\n",
        "print(classification_report(y_train, ypred_train))\n",
        "print('--------------------------------------------------------')"
      ],
      "metadata": {
        "colab": {
          "base_uri": "https://localhost:8080/"
        },
        "outputId": "5a5a7722-a02e-4189-f435-99a53c256282",
        "id": "0ikqpCqpPpFe"
      },
      "execution_count": null,
      "outputs": [
        {
          "output_type": "stream",
          "name": "stdout",
          "text": [
            "------------- Evaluation on Test Data ------------------\n",
            "Accuracy Score:  0.6623931623931624\n",
            "              precision    recall  f1-score   support\n",
            "\n",
            "           0       0.94      0.56      0.70       658\n",
            "           1       0.47      0.91      0.62       278\n",
            "\n",
            "    accuracy                           0.66       936\n",
            "   macro avg       0.70      0.73      0.66       936\n",
            "weighted avg       0.80      0.66      0.67       936\n",
            "\n",
            "---------------------------------------------------------\n",
            "------------- Evaluation on Training Data ---------------\n",
            "Accuracy Score:  0.6514611546685674\n",
            "              precision    recall  f1-score   support\n",
            "\n",
            "           0       0.95      0.55      0.70      1016\n",
            "           1       0.44      0.92      0.59       387\n",
            "\n",
            "    accuracy                           0.65      1403\n",
            "   macro avg       0.69      0.73      0.64      1403\n",
            "weighted avg       0.81      0.65      0.67      1403\n",
            "\n",
            "--------------------------------------------------------\n"
          ]
        }
      ]
    },
    {
      "cell_type": "code",
      "execution_count": null,
      "metadata": {
        "colab": {
          "base_uri": "https://localhost:8080/"
        },
        "outputId": "d5baec6e-462d-4d0e-9e81-34fb50c2b428",
        "id": "iu30InFqPpFf"
      },
      "outputs": [
        {
          "output_type": "stream",
          "name": "stdout",
          "text": [
            "[[4.47054502e-02 1.90523941e-02 1.38605194e-02 ... 6.90000000e-03\n",
            "  8.77777778e-02 1.64442173e-02]\n",
            " [4.71334841e-01 5.40862372e-01 3.56580099e-01 ... 7.41500000e-02\n",
            "  8.57476636e-02 8.31506729e-03]\n",
            " [1.29861368e-01 1.53171221e-01 1.42398599e-01 ... 1.62000000e-02\n",
            "  0.00000000e+00 7.61984375e-03]\n",
            " ...\n",
            " [6.76262887e-01 4.25169215e-01 3.21709950e-01 ... 1.84500000e-02\n",
            "  1.38364462e-01 1.25463435e-02]\n",
            " [0.00000000e+00 0.00000000e+00 0.00000000e+00 ... 0.00000000e+00\n",
            "  0.00000000e+00 0.00000000e+00]\n",
            " [6.25897166e-04 0.00000000e+00 0.00000000e+00 ... 0.00000000e+00\n",
            "  0.00000000e+00 0.00000000e+00]]\n"
          ]
        }
      ],
      "source": [
        "print(X_test)"
      ]
    },
    {
      "cell_type": "code",
      "execution_count": null,
      "metadata": {
        "colab": {
          "base_uri": "https://localhost:8080/",
          "height": 314
        },
        "outputId": "c063aa26-69f8-4207-ccb8-5357ecfa93a4",
        "id": "t5YQE2PGPpFg"
      },
      "outputs": [
        {
          "output_type": "stream",
          "name": "stdout",
          "text": [
            "[[367 291]\n",
            " [ 25 253]]\n"
          ]
        },
        {
          "output_type": "display_data",
          "data": {
            "text/plain": [
              "<Figure size 432x288 with 2 Axes>"
            ],
            "image/png": "[encoded data removed]"
          },
          "metadata": {
            "needs_background": "light"
          }
        }
      ],
      "source": [
        "print(confusion_matrix(y_test, y_pred))\n",
        "\n",
        "# Display Confusion Matrix\n",
        "ConfusionMatrixDisplay.from_estimator(clf, X_test, y_test, display_labels=class_names)\n",
        "plt.show()"
      ]
    },
    {
      "cell_type": "code",
      "source": [
        "accuracy = format(clf.score(X_test, y_test) * 100, '.2f')\n",
        "recall = format(recall_score(y_test, y_pred) * 100, '.2f')\n",
        "f1_score1 = format(f1_score(y_test, y_pred) * 100, '.2f')"
      ],
      "metadata": {
        "id": "4usbKscUPpFi"
      },
      "execution_count": null,
      "outputs": []
    },
    {
      "cell_type": "code",
      "source": [
        "print(f\"Accuracy of the classifier is: {accuracy}%\")\n",
        "print(f\"Recall Score of the classifier is: {recall}%\")\n",
        "print(f\"F1 Score of the classifier is: {f1_score1}%\")"
      ],
      "metadata": {
        "colab": {
          "base_uri": "https://localhost:8080/"
        },
        "outputId": "45bd28e7-cd58-4ded-f010-48ad59264e1e",
        "id": "Eep3ntgoPpFj"
      },
      "execution_count": null,
      "outputs": [
        {
          "output_type": "stream",
          "name": "stdout",
          "text": [
            "Accuracy of the classifier is: 66.24%\n",
            "Recall Score of the classifier is: 91.01%\n",
            "F1 Score of the classifier is: 61.56%\n"
          ]
        }
      ]
    },
    {
      "cell_type": "markdown",
      "source": [
        "# **SAVE CLASSIFIER**"
      ],
      "metadata": {
        "id": "MI6whcgdtjM7"
      }
    },
    {
      "cell_type": "code",
      "source": [
        "with open('clf_pkl_bs', 'wb') as files:\n",
        "    pickle.dump(clf, files)\n",
        "with open('clf_pkl_bs', 'rb') as f:\n",
        "    classifier = pickle.load(f)\n",
        "classifier.predict(X_test)"
      ],
      "metadata": {
        "colab": {
          "base_uri": "https://localhost:8080/"
        },
        "outputId": "e386adea-45c8-46f2-96cc-6334a978b651",
        "id": "xRHWZ_IvPpFk"
      },
      "execution_count": null,
      "outputs": [
        {
          "output_type": "execute_result",
          "data": {
            "text/plain": [
              "array([0, 1, 1, 0, 1, 0, 0, 1, 0, 1, 0, 1, 1, 1, 0, 1, 1, 1, 0, 1, 0, 1,\n",
              "       0, 0, 1, 0, 1, 1, 0, 1, 1, 0, 1, 1, 1, 1, 1, 0, 1, 1, 1, 0, 1, 0,\n",
              "       0, 0, 1, 1, 1, 1, 0, 1, 0, 1, 1, 1, 0, 1, 1, 0, 1, 1, 0, 1, 0, 0,\n",
              "       1, 1, 1, 1, 0, 1, 0, 1, 1, 1, 1, 0, 0, 1, 1, 1, 1, 0, 0, 1, 0, 1,\n",
              "       0, 0, 1, 1, 0, 0, 1, 0, 1, 0, 0, 1, 1, 0, 0, 1, 0, 0, 1, 0, 0, 1,\n",
              "       1, 1, 0, 1, 0, 1, 0, 1, 1, 1, 1, 1, 0, 1, 0, 0, 1, 1, 0, 1, 1, 1,\n",
              "       1, 1, 1, 0, 1, 1, 0, 0, 0, 1, 0, 1, 1, 0, 0, 1, 1, 1, 0, 1, 0, 1,\n",
              "       0, 0, 0, 1, 1, 1, 1, 1, 0, 1, 1, 0, 1, 1, 0, 1, 1, 1, 1, 1, 1, 0,\n",
              "       1, 1, 0, 1, 0, 1, 1, 0, 0, 0, 1, 0, 1, 0, 1, 1, 0, 0, 0, 1, 1, 1,\n",
              "       1, 0, 1, 0, 0, 0, 0, 1, 0, 0, 0, 0, 1, 1, 0, 1, 1, 0, 1, 1, 0, 0,\n",
              "       0, 1, 0, 1, 1, 1, 1, 1, 1, 1, 1, 0, 0, 1, 0, 0, 0, 1, 0, 0, 1, 0,\n",
              "       1, 1, 1, 0, 0, 0, 1, 0, 1, 0, 1, 1, 1, 0, 0, 0, 0, 1, 1, 1, 0, 0,\n",
              "       1, 1, 1, 0, 1, 1, 1, 1, 1, 1, 1, 0, 1, 1, 1, 0, 0, 1, 1, 1, 1, 1,\n",
              "       0, 0, 1, 1, 0, 0, 1, 0, 1, 1, 0, 1, 0, 1, 1, 1, 1, 1, 1, 0, 0, 1,\n",
              "       1, 0, 0, 1, 1, 1, 0, 0, 1, 0, 1, 0, 1, 0, 1, 1, 0, 1, 1, 1, 1, 1,\n",
              "       0, 0, 0, 1, 1, 0, 0, 0, 1, 1, 0, 0, 1, 0, 0, 1, 1, 1, 0, 0, 0, 0,\n",
              "       0, 1, 1, 1, 1, 1, 0, 1, 1, 1, 1, 0, 0, 1, 0, 1, 1, 1, 1, 1, 1, 1,\n",
              "       1, 1, 0, 0, 1, 1, 1, 0, 1, 0, 0, 0, 0, 1, 1, 0, 0, 0, 0, 0, 0, 1,\n",
              "       0, 1, 1, 1, 1, 1, 0, 1, 1, 0, 1, 1, 1, 1, 1, 1, 1, 1, 0, 1, 1, 0,\n",
              "       0, 0, 0, 0, 1, 1, 1, 0, 0, 1, 1, 1, 1, 1, 0, 1, 0, 1, 0, 0, 1, 1,\n",
              "       1, 1, 1, 1, 0, 1, 1, 0, 1, 1, 1, 1, 0, 0, 0, 1, 0, 1, 1, 0, 1, 1,\n",
              "       1, 0, 0, 0, 1, 0, 0, 0, 0, 0, 1, 0, 1, 0, 1, 0, 1, 1, 0, 0, 1, 1,\n",
              "       0, 0, 1, 0, 1, 1, 0, 1, 1, 0, 0, 1, 0, 1, 1, 1, 0, 0, 0, 0, 1, 1,\n",
              "       0, 1, 0, 1, 0, 1, 1, 1, 1, 0, 0, 1, 0, 1, 0, 0, 1, 1, 0, 0, 0, 1,\n",
              "       1, 1, 0, 1, 1, 1, 1, 1, 1, 1, 1, 1, 0, 1, 0, 1, 0, 0, 1, 1, 1, 1,\n",
              "       0, 0, 0, 1, 0, 1, 0, 1, 1, 1, 1, 1, 0, 0, 1, 0, 0, 0, 1, 1, 1, 1,\n",
              "       1, 0, 1, 1, 1, 0, 1, 1, 1, 1, 0, 0, 1, 0, 1, 0, 1, 1, 1, 1, 1, 0,\n",
              "       0, 1, 1, 1, 1, 0, 0, 1, 0, 0, 0, 1, 1, 1, 1, 0, 1, 0, 1, 1, 1, 1,\n",
              "       0, 1, 0, 1, 0, 0, 0, 1, 0, 0, 1, 0, 1, 0, 1, 0, 0, 1, 0, 1, 1, 0,\n",
              "       1, 0, 1, 1, 1, 1, 1, 1, 1, 1, 1, 1, 0, 1, 1, 1, 0, 1, 1, 0, 0, 1,\n",
              "       1, 1, 0, 1, 1, 1, 0, 0, 1, 0, 1, 1, 1, 0, 0, 0, 1, 1, 0, 0, 0, 1,\n",
              "       1, 1, 1, 1, 0, 0, 1, 1, 1, 1, 1, 0, 0, 0, 1, 0, 1, 0, 0, 1, 0, 1,\n",
              "       0, 0, 1, 0, 0, 0, 1, 0, 0, 0, 1, 0, 0, 1, 1, 1, 1, 1, 0, 1, 1, 0,\n",
              "       1, 1, 0, 1, 0, 0, 1, 1, 1, 0, 0, 0, 1, 0, 0, 1, 1, 1, 0, 1, 1, 1,\n",
              "       1, 0, 1, 1, 1, 0, 1, 1, 0, 1, 1, 1, 1, 1, 1, 1, 1, 1, 0, 0, 1, 0,\n",
              "       0, 0, 0, 1, 0, 1, 0, 0, 0, 1, 1, 0, 0, 1, 1, 0, 1, 1, 1, 1, 1, 1,\n",
              "       1, 1, 0, 1, 1, 1, 0, 1, 1, 1, 1, 0, 0, 1, 1, 0, 1, 1, 1, 0, 1, 0,\n",
              "       0, 1, 1, 0, 0, 1, 0, 1, 0, 1, 1, 1, 0, 0, 1, 0, 0, 1, 0, 1, 0, 0,\n",
              "       0, 1, 0, 1, 1, 0, 0, 1, 0, 1, 1, 1, 0, 0, 1, 1, 1, 1, 0, 0, 1, 0,\n",
              "       0, 1, 0, 1, 0, 1, 1, 1, 1, 0, 1, 0, 0, 1, 0, 1, 1, 1, 1, 1, 1, 1,\n",
              "       1, 0, 0, 0, 0, 1, 0, 1, 0, 0, 0, 1, 1, 1, 0, 1, 1, 0, 1, 0, 1, 1,\n",
              "       0, 1, 1, 1, 1, 0, 0, 0, 1, 0, 0, 1, 1, 1, 0, 1, 0, 0, 0, 1, 0, 1,\n",
              "       1, 1, 1, 0, 1, 0, 0, 0, 0, 1, 0, 0])"
            ]
          },
          "metadata": {},
          "execution_count": 29
        }
      ]
    },
    {
      "cell_type": "markdown",
      "source": [
        "# **AFTER SAMPLING**"
      ],
      "metadata": {
        "id": "1LRKI4_4PpFl"
      }
    },
    {
      "cell_type": "code",
      "execution_count": null,
      "metadata": {
        "id": "Z-e6hhMrPpFl"
      },
      "outputs": [],
      "source": [
        "from sklearn.model_selection import train_test_split\n",
        "\n",
        "X_train,X_test,y_train,y_test= train_test_split(X,y,test_size=0.4,shuffle=True,random_state=30)\n",
        "\n",
        "\n",
        "# concatenate our training data back together\n",
        "X = pd.concat([X_train, y_train], axis=1)\n",
        "\n",
        "# separate minority and majority classes\n",
        "not_plag = X[X.op==0]\n",
        "plag = X[X.op==1]\n",
        "\n",
        "not_plag_downsampled = resample(not_plag,\n",
        "                                replace = False, # sample without replacement\n",
        "                                n_samples = len(plag), # match minority n\n",
        "                                random_state = 27) # reproducible results\n",
        "\n",
        "# combine minority and downsampled majority\n",
        "downsampled = pd.concat([not_plag_downsampled, plag])\n",
        "\n",
        "# checking counts\n",
        "downsampled.op.value_counts()\n",
        "\n",
        "y_train = downsampled.op\n",
        "X_train = downsampled.drop('op', axis=1)\n"
      ]
    },
    {
      "cell_type": "code",
      "source": [
        "minmax = preprocessing.MinMaxScaler()\n",
        "X_train = minmax.fit_transform(X_train)\n",
        "print(X_train.shape)\n",
        "print(X_train)"
      ],
      "metadata": {
        "colab": {
          "base_uri": "https://localhost:8080/"
        },
        "outputId": "06e71601-1ac4-4202-c764-e85f88afabfa",
        "id": "HJrfubWbPpFm"
      },
      "execution_count": null,
      "outputs": [
        {
          "output_type": "stream",
          "name": "stdout",
          "text": [
            "(774, 14)\n",
            "[[5.84484393e-01 2.66098341e-01 2.59975816e-01 ... 4.63509031e-02\n",
            "  8.85057471e-02 2.01984351e-01]\n",
            " [5.33697861e-01 2.27279647e-01 1.22531237e-01 ... 1.73239956e-02\n",
            "  1.39862069e-01 1.14682499e-01]\n",
            " [5.37985257e-04 9.13381032e-04 1.20918984e-03 ... 1.84297825e-04\n",
            "  0.00000000e+00 3.27091184e-02]\n",
            " ...\n",
            " [4.25587351e-02 1.91810017e-02 8.86739218e-03 ... 8.20125323e-03\n",
            "  5.79672131e-02 8.11938282e-02]\n",
            " [3.23220175e-01 2.40675902e-01 1.99516324e-01 ... 6.63472171e-03\n",
            "  1.36517272e-01 4.89245826e-02]\n",
            " [1.09226286e-01 6.02831481e-02 5.13905683e-02 ... 3.14227792e-02\n",
            "  3.69932886e-02 2.62831361e-01]]\n"
          ]
        }
      ]
    },
    {
      "cell_type": "code",
      "source": [
        "print(y_train.shape)\n",
        "print(y_train)"
      ],
      "metadata": {
        "colab": {
          "base_uri": "https://localhost:8080/"
        },
        "id": "E_BYVJeuuO3z",
        "outputId": "9d6bc778-d8b1-4a18-b098-e2be2de79e56"
      },
      "execution_count": null,
      "outputs": [
        {
          "output_type": "stream",
          "name": "stdout",
          "text": [
            "(774,)\n",
            "703     0\n",
            "2036    0\n",
            "1437    0\n",
            "1786    0\n",
            "2203    0\n",
            "       ..\n",
            "1042    1\n",
            "263     1\n",
            "1845    1\n",
            "421     1\n",
            "1829    1\n",
            "Name: op, Length: 774, dtype: int64\n"
          ]
        }
      ]
    },
    {
      "cell_type": "code",
      "source": [
        "print(X_test.shape)\n",
        "print(y_test.shape)"
      ],
      "metadata": {
        "colab": {
          "base_uri": "https://localhost:8080/"
        },
        "id": "djzIRdtFuRy_",
        "outputId": "4f3562ab-33c6-4895-e235-87839ba35641"
      },
      "execution_count": null,
      "outputs": [
        {
          "output_type": "stream",
          "name": "stdout",
          "text": [
            "(936, 14)\n",
            "(936,)\n"
          ]
        }
      ]
    },
    {
      "cell_type": "code",
      "execution_count": null,
      "metadata": {
        "colab": {
          "base_uri": "https://localhost:8080/"
        },
        "outputId": "fc0ba55f-7cb6-4925-c64a-e44646f1535f",
        "id": "Wdr4SWnTPpOt"
      },
      "outputs": [
        {
          "output_type": "stream",
          "name": "stdout",
          "text": [
            "(774, 14)\n",
            "(774,)\n"
          ]
        }
      ],
      "source": [
        "clf = svm.SVC(kernel='rbf',class_weight='balanced')\n",
        "clf.fit(X_train, y_train)\n",
        "\n",
        "ypred_train = clf.predict(X_train)\n",
        "print(X_train.shape)\n",
        "print(y_train.shape)"
      ]
    },
    {
      "cell_type": "code",
      "source": [
        "print(confusion_matrix(y_train, ypred_train))\n",
        "\n",
        "# Display Confusion Matrix\n",
        "ConfusionMatrixDisplay.from_estimator(clf, X_train, y_train, display_labels=class_names)\n",
        "plt.show()"
      ],
      "metadata": {
        "colab": {
          "base_uri": "https://localhost:8080/",
          "height": 314
        },
        "outputId": "93f3cbd1-aafb-4bfb-f86a-f5cd8e9efdc5",
        "id": "TNLUbVdpPpOv"
      },
      "execution_count": null,
      "outputs": [
        {
          "output_type": "stream",
          "name": "stdout",
          "text": [
            "[[215 172]\n",
            " [ 26 361]]\n"
          ]
        },
        {
          "output_type": "display_data",
          "data": {
            "text/plain": [
              "<Figure size 432x288 with 2 Axes>"
            ],
            "image/png": "[encoded data removed]"
          },
          "metadata": {
            "needs_background": "light"
          }
        }
      ]
    },
    {
      "cell_type": "code",
      "execution_count": null,
      "metadata": {
        "colab": {
          "base_uri": "https://localhost:8080/"
        },
        "outputId": "ba6045cd-2492-421d-aeba-ae801d5d8d39",
        "id": "6ufQHrVdPpOw"
      },
      "outputs": [
        {
          "output_type": "stream",
          "name": "stdout",
          "text": [
            "[0 1 1 1 1 0 0 1 0 1 0 1 1 1 0 1 1 0 0 1 0 1 0 0 1 0 1 1 0 1 1 0 1 1 1 1 1\n",
            " 0 1 1 1 0 1 0 0 0 1 1 1 1 0 1 0 1 1 1 0 1 1 0 1 1 0 1 1 0 1 1 1 1 0 1 1 1\n",
            " 1 1 1 0 0 1 1 1 1 0 0 1 0 1 0 0 1 1 0 0 1 0 1 0 0 1 1 0 0 1 0 0 1 0 0 1 1\n",
            " 1 0 1 0 1 0 1 1 1 1 1 0 1 1 0 1 1 0 1 1 1 1 1 1 1 1 1 0 0 0 1 0 1 1 0 0 1\n",
            " 1 1 0 1 0 1 0 1 0 1 1 1 1 1 0 1 1 0 1 1 0 1 1 1 1 1 1 0 1 1 0 1 0 1 1 0 1\n",
            " 0 1 0 1 0 1 1 0 0 0 1 1 1 1 0 1 0 0 0 1 1 1 0 0 0 1 1 0 1 1 0 1 1 0 0 0 1\n",
            " 0 1 1 1 1 1 1 1 1 0 0 1 1 1 0 1 1 0 1 0 1 1 1 0 0 1 1 0 1 1 1 1 1 0 0 0 0\n",
            " 1 1 1 1 0 1 1 1 0 1 1 1 1 1 1 1 0 1 1 1 0 1 1 1 1 1 1 0 0 1 1 0 1 1 0 1 1\n",
            " 0 1 0 1 1 1 1 1 1 0 0 1 1 1 0 1 1 1 0 1 1 0 1 0 1 0 1 1 0 1 1 1 1 1 1 0 0\n",
            " 1 1 0 0 0 1 1 0 0 1 0 0 1 1 1 0 0 0 0 0 1 1 1 1 1 0 1 1 1 1 0 0 1 0 1 1 1\n",
            " 1 1 1 1 1 1 1 1 1 1 1 0 1 0 0 0 0 1 1 0 0 0 1 0 0 0 0 1 1 1 1 1 0 1 1 0 1\n",
            " 1 1 1 1 1 1 1 0 1 1 0 0 0 0 0 1 1 1 1 0 1 1 1 1 1 0 1 0 1 0 0 1 1 1 1 1 1\n",
            " 0 1 1 0 1 1 1 1 0 0 0 1 0 1 1 0 1 1 1 0 0 0 1 0 0 0 1 0 1 0 1 0 1 0 1 1 0\n",
            " 0 1 1 0 0 1 0 1 1 0 1 1 0 0 1 1 1 1 1 1 0 0 1 1 1 0 1 0 1 0 1 1 0 1 1 0 1\n",
            " 0 1 0 0 1 1 0 1 0 1 1 1 0 1 1 1 1 1 1 1 1 1 0 1 0 1 0 0 1 1 1 1 0 0 0 1 0\n",
            " 1 1 1 1 1 1 1 0 0 1 0 0 0 1 1 1 1 1 0 1 1 1 0 1 1 1 1 0 0 1 0 1 0 1 1 1 1\n",
            " 1 0 0 1 1 1 1 0 1 1 0 0 0 1 1 1 1 0 1 0 1 1 1 1 0 1 1 1 0 0 0 1 0 1 1 1 1\n",
            " 0 1 0 0 1 0 1 1 0 1 0 1 1 1 1 1 1 1 1 1 1 0 0 1 1 0 1 1 0 0 1 1 1 0 1 1 1\n",
            " 0 0 1 0 1 1 1 0 0 1 1 1 0 0 0 1 1 1 1 1 0 1 1 1 1 1 0 0 0 0 1 0 1 0 1 1 1\n",
            " 1 0 0 1 0 0 0 1 0 0 0 1 1 0 1 1 1 1 1 0 1 1 0 1 1 1 1 0 0 1 1 1 0 0 0 1 0\n",
            " 0 1 1 1 0 1 1 1 1 0 1 1 1 0 1 1 0 1 1 1 1 1 1 1 1 1 0 0 1 1 1 0 0 1 0 1 0\n",
            " 0 0 1 1 0 0 1 1 0 1 1 1 1 1 1 1 0 0 1 1 1 0 1 1 1 1 0 1 1 1 0 1 1 1 0 1 0\n",
            " 0 1 1 0 0 1 0 1 1 1 1 1 0 0 1 0 0 1 0 1 0 0 0 1 0 1 1 0 0 1 0 1 1 1 0 0 1\n",
            " 1 1 1 0 0 1 0 0 1 0 1 0 1 1 1 1 0 1 0 0 1 0 1 1 1 1 1 1 1 1 0 1 0 1 1 0 1\n",
            " 1 0 0 1 1 1 0 1 1 1 1 0 1 1 1 1 1 1 1 0 1 0 1 0 0 1 1 1 1 1 0 0 0 1 0 1 1\n",
            " 1 1 0 1 0 0 0 0 1 0 0]\n"
          ]
        }
      ],
      "source": [
        "X_test = minmax.fit_transform(X_test)\n",
        "y_pred = clf.predict(X_test)\n",
        "print(y_pred)"
      ]
    },
    {
      "cell_type": "code",
      "source": [
        "print('------------- Evaluation on Test Data ------------------')\n",
        "score_test = clf.score(X_test, y_test)\n",
        "print('Accuracy Score: ', score_test)\n",
        "print(classification_report(y_test, y_pred))\n",
        "print('---------------------------------------------------------')\n",
        "print('------------- Evaluation on Training Data ---------------')\n",
        "score_train = clf.score(X_train, y_train)\n",
        "print('Accuracy Score: ', score_train)\n",
        "print(classification_report(y_train, ypred_train))\n",
        "print('--------------------------------------------------------')"
      ],
      "metadata": {
        "colab": {
          "base_uri": "https://localhost:8080/"
        },
        "outputId": "df659279-5702-46e6-8830-06a484f6eeee",
        "id": "Vg3dVOyWPpOy"
      },
      "execution_count": null,
      "outputs": [
        {
          "output_type": "stream",
          "name": "stdout",
          "text": [
            "------------- Evaluation on Test Data ------------------\n",
            "Accuracy Score:  0.6388888888888888\n",
            "              precision    recall  f1-score   support\n",
            "\n",
            "           0       0.96      0.51      0.66       658\n",
            "           1       0.45      0.95      0.61       278\n",
            "\n",
            "    accuracy                           0.64       936\n",
            "   macro avg       0.71      0.73      0.64       936\n",
            "weighted avg       0.81      0.64      0.65       936\n",
            "\n",
            "---------------------------------------------------------\n",
            "------------- Evaluation on Training Data ---------------\n",
            "Accuracy Score:  0.7441860465116279\n",
            "              precision    recall  f1-score   support\n",
            "\n",
            "           0       0.89      0.56      0.68       387\n",
            "           1       0.68      0.93      0.78       387\n",
            "\n",
            "    accuracy                           0.74       774\n",
            "   macro avg       0.78      0.74      0.73       774\n",
            "weighted avg       0.78      0.74      0.73       774\n",
            "\n",
            "--------------------------------------------------------\n"
          ]
        }
      ]
    },
    {
      "cell_type": "code",
      "execution_count": null,
      "metadata": {
        "colab": {
          "base_uri": "https://localhost:8080/"
        },
        "outputId": "d4876c74-adb3-4047-a196-70ee1f15f493",
        "id": "VZ0Q5otePpOz"
      },
      "outputs": [
        {
          "output_type": "stream",
          "name": "stdout",
          "text": [
            "[[4.47054502e-02 1.90523941e-02 1.38605194e-02 ... 6.90000000e-03\n",
            "  8.77777778e-02 1.64442173e-02]\n",
            " [4.71334841e-01 5.40862372e-01 3.56580099e-01 ... 7.41500000e-02\n",
            "  8.57476636e-02 8.31506729e-03]\n",
            " [1.29861368e-01 1.53171221e-01 1.42398599e-01 ... 1.62000000e-02\n",
            "  0.00000000e+00 7.61984375e-03]\n",
            " ...\n",
            " [6.76262887e-01 4.25169215e-01 3.21709950e-01 ... 1.84500000e-02\n",
            "  1.38364462e-01 1.25463435e-02]\n",
            " [0.00000000e+00 0.00000000e+00 0.00000000e+00 ... 0.00000000e+00\n",
            "  0.00000000e+00 0.00000000e+00]\n",
            " [6.25897166e-04 0.00000000e+00 0.00000000e+00 ... 0.00000000e+00\n",
            "  0.00000000e+00 0.00000000e+00]]\n"
          ]
        }
      ],
      "source": [
        "print(X_test)"
      ]
    },
    {
      "cell_type": "code",
      "execution_count": null,
      "metadata": {
        "colab": {
          "base_uri": "https://localhost:8080/",
          "height": 314
        },
        "outputId": "5dd361c7-cfc7-4438-9752-c96c5f3a8611",
        "id": "eIu5XuNMPpO1"
      },
      "outputs": [
        {
          "output_type": "stream",
          "name": "stdout",
          "text": [
            "[[333 325]\n",
            " [ 13 265]]\n"
          ]
        },
        {
          "output_type": "display_data",
          "data": {
            "text/plain": [
              "<Figure size 432x288 with 2 Axes>"
            ],
            "image/png": "[encoded data removed]"
          },
          "metadata": {
            "needs_background": "light"
          }
        }
      ],
      "source": [
        "print(confusion_matrix(y_test, y_pred))\n",
        "\n",
        "# Display Confusion Matrix\n",
        "ConfusionMatrixDisplay.from_estimator(clf, X_test, y_test, display_labels=class_names)\n",
        "plt.show()"
      ]
    },
    {
      "cell_type": "code",
      "source": [
        "accuracy = format(clf.score(X_test, y_test) * 100, '.2f')\n",
        "recall = format(recall_score(y_test, y_pred) * 100, '.2f')\n",
        "f1_score = format(f1_score(y_test, y_pred) * 100, '.2f')"
      ],
      "metadata": {
        "id": "oGoLTgOCPpO2"
      },
      "execution_count": null,
      "outputs": []
    },
    {
      "cell_type": "code",
      "source": [
        "print(f\"Accuracy of the classifier is: {accuracy}%\")\n",
        "print(f\"Recall Score of the classifier is: {recall}%\")\n",
        "print(f\"F1 Score of the classifier is: {f1_score}%\")"
      ],
      "metadata": {
        "colab": {
          "base_uri": "https://localhost:8080/"
        },
        "outputId": "8e075774-abb2-45bc-9409-6c92adce67e7",
        "id": "bK0rWj0zPpO3"
      },
      "execution_count": null,
      "outputs": [
        {
          "output_type": "stream",
          "name": "stdout",
          "text": [
            "Accuracy of the classifier is: 63.89%\n",
            "Recall Score of the classifier is: 95.32%\n",
            "F1 Score of the classifier is: 61.06%\n"
          ]
        }
      ]
    },
    {
      "cell_type": "markdown",
      "source": [
        "# **SAVE CLASSIFIER**"
      ],
      "metadata": {
        "id": "KM3nDtlLukMV"
      }
    },
    {
      "cell_type": "code",
      "source": [
        "with open('clf_pkl', 'wb') as files:\n",
        "    pickle.dump(clf, files)\n",
        "with open('clf_pkl', 'rb') as f:\n",
        "    classifier = pickle.load(f)\n",
        "classifier.predict(X_test)"
      ],
      "metadata": {
        "colab": {
          "base_uri": "https://localhost:8080/"
        },
        "outputId": "0939d06b-8bdf-47d2-afae-b33759be6c43",
        "id": "B1-ul70lPpO6"
      },
      "execution_count": null,
      "outputs": [
        {
          "output_type": "execute_result",
          "data": {
            "text/plain": [
              "array([0, 1, 1, 1, 1, 0, 0, 1, 0, 1, 0, 1, 1, 1, 0, 1, 1, 0, 0, 1, 0, 1,\n",
              "       0, 0, 1, 0, 1, 1, 0, 1, 1, 0, 1, 1, 1, 1, 1, 0, 1, 1, 1, 0, 1, 0,\n",
              "       0, 0, 1, 1, 1, 1, 0, 1, 0, 1, 1, 1, 0, 1, 1, 0, 1, 1, 0, 1, 1, 0,\n",
              "       1, 1, 1, 1, 0, 1, 1, 1, 1, 1, 1, 0, 0, 1, 1, 1, 1, 0, 0, 1, 0, 1,\n",
              "       0, 0, 1, 1, 0, 0, 1, 0, 1, 0, 0, 1, 1, 0, 0, 1, 0, 0, 1, 0, 0, 1,\n",
              "       1, 1, 0, 1, 0, 1, 0, 1, 1, 1, 1, 1, 0, 1, 1, 0, 1, 1, 0, 1, 1, 1,\n",
              "       1, 1, 1, 1, 1, 1, 0, 0, 0, 1, 0, 1, 1, 0, 0, 1, 1, 1, 0, 1, 0, 1,\n",
              "       0, 1, 0, 1, 1, 1, 1, 1, 0, 1, 1, 0, 1, 1, 0, 1, 1, 1, 1, 1, 1, 0,\n",
              "       1, 1, 0, 1, 0, 1, 1, 0, 1, 0, 1, 0, 1, 0, 1, 1, 0, 0, 0, 1, 1, 1,\n",
              "       1, 0, 1, 0, 0, 0, 1, 1, 1, 0, 0, 0, 1, 1, 0, 1, 1, 0, 1, 1, 0, 0,\n",
              "       0, 1, 0, 1, 1, 1, 1, 1, 1, 1, 1, 0, 0, 1, 1, 1, 0, 1, 1, 0, 1, 0,\n",
              "       1, 1, 1, 0, 0, 1, 1, 0, 1, 1, 1, 1, 1, 0, 0, 0, 0, 1, 1, 1, 1, 0,\n",
              "       1, 1, 1, 0, 1, 1, 1, 1, 1, 1, 1, 0, 1, 1, 1, 0, 1, 1, 1, 1, 1, 1,\n",
              "       0, 0, 1, 1, 0, 1, 1, 0, 1, 1, 0, 1, 0, 1, 1, 1, 1, 1, 1, 0, 0, 1,\n",
              "       1, 1, 0, 1, 1, 1, 0, 1, 1, 0, 1, 0, 1, 0, 1, 1, 0, 1, 1, 1, 1, 1,\n",
              "       1, 0, 0, 1, 1, 0, 0, 0, 1, 1, 0, 0, 1, 0, 0, 1, 1, 1, 0, 0, 0, 0,\n",
              "       0, 1, 1, 1, 1, 1, 0, 1, 1, 1, 1, 0, 0, 1, 0, 1, 1, 1, 1, 1, 1, 1,\n",
              "       1, 1, 1, 1, 1, 1, 1, 0, 1, 0, 0, 0, 0, 1, 1, 0, 0, 0, 1, 0, 0, 0,\n",
              "       0, 1, 1, 1, 1, 1, 0, 1, 1, 0, 1, 1, 1, 1, 1, 1, 1, 1, 0, 1, 1, 0,\n",
              "       0, 0, 0, 0, 1, 1, 1, 1, 0, 1, 1, 1, 1, 1, 0, 1, 0, 1, 0, 0, 1, 1,\n",
              "       1, 1, 1, 1, 0, 1, 1, 0, 1, 1, 1, 1, 0, 0, 0, 1, 0, 1, 1, 0, 1, 1,\n",
              "       1, 0, 0, 0, 1, 0, 0, 0, 1, 0, 1, 0, 1, 0, 1, 0, 1, 1, 0, 0, 1, 1,\n",
              "       0, 0, 1, 0, 1, 1, 0, 1, 1, 0, 0, 1, 1, 1, 1, 1, 1, 0, 0, 1, 1, 1,\n",
              "       0, 1, 0, 1, 0, 1, 1, 0, 1, 1, 0, 1, 0, 1, 0, 0, 1, 1, 0, 1, 0, 1,\n",
              "       1, 1, 0, 1, 1, 1, 1, 1, 1, 1, 1, 1, 0, 1, 0, 1, 0, 0, 1, 1, 1, 1,\n",
              "       0, 0, 0, 1, 0, 1, 1, 1, 1, 1, 1, 1, 0, 0, 1, 0, 0, 0, 1, 1, 1, 1,\n",
              "       1, 0, 1, 1, 1, 0, 1, 1, 1, 1, 0, 0, 1, 0, 1, 0, 1, 1, 1, 1, 1, 0,\n",
              "       0, 1, 1, 1, 1, 0, 1, 1, 0, 0, 0, 1, 1, 1, 1, 0, 1, 0, 1, 1, 1, 1,\n",
              "       0, 1, 1, 1, 0, 0, 0, 1, 0, 1, 1, 1, 1, 0, 1, 0, 0, 1, 0, 1, 1, 0,\n",
              "       1, 0, 1, 1, 1, 1, 1, 1, 1, 1, 1, 1, 0, 0, 1, 1, 0, 1, 1, 0, 0, 1,\n",
              "       1, 1, 0, 1, 1, 1, 0, 0, 1, 0, 1, 1, 1, 0, 0, 1, 1, 1, 0, 0, 0, 1,\n",
              "       1, 1, 1, 1, 0, 1, 1, 1, 1, 1, 0, 0, 0, 0, 1, 0, 1, 0, 1, 1, 1, 1,\n",
              "       0, 0, 1, 0, 0, 0, 1, 0, 0, 0, 1, 1, 0, 1, 1, 1, 1, 1, 0, 1, 1, 0,\n",
              "       1, 1, 1, 1, 0, 0, 1, 1, 1, 0, 0, 0, 1, 0, 0, 1, 1, 1, 0, 1, 1, 1,\n",
              "       1, 0, 1, 1, 1, 0, 1, 1, 0, 1, 1, 1, 1, 1, 1, 1, 1, 1, 0, 0, 1, 1,\n",
              "       1, 0, 0, 1, 0, 1, 0, 0, 0, 1, 1, 0, 0, 1, 1, 0, 1, 1, 1, 1, 1, 1,\n",
              "       1, 0, 0, 1, 1, 1, 0, 1, 1, 1, 1, 0, 1, 1, 1, 0, 1, 1, 1, 0, 1, 0,\n",
              "       0, 1, 1, 0, 0, 1, 0, 1, 1, 1, 1, 1, 0, 0, 1, 0, 0, 1, 0, 1, 0, 0,\n",
              "       0, 1, 0, 1, 1, 0, 0, 1, 0, 1, 1, 1, 0, 0, 1, 1, 1, 1, 0, 0, 1, 0,\n",
              "       0, 1, 0, 1, 0, 1, 1, 1, 1, 0, 1, 0, 0, 1, 0, 1, 1, 1, 1, 1, 1, 1,\n",
              "       1, 0, 1, 0, 1, 1, 0, 1, 1, 0, 0, 1, 1, 1, 0, 1, 1, 1, 1, 0, 1, 1,\n",
              "       1, 1, 1, 1, 1, 0, 1, 0, 1, 0, 0, 1, 1, 1, 1, 1, 0, 0, 0, 1, 0, 1,\n",
              "       1, 1, 1, 0, 1, 0, 0, 0, 0, 1, 0, 0])"
            ]
          },
          "metadata": {},
          "execution_count": 42
        }
      ]
    }
  ]
}